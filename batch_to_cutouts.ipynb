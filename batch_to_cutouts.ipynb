{
 "cells": [
  {
   "cell_type": "code",
   "execution_count": 1,
   "metadata": {},
   "outputs": [],
   "source": [
    "import pandas as pd\n",
    "from pathlib import Path\n",
    "from semif_utils import get_images, save_metadata, read_metadata\n",
    "import dataclasses\n",
    "from tqdm import tqdm\n",
    "from datasets import BatchMetadata, ImageData, EnvironmentalMetadata, BatchImageList"
   ]
  },
  {
   "cell_type": "code",
   "execution_count": 2,
   "metadata": {},
   "outputs": [],
   "source": [
    "from chinmay_dummy_data.bbox.connectors import SfMComponents, BBoxComponents\n",
    "from chinmay_dummy_data.bbox.bbox_transformations import BBoxMapper, BBoxFilter\n",
    "from chinmay_dummy_data.bbox.io_utils import ParseXML\n",
    "import os"
   ]
  },
  {
   "cell_type": "code",
   "execution_count": 3,
   "metadata": {},
   "outputs": [],
   "source": [
    "image_dir = \"data/semif-trial\"\n",
    "batch_metadata = Path(image_dir, \"batch_metadata.yaml\")"
   ]
  },
  {
   "cell_type": "code",
   "execution_count": 4,
   "metadata": {},
   "outputs": [],
   "source": [
    "bmeta = read_batch_metadata(batch_metadata)\n",
    "env_meta = EnvironmentalMetadata(site_id=bmeta[\"location\"])\n",
    "batch_meta = BatchMetadata(site_id=bmeta[\"location\"],upload_dir=image_dir, upload_datetime=bmeta[\"date\"], env_metadata=env_meta)\n",
    "images = BatchImageList( batch_metadata=batch_meta)"
   ]
  },
  {
   "cell_type": "code",
   "execution_count": 5,
   "metadata": {},
   "outputs": [],
   "source": [
    "base_path = \"chinmay_dummy_data/exports/semif-trial/reference\"\n",
    "connector = SfMComponents(base_path)\n",
    "gcp_reference = connector.gcp_reference\n",
    "camera_reference = connector.camera_reference\n",
    "image_path = \"chinmay_dummy_data/exports/semif-trial/semif-trial/\"\n",
    "orthomosaic_path = \"chinmay_dummy_data/exports/semif-trial/images/orthomosaic.tif\"\n",
    "annotation_file_path = \"chinmay_dummy_data/exports/semif-trial/annotations\"\n",
    "metadata_save_path = \"chinmay_dummy_data/exports/semif-trial/metadata\"\n",
    "if not os.path.exists(metadata_save_path):\n",
    "    os.makedirs(metadata_save_path)"
   ]
  },
  {
   "cell_type": "code",
   "execution_count": 6,
   "metadata": {},
   "outputs": [],
   "source": [
    "# Initialize the reader which will read the annotation files and convert the bounding\n",
    "# boxes to the desired format\n",
    "reader = ParseXML(image_path=image_path, label_path=annotation_file_path)"
   ]
  },
  {
   "cell_type": "code",
   "execution_count": 7,
   "metadata": {},
   "outputs": [],
   "source": [
    "# Initialize the connector and get a list of all the images\n",
    "box_connector = BBoxComponents(camera_reference, reader, image_path, annotation_file_path)\n",
    "boxes = box_connector.bboxes\n"
   ]
  },
  {
   "cell_type": "code",
   "execution_count": 8,
   "metadata": {},
   "outputs": [],
   "source": [
    "images = get_images(image_dir, sort=True)\n",
    "image_ids = [image.stem for image in images]\n",
    "image_list = [{\n",
    "            \"id\": image_id,\n",
    "            \"path\": str(path)\n",
    "        } for image_id, path in zip(image_ids, images)]\n",
    "imgs = []\n",
    "for img in image_list:\n",
    "    id = img[\"id\"]\n",
    "    path = img[\"path\"]\n",
    "    bboxes = boxes[id]\n",
    "    img = ImageData(image_id=id, image_path=path, upload_id=batch_meta.upload_id, bboxes=bboxes)\n",
    "    imgs.append(img)\n",
    "\n",
    "    "
   ]
  },
  {
   "cell_type": "code",
   "execution_count": 11,
   "metadata": {},
   "outputs": [
    {
     "data": {
      "text/plain": [
       "{'image_id': 'row4_3',\n",
       " 'image_path': 'data/semif-trial/row4_3.jpg',\n",
       " 'batch_metadata': {'site_id': 'tx',\n",
       "  'upload_datetime': datetime.date(2022, 5, 6),\n",
       "  'upload_dir': 'data/semif-trial',\n",
       "  'env_metadata': {'site_id': 'tx',\n",
       "   'hardiness_zone': '8b',\n",
       "   'humidity': None,\n",
       "   'precipitation': None},\n",
       "  'upload_id': 'ab694b63-9748-4c6e-bfb4-dabcef787a67',\n",
       "  'schema_version': 'v1'},\n",
       " 'bboxes': [{'id': 'row4_3_0',\n",
       "   'image_id': 'row4_3',\n",
       "   'cls': 'target 3',\n",
       "   'local_coordinates': {'top_left': array([344.,   1.]),\n",
       "    'top_right': array([1.694e+03, 1.000e+00]),\n",
       "    'bottom_left': array([344., 867.]),\n",
       "    'bottom_right': array([1694.,  867.])},\n",
       "   'global_coordinates': {'top_left': array([], dtype=float64),\n",
       "    'top_right': array([], dtype=float64),\n",
       "    'bottom_left': array([], dtype=float64),\n",
       "    'bottom_right': array([], dtype=float64)},\n",
       "   'local_centroid': array([1019.,  434.]),\n",
       "   'global_centroid': array([], dtype=float64),\n",
       "   'is_primary': False},\n",
       "  {'id': 'row4_3_1',\n",
       "   'image_id': 'row4_3',\n",
       "   'cls': 'target 4',\n",
       "   'local_coordinates': {'top_left': array([1684.,    2.]),\n",
       "    'top_right': array([3.016e+03, 2.000e+00]),\n",
       "    'bottom_left': array([1684., 1070.]),\n",
       "    'bottom_right': array([3016., 1070.])},\n",
       "   'global_coordinates': {'top_left': array([], dtype=float64),\n",
       "    'top_right': array([], dtype=float64),\n",
       "    'bottom_left': array([], dtype=float64),\n",
       "    'bottom_right': array([], dtype=float64)},\n",
       "   'local_centroid': array([2350.,  536.]),\n",
       "   'global_centroid': array([], dtype=float64),\n",
       "   'is_primary': False},\n",
       "  {'id': 'row4_3_2',\n",
       "   'image_id': 'row4_3',\n",
       "   'cls': 'target 6',\n",
       "   'local_coordinates': {'top_left': array([294., 835.]),\n",
       "    'top_right': array([1809.,  835.]),\n",
       "    'bottom_left': array([ 294., 2195.]),\n",
       "    'bottom_right': array([1809., 2195.])},\n",
       "   'global_coordinates': {'top_left': array([], dtype=float64),\n",
       "    'top_right': array([], dtype=float64),\n",
       "    'bottom_left': array([], dtype=float64),\n",
       "    'bottom_right': array([], dtype=float64)},\n",
       "   'local_centroid': array([1051.5, 1515. ]),\n",
       "   'global_centroid': array([], dtype=float64),\n",
       "   'is_primary': False},\n",
       "  {'id': 'row4_3_3',\n",
       "   'image_id': 'row4_3',\n",
       "   'cls': 'target 8',\n",
       "   'local_coordinates': {'top_left': array([ 119., 2310.]),\n",
       "    'top_right': array([1462., 2310.]),\n",
       "    'bottom_left': array([ 119., 3184.]),\n",
       "    'bottom_right': array([1462., 3184.])},\n",
       "   'global_coordinates': {'top_left': array([], dtype=float64),\n",
       "    'top_right': array([], dtype=float64),\n",
       "    'bottom_left': array([], dtype=float64),\n",
       "    'bottom_right': array([], dtype=float64)},\n",
       "   'local_centroid': array([ 790.5, 2747. ]),\n",
       "   'global_centroid': array([], dtype=float64),\n",
       "   'is_primary': False},\n",
       "  {'id': 'row4_3_4',\n",
       "   'image_id': 'row4_3',\n",
       "   'cls': 'target 9',\n",
       "   'local_coordinates': {'top_left': array([1601., 1013.]),\n",
       "    'top_right': array([2891., 1013.]),\n",
       "    'bottom_left': array([1601., 2381.]),\n",
       "    'bottom_right': array([2891., 2381.])},\n",
       "   'global_coordinates': {'top_left': array([], dtype=float64),\n",
       "    'top_right': array([], dtype=float64),\n",
       "    'bottom_left': array([], dtype=float64),\n",
       "    'bottom_right': array([], dtype=float64)},\n",
       "   'local_centroid': array([2246., 1697.]),\n",
       "   'global_centroid': array([], dtype=float64),\n",
       "   'is_primary': False},\n",
       "  {'id': 'row4_3_5',\n",
       "   'image_id': 'row4_3',\n",
       "   'cls': 'target 10',\n",
       "   'local_coordinates': {'top_left': array([1416., 2335.]),\n",
       "    'top_right': array([2923., 2335.]),\n",
       "    'bottom_left': array([1416., 3184.]),\n",
       "    'bottom_right': array([2923., 3184.])},\n",
       "   'global_coordinates': {'top_left': array([], dtype=float64),\n",
       "    'top_right': array([], dtype=float64),\n",
       "    'bottom_left': array([], dtype=float64),\n",
       "    'bottom_right': array([], dtype=float64)},\n",
       "   'local_centroid': array([2169.5, 2759.5]),\n",
       "   'global_centroid': array([], dtype=float64),\n",
       "   'is_primary': False}],\n",
       " 'camera_data': None,\n",
       " 'normalize_dims': False,\n",
       " 'width': 4796,\n",
       " 'height': 3184}"
      ]
     },
     "execution_count": 11,
     "metadata": {},
     "output_type": "execute_result"
    }
   ],
   "source": [
    "ex = dataclasses.asdict(imgs[20])\n",
    "ex\n",
    "\n",
    "# save_metadata(ex, \"test.json\")"
   ]
  },
  {
   "cell_type": "code",
   "execution_count": 31,
   "metadata": {},
   "outputs": [
    {
     "name": "stdout",
     "output_type": "stream",
     "text": [
      "<class 'dict'>\n"
     ]
    }
   ],
   "source": [
    "import inspect\n",
    "print(type(boxes))\n",
    "# inspect.getmembers(box_connector, lambda a:not(inspect.isroutine(a)))"
   ]
  }
 ],
 "metadata": {
  "interpreter": {
   "hash": "59b627dbbc37ebbb1d7be1ff42181d533d94977a5210449e7ff5229441e2702b"
  },
  "kernelspec": {
   "display_name": "Python 3.9.12 ('autoann')",
   "language": "python",
   "name": "python3"
  },
  "language_info": {
   "codemirror_mode": {
    "name": "ipython",
    "version": 3
   },
   "file_extension": ".py",
   "mimetype": "text/x-python",
   "name": "python",
   "nbconvert_exporter": "python",
   "pygments_lexer": "ipython3",
   "version": "3.10.4"
  },
  "orig_nbformat": 4
 },
 "nbformat": 4,
 "nbformat_minor": 2
}
