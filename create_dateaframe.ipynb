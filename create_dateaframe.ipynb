{
 "cells": [
  {
   "cell_type": "code",
   "execution_count": 3,
   "metadata": {},
   "outputs": [],
   "source": [
    "from pathlib import Path\n",
    "import pandas as pd\n",
    "import uuid\n",
    "import shutil"
   ]
  },
  {
   "cell_type": "code",
   "execution_count": 12,
   "metadata": {},
   "outputs": [
    {
     "data": {
      "text/html": [
       "<div>\n",
       "<style scoped>\n",
       "    .dataframe tbody tr th:only-of-type {\n",
       "        vertical-align: middle;\n",
       "    }\n",
       "\n",
       "    .dataframe tbody tr th {\n",
       "        vertical-align: top;\n",
       "    }\n",
       "\n",
       "    .dataframe thead th {\n",
       "        text-align: right;\n",
       "    }\n",
       "</style>\n",
       "<table border=\"1\" class=\"dataframe\">\n",
       "  <thead>\n",
       "    <tr style=\"text-align: right;\">\n",
       "      <th></th>\n",
       "      <th>weeks</th>\n",
       "      <th>rows</th>\n",
       "      <th>stops</th>\n",
       "      <th>date</th>\n",
       "      <th>time</th>\n",
       "      <th>file_name</th>\n",
       "      <th>uuid</th>\n",
       "    </tr>\n",
       "  </thead>\n",
       "  <tbody>\n",
       "    <tr>\n",
       "      <th>0</th>\n",
       "      <td>5</td>\n",
       "      <td>9</td>\n",
       "      <td>7</td>\n",
       "      <td>20210422</td>\n",
       "      <td>110448</td>\n",
       "      <td>wk5_row9_stop7_20210422_110448_rgb.png</td>\n",
       "      <td>48f4aeb4-ee3f-4ad9-9b8d-8df7e3691212</td>\n",
       "    </tr>\n",
       "    <tr>\n",
       "      <th>1</th>\n",
       "      <td>6</td>\n",
       "      <td>10</td>\n",
       "      <td>16</td>\n",
       "      <td>20210429</td>\n",
       "      <td>190311</td>\n",
       "      <td>wk6_row10_stop16_20210429_190311_rgb.png</td>\n",
       "      <td>c8190732-4f1e-48a1-a50d-45c84ab5e164</td>\n",
       "    </tr>\n",
       "    <tr>\n",
       "      <th>2</th>\n",
       "      <td>4</td>\n",
       "      <td>3</td>\n",
       "      <td>2</td>\n",
       "      <td>20210414</td>\n",
       "      <td>111908</td>\n",
       "      <td>wk4_row3_stop2_20210414_111908_rgb.png</td>\n",
       "      <td>13eedb30-0413-4e9c-84f2-0495a1c7ed43</td>\n",
       "    </tr>\n",
       "    <tr>\n",
       "      <th>3</th>\n",
       "      <td>4</td>\n",
       "      <td>6</td>\n",
       "      <td>16</td>\n",
       "      <td>20210414</td>\n",
       "      <td>123604</td>\n",
       "      <td>wk4_row6_stop16_20210414_123604_rgb.png</td>\n",
       "      <td>e1f5ab57-d454-4ce0-8c5c-b43eef6e637b</td>\n",
       "    </tr>\n",
       "    <tr>\n",
       "      <th>4</th>\n",
       "      <td>4</td>\n",
       "      <td>5</td>\n",
       "      <td>7</td>\n",
       "      <td>20210414</td>\n",
       "      <td>120343</td>\n",
       "      <td>wk4_row5_stop7_20210414_120343_rgb.png</td>\n",
       "      <td>c9fd8646-bf6f-4234-80b4-f84d319f211a</td>\n",
       "    </tr>\n",
       "  </tbody>\n",
       "</table>\n",
       "</div>"
      ],
      "text/plain": [
       "  weeks rows stops      date    time  \\\n",
       "0     5    9     7  20210422  110448   \n",
       "1     6   10    16  20210429  190311   \n",
       "2     4    3     2  20210414  111908   \n",
       "3     4    6    16  20210414  123604   \n",
       "4     4    5     7  20210414  120343   \n",
       "\n",
       "                                  file_name  \\\n",
       "0    wk5_row9_stop7_20210422_110448_rgb.png   \n",
       "1  wk6_row10_stop16_20210429_190311_rgb.png   \n",
       "2    wk4_row3_stop2_20210414_111908_rgb.png   \n",
       "3   wk4_row6_stop16_20210414_123604_rgb.png   \n",
       "4    wk4_row5_stop7_20210414_120343_rgb.png   \n",
       "\n",
       "                                   uuid  \n",
       "0  48f4aeb4-ee3f-4ad9-9b8d-8df7e3691212  \n",
       "1  c8190732-4f1e-48a1-a50d-45c84ab5e164  \n",
       "2  13eedb30-0413-4e9c-84f2-0495a1c7ed43  \n",
       "3  e1f5ab57-d454-4ce0-8c5c-b43eef6e637b  \n",
       "4  c9fd8646-bf6f-4234-80b4-f84d319f211a  "
      ]
     },
     "execution_count": 12,
     "metadata": {},
     "output_type": "execute_result"
    }
   ],
   "source": [
    "data_dir = Path(\"data/sample\").rglob(\"*\")\n",
    "data_dir = [str(x.name) for x in data_dir]\n",
    "# Without week 1 data\n",
    "data_dir = [x for x in data_dir if not x.startswith((\"wk1\", \"wk2\"))]\n",
    "\n",
    "data_id = pd.DataFrame(data_dir)\n",
    "data = [x.split(\"_\") for x in data_dir]\n",
    "df = pd.DataFrame(data, columns=[\"weeks\", \"rows\", \"stops\", \"date\", \"time\", \"type\"])\n",
    "df[\"file_name\"] = data_dir\n",
    "df['uuid'] = [str(uuid.uuid4()) for _ in range(len(df.index))]\n",
    "df[\"weeks\"] = df[\"weeks\"].str.replace(\"wk\", \"\")\n",
    "df[\"rows\"] = df[\"rows\"].str.replace(\"row\", \"\")\n",
    "df[\"stops\"] = df[\"stops\"].str.replace(\"stop\", \"\")\n",
    "df = df[[\"weeks\", \"rows\", \"stops\", \"date\", \"time\", \"file_name\", \"uuid\"]]\n",
    "# df.to_csv(\"data/sample_data.csv\", index=False)\n",
    "df.head()"
   ]
  },
  {
   "cell_type": "markdown",
   "metadata": {},
   "source": [
    "# Create UUID for test images and move to another folder (working_sample)"
   ]
  },
  {
   "cell_type": "code",
   "execution_count": 1,
   "metadata": {},
   "outputs": [
    {
     "ename": "NameError",
     "evalue": "name 'df' is not defined",
     "output_type": "error",
     "traceback": [
      "\u001b[0;31m---------------------------------------------------------------------------\u001b[0m",
      "\u001b[0;31mNameError\u001b[0m                                 Traceback (most recent call last)",
      "\u001b[1;32m/home/admin_mkutugata/SemiF-AnnotationPipeline/create_dateaframe.ipynb Cell 4'\u001b[0m in \u001b[0;36m<module>\u001b[0;34m\u001b[0m\n\u001b[1;32m      <a href='vscode-notebook-cell:/home/admin_mkutugata/SemiF-AnnotationPipeline/create_dateaframe.ipynb#ch0000003?line=0'>1</a>\u001b[0m src_dir \u001b[39m=\u001b[39m \u001b[39m\"\u001b[39m\u001b[39mdata/sample\u001b[39m\u001b[39m\"\u001b[39m\n\u001b[1;32m      <a href='vscode-notebook-cell:/home/admin_mkutugata/SemiF-AnnotationPipeline/create_dateaframe.ipynb#ch0000003?line=1'>2</a>\u001b[0m dst_dir \u001b[39m=\u001b[39m \u001b[39m\"\u001b[39m\u001b[39mdata/working_sample\u001b[39m\u001b[39m\"\u001b[39m\n\u001b[0;32m----> <a href='vscode-notebook-cell:/home/admin_mkutugata/SemiF-AnnotationPipeline/create_dateaframe.ipynb#ch0000003?line=2'>3</a>\u001b[0m \u001b[39mfor\u001b[39;00m fname, uid \u001b[39min\u001b[39;00m \u001b[39mzip\u001b[39m(\u001b[39mlist\u001b[39m(df[\u001b[39m\"\u001b[39m\u001b[39mfile_name\u001b[39m\u001b[39m\"\u001b[39m]), \u001b[39mlist\u001b[39m(df[\u001b[39m\"\u001b[39m\u001b[39muuid\u001b[39m\u001b[39m\"\u001b[39m])):\n\u001b[1;32m      <a href='vscode-notebook-cell:/home/admin_mkutugata/SemiF-AnnotationPipeline/create_dateaframe.ipynb#ch0000003?line=3'>4</a>\u001b[0m     src_p \u001b[39m=\u001b[39m Path(src_dir, fname)\n\u001b[1;32m      <a href='vscode-notebook-cell:/home/admin_mkutugata/SemiF-AnnotationPipeline/create_dateaframe.ipynb#ch0000003?line=4'>5</a>\u001b[0m     dst_name \u001b[39m=\u001b[39m uid \u001b[39m+\u001b[39m \u001b[39m\"\u001b[39m\u001b[39m.png\u001b[39m\u001b[39m\"\u001b[39m\n",
      "\u001b[0;31mNameError\u001b[0m: name 'df' is not defined"
     ]
    }
   ],
   "source": [
    "src_dir = \"data/sample\"\n",
    "dst_dir = \"data/working_sample\"\n",
    "for fname, uid in zip(list(df[\"file_name\"]), list(df[\"uuid\"])):\n",
    "    src_p = Path(src_dir, fname)\n",
    "    dst_name = uid + \".png\"\n",
    "    dst_p = Path(dst_dir, dst_name)\n",
    "    # shutil.copy(src_p, dst_p)\n",
    "    "
   ]
  },
  {
   "cell_type": "markdown",
   "metadata": {},
   "source": [
    "# Create test metadata csv"
   ]
  },
  {
   "cell_type": "code",
   "execution_count": 26,
   "metadata": {},
   "outputs": [],
   "source": [
    "import pandas as pd\n",
    "import uuid\n",
    "values = [[\"af6bdd8a-b99e-4975-a455-a59d9329c120\", \"02042022\",\"151425\", \"TX\", 1, 0.2 , \"partly cloudy\", 35]]\n",
    "df = pd.DataFrame(values, columns=[\"upload_id\",\t\"date\",\"time\",\t\"location\",\t\"camera_height\",\t\"pot_height\",\t\"cloud_cover\"\t,\"camera_lens\"])\n",
    "df.to_csv(\"data/sample_metadata.csv\", index=False)"
   ]
  },
  {
   "cell_type": "code",
   "execution_count": 27,
   "metadata": {},
   "outputs": [
    {
     "data": {
      "text/html": [
       "<div>\n",
       "<style scoped>\n",
       "    .dataframe tbody tr th:only-of-type {\n",
       "        vertical-align: middle;\n",
       "    }\n",
       "\n",
       "    .dataframe tbody tr th {\n",
       "        vertical-align: top;\n",
       "    }\n",
       "\n",
       "    .dataframe thead th {\n",
       "        text-align: right;\n",
       "    }\n",
       "</style>\n",
       "<table border=\"1\" class=\"dataframe\">\n",
       "  <thead>\n",
       "    <tr style=\"text-align: right;\">\n",
       "      <th></th>\n",
       "      <th>upload_id</th>\n",
       "      <th>date</th>\n",
       "      <th>time</th>\n",
       "      <th>location</th>\n",
       "      <th>camera_height</th>\n",
       "      <th>pot_height</th>\n",
       "      <th>cloud_cover</th>\n",
       "      <th>camera_lens</th>\n",
       "    </tr>\n",
       "  </thead>\n",
       "  <tbody>\n",
       "    <tr>\n",
       "      <th>0</th>\n",
       "      <td>af6bdd8a-b99e-4975-a455-a59d9329c120</td>\n",
       "      <td>02042022</td>\n",
       "      <td>151425</td>\n",
       "      <td>TX</td>\n",
       "      <td>1</td>\n",
       "      <td>0.2</td>\n",
       "      <td>partly cloudy</td>\n",
       "      <td>35</td>\n",
       "    </tr>\n",
       "  </tbody>\n",
       "</table>\n",
       "</div>"
      ],
      "text/plain": [
       "                              upload_id      date    time location  \\\n",
       "0  af6bdd8a-b99e-4975-a455-a59d9329c120  02042022  151425       TX   \n",
       "\n",
       "   camera_height  pot_height    cloud_cover  camera_lens  \n",
       "0              1         0.2  partly cloudy           35  "
      ]
     },
     "execution_count": 27,
     "metadata": {},
     "output_type": "execute_result"
    }
   ],
   "source": [
    "df"
   ]
  },
  {
   "cell_type": "code",
   "execution_count": 55,
   "metadata": {},
   "outputs": [
    {
     "data": {
      "text/plain": [
       "{'upload_id': 'af6bdd8a-b99e-4975-a455-a59d9329c120',\n",
       " 'date': 2042022,\n",
       " 'time': 151425,\n",
       " 'location': 'TX',\n",
       " 'camera_height': 1,\n",
       " 'pot_height': 0.2,\n",
       " 'cloud_cover': 'partly cloudy',\n",
       " 'camera_lens': 35}"
      ]
     },
     "execution_count": 55,
     "metadata": {},
     "output_type": "execute_result"
    }
   ],
   "source": [
    "# df = pd.read_csv(\"data/sample_metadata.csv\",header=None, index_col=None, squeeze=False).to_dict()\n",
    "df = pd.read_csv(\"data/sample_metadata.csv\").to_dict('records')[0]\n",
    "# df[\"date\"]\n",
    "df"
   ]
  },
  {
   "cell_type": "code",
   "execution_count": 62,
   "metadata": {},
   "outputs": [
    {
     "data": {
      "text/plain": [
       "{'upload_id': 'af6bdd8a-b99e-4975-a455-a59d9329c120',\n",
       " 'date': '02042022',\n",
       " 'time': '151425',\n",
       " 'location': 'TX',\n",
       " 'camera_height': '1',\n",
       " 'pot_height': '0.2',\n",
       " 'cloud_cover': 'partly cloudy',\n",
       " 'camera_lens': '35'}"
      ]
     },
     "execution_count": 62,
     "metadata": {},
     "output_type": "execute_result"
    }
   ],
   "source": [
    "import csv\n",
    "\n",
    "mydict = {}\n",
    "\n",
    "# with open(, mode='r') as inp:\n",
    "def csv2dict(csv_path):\n",
    "    with open(csv_path) as f:\n",
    "        reader = csv.DictReader(f)\n",
    "        result = {}\n",
    "        for row in reader:\n",
    "            for column, value in row.items():  # consider .iteritems() for Python 2\n",
    "                result[column] = value\n",
    "    return result\n",
    "csv2dict(\"data/sample_metadata.csv\")"
   ]
  },
  {
   "cell_type": "code",
   "execution_count": null,
   "metadata": {},
   "outputs": [],
   "source": []
  }
 ],
 "metadata": {
  "interpreter": {
   "hash": "0df1bc9a987a0f1e9d25f370d64b131098060c0e583eae0a4294faa1c9b664a9"
  },
  "kernelspec": {
   "display_name": "Python 3.8.12 ('aap')",
   "language": "python",
   "name": "python3"
  },
  "language_info": {
   "codemirror_mode": {
    "name": "ipython",
    "version": 3
   },
   "file_extension": ".py",
   "mimetype": "text/x-python",
   "name": "python",
   "nbconvert_exporter": "python",
   "pygments_lexer": "ipython3",
   "version": "3.8.12"
  },
  "orig_nbformat": 4
 },
 "nbformat": 4,
 "nbformat_minor": 2
}
