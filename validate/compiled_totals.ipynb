{
 "cells": [
  {
   "cell_type": "code",
   "execution_count": null,
   "metadata": {},
   "outputs": [],
   "source": [
    "import pandas as pd\n",
    "from pathlib import Path\n",
    "import sys\n",
    "import seaborn as sns\n",
    "import matplotlib.pyplot as plt\n",
    "import re\n",
    "from matplotlib.legend_handler import HandlerTuple\n",
    "from matplotlib.patches import Patch\n",
    "import numpy as np\n",
    "from pathlib import Path\n",
    "\n",
    "sys.path.append(\"/home/psa_images/SemiF-AnnotationPipeline\")\n",
    "sys.path.append(\"/home/psa_images/SemiF-AnnotationPipeline/segment\")\n",
    "from utils.viz import (\n",
    "    compile_cutout_csvs,\n",
    "    plot_processed_batches,\n",
    "    plot_images_by_state,\n",
    "    plot_sub_images,\n",
    "    plot_cutouts_by_state_and_season,\n",
    "    read_container_list_summary,\n",
    "    plot_images_by_location,\n",
    "    plot_sub_images_subplots,\n",
    "    custom_sort,\n",
    "    plot_cutouts_by_state_and_season_all\n",
    ")"
   ]
  },
  {
   "cell_type": "code",
   "execution_count": null,
   "metadata": {},
   "outputs": [],
   "source": [
    "# cutout_dir = Path(\n",
    "# \"/home/psa_images/SemiF-AnnotationPipeline/data/semifield-cutouts\")\n",
    "cutout_dir = Path(\"/mnt/research-projects/s/screberg/longterm_images/semifield-cutouts\")\n",
    "# batch_dir = f\"/mnt/research-projects/s/screberg/longterm_images/semifield-developed-images\"\n",
    "# df = compile_cutout_csvs(cutout_dir)\n",
    "df = pd.read_csv(\"./temp_compiled_data.csv\", low_memory=True )"
   ]
  },
  {
   "cell_type": "code",
   "execution_count": null,
   "metadata": {},
   "outputs": [],
   "source": [
    "import pandas as pd\n",
    "\n",
    "abbreviations = {\n",
    "    \"Common lambsquarters\": \"C. lambsquarters\",\n",
    "    \"Common ragweed\": \"C. ragweed\",\n",
    "    \"Crimson clover\": \"C. clover\",\n",
    "    \"Large crabgrass\": \"L. crabgrass\",\n",
    "    \"Palmer amaranth\": \"P. amaranth\",\n",
    "    \"Smooth pigweed\": \"S. pigweed\",\n",
    "    \"Purple nutsedge\": \"P. nutsedge\",\n",
    "    \"cultivated radish\": \"C. radish\",\n",
    "}\n",
    "\n",
    "# Define the processing function\n",
    "def process_chunk(chunk):\n",
    "    chunk[\"state_id\"] = chunk[\"batch_id\"].str.split(\"_\", expand=True)[0]\n",
    "    chunk[\"common_name\"] = chunk[\"common_name\"].map(lambda x: abbreviations.get(x, x))\n",
    "    chunk[\"date\"] = pd.to_datetime(chunk[\"batch_id\"].str.split(\"_\", expand=True)[1])\n",
    "    \n",
    "    condition = (chunk[\"date\"] < \"2022-10-11\") & (chunk[\"season\"].isna())\n",
    "    chunk.loc[condition, \"season\"] = \"summer_weeds_2022\"\n",
    "    chunk.loc[\n",
    "        chunk[\"season\"] == \"cool_season_cover_2022_2023_MD_pos_2\", \"season\"\n",
    "    ] = \"cool_season_covers_2022_2023\"\n",
    "    chunk.loc[\n",
    "        chunk[\"season\"] == \"cool_season_cover_2022_2023_MD_pos_3\", \"season\"\n",
    "    ] = \"cool_season_covers_2022_2023\"\n",
    "    chunk = chunk[[\"cutout_id\",\"batch_id\",\"common_name\",\"season\"]]\n",
    "    return chunk.drop_duplicates(subset=[\"cutout_id\"])\n",
    "\n",
    "# Initialize an output file (optional, for saving the processed chunks)\n",
    "output_file = \"processed_data.csv\"\n",
    "\n",
    "# Read in the data in chunks and process each chunk\n",
    "chunk_iter = pd.read_csv('temp_compiled_data.csv',low_memory=False, chunksize=10000)\n",
    "for i, chunk in enumerate(chunk_iter):\n",
    "    processed_chunk = process_chunk(chunk)\n",
    "    \n",
    "    # Save processed chunk to an output file\n",
    "    if i == 0:\n",
    "        processed_chunk.to_csv(output_file, index=False)\n",
    "    else:\n",
    "        processed_chunk.to_csv(output_file, mode='a', header=False, index=False)\n",
    "\n",
    "    print(f\"Processed chunk {i + 1}\")\n"
   ]
  },
  {
   "cell_type": "code",
   "execution_count": null,
   "metadata": {},
   "outputs": [],
   "source": [
    "batches = Path(\"/home/mkutuga/SemiF-ImageSelection/data/projects\").glob(\"*\")\n",
    "csv_files = [Path(x, x.stem + \".csv\") for x in batches]\n",
    "dfs = []\n",
    "for f in csv_files:\n",
    "    df = pd.read_csv(f)\n",
    "    dfs.append(df)\n",
    "df = pd.concat(dfs)\n",
    "# df = pd.read_csv(\"./processed_data.csv\")"
   ]
  },
  {
   "cell_type": "markdown",
   "metadata": {},
   "source": [
    "# Preprocess the dataframe"
   ]
  },
  {
   "cell_type": "code",
   "execution_count": null,
   "metadata": {},
   "outputs": [],
   "source": [
    "# Create state_id feature\n",
    "df[\"state_id\"] = df[\"batch_id\"].str.split(\"_\", expand=True)[0]\n",
    "# Abreviate long common names\n",
    "abbreviations = {\n",
    "    \"Common lambsquarters\": \"C. lambsquarters\",\n",
    "    \"Common ragweed\": \"C. ragweed\",\n",
    "    \"Crimson clover\": \"C. clover\",\n",
    "    \"Large crabgrass\": \"L. crabgrass\",\n",
    "    \"Palmer amaranth\": \"P. amaranth\",\n",
    "    \"Smooth pigweed\": \"S. pigweed\",\n",
    "    \"Purple nutsedge\": \"P. nutsedge\",\n",
    "    \"cultivated radish\": \"C. radish\",\n",
    "}\n",
    "df[\"common_name\"] = df[\"common_name\"].map(lambda x: abbreviations.get(x, x))\n",
    "\n",
    "# Change season values\n",
    "df[\"date\"] = pd.to_datetime(df[\"batch_id\"].str.split(\"_\", expand=True)[1])\n",
    "condition = (df[\"date\"] < \"2022-10-11\") & (df[\"season\"].isna())\n",
    "df.loc[condition, \"season\"] = \"summer_weeds_2022\"\n",
    "df.loc[\n",
    "    df[\"season\"] == \"cool_season_cover_2022_2023_MD_pos_2\", \"season\"\n",
    "] = \"cool_season_covers_2022_2023\"\n",
    "df.loc[\n",
    "    df[\"season\"] == \"cool_season_cover_2022_2023_MD_pos_3\", \"season\"\n",
    "] = \"cool_season_covers_2022_2023\"\n",
    "df = df.drop_duplicates(subset=[\"cutout_id\"])\n",
    "df.head()"
   ]
  },
  {
   "cell_type": "code",
   "execution_count": null,
   "metadata": {},
   "outputs": [],
   "source": [
    "cuts = (\n",
    "    df.groupby([\"common_name\", \"season\"])[\"cutout_id\"]\n",
    "    .nunique()\n",
    "    .reset_index()\n",
    "    .rename(columns={\"cutout_id\": \"count\"})\n",
    ")\n",
    "cuts = cuts[cuts[\"common_name\"] != \"colorchecker\"]\n",
    "cuts = cuts[cuts[\"common_name\"] != \"unknown\"]\n",
    "cuts = cuts[cuts[\"season\"] != \"summer_cash_crops_2023\"]\n",
    "# cuts = cuts[cuts[\"season\"] != \"summer_weeds_2022\"]\n",
    "cuts = cuts[cuts[\"common_name\"] != \"unknown\"]\n",
    "cuts = cuts.sort_values(by=\"count\")\n",
    "\n",
    "cuts"
   ]
  },
  {
   "cell_type": "code",
   "execution_count": null,
   "metadata": {},
   "outputs": [],
   "source": [
    "sns.set_style(\"dark\")\n",
    "sns.set_context(\"notebook\")\n",
    "sns.set(style=\"dark\", context=\"notebook\", font_scale=1.2)\n",
    "col_strings = cuts.season.unique()\n",
    "col_order = sorted(col_strings, key=custom_sort)\n",
    "g = sns.catplot(\n",
    "    data=cuts,\n",
    "    x=\"common_name\",\n",
    "    y=\"count\",\n",
    "    col=\"season\",\n",
    "    kind=\"bar\",\n",
    "    # hue=\"is_primary\",\n",
    "    sharex=False,\n",
    "    errorbar=None,\n",
    "    # palette=palette,\n",
    "    # col_order=col_order, \n",
    "    height=8\n",
    ")\n",
    "\n",
    "# Replace underscores between numbers with '/'\n",
    "modified_strings = [re.sub(r\"(\\d)_(\\d)\", r\"\\1/\\2\", s) for s in col_order]\n",
    "\n",
    "# Replace remaining underscores with spaces\n",
    "new_titles = [s.replace(\"_\", \" \") for s in modified_strings]\n",
    "\n",
    "for i, ax in enumerate(g.axes.flat):\n",
    "    # Annotate the bars with their heights (the 'count' values)\n",
    "    for p in ax.patches:\n",
    "        ax.annotate(\n",
    "            f\"{int(p.get_height())}\" if not pd.isna(p.get_height()) else 0.0,\n",
    "            xy=(p.get_x() + p.get_width() / 2.0, p.get_height()),\n",
    "            xytext=(0, 10),  # 3 points vertical offset\n",
    "            textcoords=\"offset points\",\n",
    "            ha=\"center\",\n",
    "            va=\"bottom\",\n",
    "            fontsize=9,\n",
    "        )\n",
    "        ax.set_title(new_titles[i])\n",
    "    # ax.axis(False)\n",
    "g.set_xticklabels(rotation=85)\n",
    "# Change the y-axis label\n",
    "g.set_axis_labels(y_var=\"\")\n",
    "g.set_axis_labels(x_var=\"\")\n",
    "g.set_yticklabels(None)\n",
    "\n",
    "# g.fig.suptitle(title, y=1.13, fontsize=18)\n",
    "# if save:\n",
    "    # g.savefig(f\"plots/{title}.png\", dpi=300)\n",
    "plt.show()"
   ]
  },
  {
   "cell_type": "markdown",
   "metadata": {},
   "source": [
    "# Total number of images"
   ]
  },
  {
   "cell_type": "code",
   "execution_count": null,
   "metadata": {},
   "outputs": [],
   "source": [
    "print(\"\\nTotal images: \", df.groupby([\"state_id\"])[\"image_id\"].nunique().sum())\n",
    "print(\"\\nTotal cutouts: \", len(df))\n",
    "print(\"\\nTotal primary cutouts: \", len(df[df[\"is_primary\"] == True]))\n",
    "\n",
    "tx_cuts = len(df[df[\"state_id\"] == \"TX\"])\n",
    "nc_cuts = len(df[df[\"state_id\"] == \"NC\"])\n",
    "md_cuts = len(df[df[\"state_id\"] == \"MD\"])\n",
    "\n",
    "print(\"\\nTotal cutouts by tx: \", tx_cuts)\n",
    "print(\"Total cutouts by nc: \", nc_cuts)\n",
    "print(\"Total cutouts by md: \", md_cuts)"
   ]
  },
  {
   "cell_type": "markdown",
   "metadata": {},
   "source": [
    "# Analyze Processed Batches"
   ]
  },
  {
   "cell_type": "code",
   "execution_count": null,
   "metadata": {},
   "outputs": [],
   "source": [
    "path = \"/home/psa_images/SemiF-AnnotationPipeline/.batchlogs/summary.txt\"\n",
    "df_summ = read_container_list_summary(path)\n",
    "\n",
    "# Plot\n",
    "plot_processed_batches(\n",
    "    df_summ,\n",
    "    plot_title=\"Processed vs Not Processed Batches\",\n",
    "    save=True,\n",
    "    height=7,\n",
    "    aspect=0.7,\n",
    ")"
   ]
  },
  {
   "cell_type": "code",
   "execution_count": null,
   "metadata": {},
   "outputs": [],
   "source": [
    "df_summ[df_summ[\"Processed status\"] == \"Not Processed\"]"
   ]
  },
  {
   "cell_type": "markdown",
   "metadata": {},
   "source": [
    "# Total number of Full-Res Images by Location"
   ]
  },
  {
   "cell_type": "code",
   "execution_count": null,
   "metadata": {},
   "outputs": [],
   "source": [
    "df_imgs = df.drop_duplicates(subset=\"image_id\")\n",
    "df_imgs = df_imgs.sort_values(by=[\"state_id\"], ascending=True)\n",
    "plot_images_by_location(df_imgs)"
   ]
  },
  {
   "cell_type": "markdown",
   "metadata": {},
   "source": [
    "# Image totals by species, season, and location\n",
    "\n",
    "The number of full-resolution images by species "
   ]
  },
  {
   "cell_type": "markdown",
   "metadata": {},
   "source": [
    "## Preprocess df_imgs\n",
    "Count unique image_ids by state, common name, and season and account for colorchecker images"
   ]
  },
  {
   "cell_type": "code",
   "execution_count": null,
   "metadata": {},
   "outputs": [],
   "source": [
    "df_temp = df.copy()\n",
    "# Create a sorting key based on colorchecker entry\n",
    "df_temp[\"sort_key\"] = df_temp[\"common_name\"].apply(\n",
    "    lambda x: 1 if x == \"colorchecker\" else 0\n",
    ")\n",
    "# Sort the dataframe\n",
    "df_temp = df_temp.sort_values(by=[\"image_id\", \"sort_key\"])\n",
    "# Drop duplicates and remove the sort_key\n",
    "df_dropped = df_temp.drop_duplicates(subset=\"image_id\", keep=\"first\").drop(\n",
    "    columns=[\"sort_key\"]\n",
    ")\n",
    "# Remove images when only the colorchecker was present\n",
    "df_filtered = df_dropped[df_dropped[\"common_name\"] != \"colorchecker\"]\n",
    "# Create count of images by location, season, and species\n",
    "df_imgs = (\n",
    "    df_filtered.groupby([\"state_id\", \"common_name\", \"season\"])[\"image_id\"]\n",
    "    .nunique()\n",
    "    .reset_index()\n",
    "    .sort_values(by=[\"season\", \"state_id\"])\n",
    "    .rename(columns={\"image_id\": \"count\"})\n",
    ")"
   ]
  },
  {
   "cell_type": "code",
   "execution_count": null,
   "metadata": {},
   "outputs": [],
   "source": [
    "nc_imgs = df_imgs[df_imgs[\"state_id\"] == \"NC\"]\n",
    "plot_images_by_state(\n",
    "    nc_imgs, \"#82C09A\", plot_title=\"NC Images by species and season\", save=True\n",
    ")"
   ]
  },
  {
   "cell_type": "code",
   "execution_count": null,
   "metadata": {},
   "outputs": [],
   "source": [
    "md_imgs = df_imgs[df_imgs[\"state_id\"] == \"MD\"]\n",
    "plot_images_by_state(\n",
    "    md_imgs, \"#7BACD6\", plot_title=\"MD Images by species and season\", save=True\n",
    ")"
   ]
  },
  {
   "cell_type": "code",
   "execution_count": null,
   "metadata": {},
   "outputs": [],
   "source": [
    "tx_imgs = df_imgs[df_imgs[\"state_id\"] == \"TX\"]\n",
    "tx_imgs = tx_imgs[tx_imgs[\"common_name\"] != \"unknown\"]\n",
    "plot_images_by_state(\n",
    "    tx_imgs, \"#FF8383\", plot_title=\"TX Images by species and season\", save=True\n",
    ")"
   ]
  },
  {
   "cell_type": "markdown",
   "metadata": {},
   "source": [
    "# Total Cutouts by Location and Species"
   ]
  },
  {
   "cell_type": "markdown",
   "metadata": {},
   "source": [
    "## Preprocess subimages `cuts`\n",
    "Group by state, common name, season, and primary status. Account for colorchecker sub-images"
   ]
  },
  {
   "cell_type": "code",
   "execution_count": null,
   "metadata": {},
   "outputs": [],
   "source": [
    "cuts = (\n",
    "    df.groupby([\"state_id\", \"common_name\", \"season\", \"is_primary\"])[\"cutout_id\"]\n",
    "    .nunique()\n",
    "    .reset_index()\n",
    "    .rename(columns={\"cutout_id\": \"count\"})\n",
    ")\n",
    "cuts = cuts[cuts[\"common_name\"] != \"colorchecker\"]\n",
    "cuts = cuts[cuts[\"common_name\"] != \"unknown\"]"
   ]
  },
  {
   "cell_type": "code",
   "execution_count": null,
   "metadata": {},
   "outputs": [],
   "source": [
    "nc_cuts = cuts[cuts[\"state_id\"] == \"NC\"].sort_values(by=\"count\")\n",
    "binary_palettes = {False: \"#A5D6A7\", True: \"#388E3C\"}  # Shades of Green\n",
    "title = \"NC Sub-images by species and season\"\n",
    "plot_sub_images(nc_cuts, binary_palettes, title, save=True)"
   ]
  },
  {
   "cell_type": "code",
   "execution_count": null,
   "metadata": {},
   "outputs": [],
   "source": [
    "md_cuts = cuts[cuts[\"state_id\"] == \"MD\"].sort_values(by=\"count\")\n",
    "binary_palettes = {False: \"#90CAF9\", True: \"#1565C0\"}  # Shades of Blue\n",
    "title = \"MD Sub-images by species and season\"\n",
    "plot_sub_images(md_cuts, binary_palettes, title, save=True)"
   ]
  },
  {
   "cell_type": "code",
   "execution_count": null,
   "metadata": {},
   "outputs": [],
   "source": [
    "tx_cuts = cuts[cuts[\"state_id\"] == \"TX\"].sort_values(by=\"count\")\n",
    "tx_cuts = tx_cuts[tx_cuts[\"common_name\"] != \"unknown\"]\n",
    "binary_palettes = {False: \"#FFCDD2\", True: \"#C62828\"}  # Shades of Red\n",
    "title = \"TX Sub-images by species and season\"\n",
    "plot_sub_images(tx_cuts, binary_palettes, title, save=True)"
   ]
  },
  {
   "cell_type": "markdown",
   "metadata": {},
   "source": [
    "# Plot cutouts by state"
   ]
  },
  {
   "cell_type": "code",
   "execution_count": null,
   "metadata": {},
   "outputs": [],
   "source": [
    "df_cuts = (\n",
    "    df.groupby([\"state_id\", \"season\", \"is_primary\"])[\"cutout_id\"]\n",
    "    .nunique()\n",
    "    .reset_index()\n",
    "    .sort_values(by=[\"state_id\", \"cutout_id\"])\n",
    "    .rename(columns={\"cutout_id\": \"count\"})\n",
    ")\n",
    "plot_title = \"Total Cutouts by State\"\n",
    "plot_cutouts_by_state_and_season(df_cuts, plot_title, save=True)"
   ]
  },
  {
   "cell_type": "code",
   "execution_count": null,
   "metadata": {},
   "outputs": [],
   "source": [
    "abbreviations = {\n",
    "    \"Common lambsquarters\": \"C. lambsquarters\",\n",
    "    # \"Common ragweed\": \"C. ragweed\",\n",
    "    \"Crimson clover\": \"C. clover\",\n",
    "    \"Large crabgrass\": \"L. crabgrass\",\n",
    "    \"Palmer amaranth\": \"P. amaranth\",\n",
    "    # \"Smooth pigweed\": \"S. pigweed\",\n",
    "    \"Purple nutsedge\": \"P. nutsedge\",\n",
    "    \"cultivated radish\": \"C. radish\",\n",
    "    \"Giant foxtail\": \"G. Foxtail\",\n",
    "    \"Hairy vetch\": \"H. Vetch\",\n",
    "    # \"Jimson weed\": \"Jim. weed\",\n",
    "    \"Yellow foxtail\": \"Y. Foxtail\",\n",
    "    \"Texas millet\": \"T. Millet\",\n",
    "    # \"Winter wheat\": \"W. Wheat\",\n",
    "    # \"Black oats\": \"B. Oats\",\n",
    "}\n",
    "\n",
    "cuts[\"common_name\"] = cuts[\"common_name\"].map(lambda x: abbreviations.get(x, x))\n",
    "cuts = cuts[cuts[\"common_name\"] != \"unknown\"]\n",
    "cuts = cuts.sort_values(by=[\"count\"])\n",
    "title = \"Large subplot: Cutouts by state, season, and species\"\n",
    "\n",
    "plot_sub_images_subplots(\n",
    "    cuts,\n",
    "    title,\n",
    "    suptitle_fontsize=12,\n",
    "    xtick_fontsize=10,\n",
    "    bar_fontsize=7,\n",
    "    hspace=0.5,\n",
    "    wspace=0.1,\n",
    "    plot_height=4,\n",
    "    aspect=1.2,\n",
    "    save=True,\n",
    ")"
   ]
  }
 ],
 "metadata": {
  "kernelspec": {
   "display_name": "semif",
   "language": "python",
   "name": "python3"
  },
  "language_info": {
   "codemirror_mode": {
    "name": "ipython",
    "version": 3
   },
   "file_extension": ".py",
   "mimetype": "text/x-python",
   "name": "python",
   "nbconvert_exporter": "python",
   "pygments_lexer": "ipython3",
   "version": "3.9.16"
  },
  "orig_nbformat": 4
 },
 "nbformat": 4,
 "nbformat_minor": 2
}
