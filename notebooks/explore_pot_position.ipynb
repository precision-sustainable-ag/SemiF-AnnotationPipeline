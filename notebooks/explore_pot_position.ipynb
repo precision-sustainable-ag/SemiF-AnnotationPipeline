{
 "cells": [
  {
   "cell_type": "code",
   "execution_count": 1,
   "metadata": {},
   "outputs": [],
   "source": [
    "import numpy as np\n",
    "from numpy.lib.stride_tricks import as_strided as ast\n",
    "import cv2\n",
    "import matplotlib.pyplot as plt\n",
    "import random\n",
    "import torch\n",
    "import torchvision.ops.boxes as bops\n",
    "from PIL import Image\n",
    "import uuid\n",
    "from pathlib import Path"
   ]
  },
  {
   "cell_type": "markdown",
   "metadata": {},
   "source": [
    "# TODOs\n",
    "\n",
    "1. Functionality\n",
    "\n",
    "   1. Implement in larger pipeline\n",
    "      1. Attach to hydra config (synth config)\n",
    "      2. Connect to database\n",
    "      3. Add dataclasses\n",
    "\n",
    "\n",
    "   2. Create more pots, backgrounds\n",
    "\n",
    "\n",
    "2. Features\n",
    "   1. transform cutouts\n",
    "   2. more maps\n",
    "   3. high-level sorting \n",
    "   4. compactness config"
   ]
  },
  {
   "cell_type": "markdown",
   "metadata": {},
   "source": [
    "## Pot to Background"
   ]
  },
  {
   "cell_type": "code",
   "execution_count": 2,
   "metadata": {},
   "outputs": [],
   "source": [
    "def check_negative_positions(h0, w0, pot):\n",
    "    # check if h0 or w0 is negative and adjust if so\n",
    "    if w0 < 0:\n",
    "        pot = pot[:, abs(w0):]\n",
    "        w0 = 0\n",
    "\n",
    "    if h0 < 0:\n",
    "        pot = pot[abs(h0):, :]\n",
    "        h0 = 0\n",
    "    return h0, w0, pot\n",
    "\n",
    "def crop_pot2background(h0, w0, pot_h, pot_w, back_h, back_w, pot):\n",
    "    \"\"\" Checks position of pot with background dimensions. \n",
    "        Cut pot if it extends beyond frame of background\n",
    "    \"\"\"\n",
    "    if w0 + pot_w > back_w:\n",
    "        back_w = back_w - w0\n",
    "        pot = pot[:, :back_w]\n",
    "\n",
    "    if h0 + pot_h > back_h:\n",
    "        back_h = back_h - h0\n",
    "        pot = pot[:back_h,:]\n",
    "    \n",
    "    return pot\n",
    "\n",
    "def blend_pot(h0, w0, pot, zero_mask, back):\n",
    "    pot_h, pot_w, _ = pot.shape    \n",
    "    h1 = h0 + pot_h\n",
    "    w1 = w0+ pot_w\n",
    "    pot_mask = pot[..., 3:] / 255\n",
    "    alpha_l = 1.0 - pot_mask\n",
    "\n",
    "    back[h0:h1,w0:w1] = alpha_l * back[h0:h1,w0:w1] + pot_mask* pot \n",
    "    \n",
    "    zero_mask[h0:h1,w0:w1] = (255) * pot_mask + zero_mask[h0:h1,w0:w1] * (1.0 - pot_mask)\n",
    "    \n",
    "    return back, h0, w0\n",
    "\n",
    "\n",
    "def overlay_pot(h0, w0, pot, zero_mask, back):\n",
    "\n",
    "    h0, w0, pot  = check_negative_positions(h0, w0, pot)\n",
    "    \n",
    "    back_h, back_w, _ = back.shape\n",
    "    pot_h, pot_w, _ = pot.shape    \n",
    "    \n",
    "    pot = crop_pot2background(h0, w0, pot_h, pot_w, back_h, back_w, pot)\n",
    "    # print(back)\n",
    "    back, h0, w0 = blend_pot(h0, w0, pot, zero_mask, back)\n",
    "    \n",
    "    return back, h0, w0\n"
   ]
  },
  {
   "cell_type": "code",
   "execution_count": 9,
   "metadata": {},
   "outputs": [],
   "source": [
    "def get_cutout(cutout):\n",
    "    cutout = cv2.cvtColor(cv2.imread(cutout,cv2.IMREAD_UNCHANGED), cv2.COLOR_BGR2RGB)\n",
    "    alpha = np.sum(cutout, axis=-1) > 0\n",
    "    alpha = np.uint8(alpha * 255)\n",
    "    cutout = np.dstack((cutout, alpha))\n",
    "    return cutout\n",
    "\n",
    "def overlay_cutout(x0, y0, cutout, potted_back, zero_mask):\n",
    "    cut_h , cut_w, _ = cutout.shape\n",
    "    potback_h, potback_w, _ = potted_back.shape\n",
    "    \n",
    "    cutout = crop_pot2background(y0, x0, cut_h, cut_w, potback_h, potback_w, cutout)\n",
    "    \n",
    "    cut_h, cut_w, _ = cutout.shape    \n",
    "    y1 = y0 + cut_h\n",
    "    x1 = x0+ cut_w\n",
    "    cutout_mask = cutout[..., 3:] / 255\n",
    "    alpha_l = 1.0 - cutout_mask\n",
    "\n",
    "    potted_back[y0:y1,x0:x1] = alpha_l * potted_back[y0:y1,x0:x1] + cutout_mask* cutout \n",
    "\n",
    "    zero_mask[y0:y1,x0:x1] = (1) * cutout_mask + zero_mask[y0:y1,x0:x1] * (1.0 - cutout_mask)\n",
    "\n",
    "    zero_mask = zero_mask * 255\n",
    "\n",
    "    return potted_back, zero_mask\n",
    "\n",
    "def pot2cutout_position(topl_y, topl_x, potshape, cutshape):\n",
    "    # pot positions and shape top left corner\n",
    "    pot_h, pot_w, _ = potshape\n",
    "    cut_h, cut_w, _ = cutshape\n",
    "    cutx = int(((pot_w - cut_w) / 2) + topl_x)\n",
    "    cuty = int(((pot_h - cut_h) / 2) + topl_y)\n",
    "    \n",
    "    return cutx, cuty"
   ]
  },
  {
   "cell_type": "markdown",
   "metadata": {},
   "source": [
    "## Cutout to Pots"
   ]
  },
  {
   "cell_type": "code",
   "execution_count": 10,
   "metadata": {},
   "outputs": [],
   "source": [
    "# Pot positioning\n",
    "sixpot_map = {\n",
    "    0:(1592, 1599),\n",
    "    1:(1592, 4796),\n",
    "    2:(1592, 7993),\n",
    "    3:(4776, 1599),\n",
    "    4:(4776, 4796),\n",
    "    5:(4776, 7993)\n",
    "}\n",
    "\n",
    "def center2topleft( x, y, potshape):\n",
    "    pot_h, pot_w, _ = potshape\n",
    "    y = y - int(pot_h/2)\n",
    "    x = x - int(pot_w/2)\n",
    "    return x, y\n",
    "\n",
    "def box_iou(box1, box2):\n",
    "    box1 = torch.tensor([box1], dtype=torch.float)\n",
    "    box2 = torch.tensor([box2], dtype=torch.float)\n",
    "    iou = bops.box_iou(box1, box2)\n",
    "    return iou\n",
    "\n",
    "def get_boxes(x, y, potshape):\n",
    "    pot_h, pot_w, _ = potshape\n",
    "    x0, x1, y0, y1 = x, x + pot_w, y, y + pot_h\n",
    "    bbox = [x0, y0, x1, y1] # top right corner, bottom left corner\n",
    "    return bbox\n",
    "\n",
    "def check_overlap(x, y,potshape, pot_positions):  # x = w ; h = y\n",
    "    \"\"\"Check overlap from list of previous bbox coordinates\"\"\"\n",
    "    if not None in pot_positions:\n",
    "        new_bbox = get_boxes(x, y, potshape)\n",
    "        for y_new, x_new, oldpotshape in pot_positions:\n",
    "            old_bbox = get_boxes(x_new, y_new, oldpotshape)\n",
    "            \n",
    "            iou = box_iou(old_bbox, new_bbox)    \n",
    "            while iou > 0.05:\n",
    "                x, y = x + random.randint(-2500, 2500), y + random.randint(-2000, 2000)\n",
    "                new_bbox = get_boxes(x, y, potshape)\n",
    "                iou = box_iou(old_bbox, new_bbox)\n",
    "                print(iou)\n",
    "        \n",
    "        x, y = new_bbox[0], new_bbox[1]\n",
    "\n",
    "    return x, y\n",
    "\n",
    "\n",
    "def get_pot_positions(idx, potshape, pot_map, pot_positions, spread_factor):\n",
    "    \n",
    "    y, x = pot_map[idx]\n",
    "    \n",
    "    x, y = x + random.randint(-(spread_factor), spread_factor), y + random.randint(-(int(spread_factor/3)), (int(spread_factor/3)))\n",
    "    \n",
    "    x, y = center2topleft(x, y, potshape)\n",
    "    \n",
    "    x, y = check_overlap(x, y,potshape, pot_positions)\n",
    "    \n",
    "    return x, y"
   ]
  },
  {
   "cell_type": "markdown",
   "metadata": {},
   "source": [
    "## Save Data"
   ]
  },
  {
   "cell_type": "code",
   "execution_count": 11,
   "metadata": {},
   "outputs": [],
   "source": [
    "def create_synth_fname(backpath, potpath, cutpath):\n",
    "    pass\n",
    "\n",
    "def save_synth(res, mask, backpath, potpath, cutpath):\n",
    "    savedir = \"../data/temp/quick_synth_test/synth_results/\"\n",
    "    fstem = uuid.uuid4().hex\n",
    "    fname = fstem + \".png\"\n",
    "    fmaskname = fstem + \"_mask.png\"\n",
    "    savepath = Path(savedir,fname)\n",
    "    savemask = Path(savedir,fmaskname)\n",
    "    res = cv2.cvtColor(res, cv2.COLOR_RGBA2BGRA)\n",
    "    mask = cv2.cvtColor(mask, cv2.COLOR_RGBA2BGRA)\n",
    "    cv2.imwrite(str(savepath), res)\n",
    "    cv2.imwrite(str(savemask), mask)\n"
   ]
  },
  {
   "cell_type": "markdown",
   "metadata": {},
   "source": [
    "## Load data"
   ]
  },
  {
   "cell_type": "code",
   "execution_count": 19,
   "metadata": {},
   "outputs": [],
   "source": [
    "backpath = \"../data/temp/quick_synth_test/backgrounds/background.jpg\"\n",
    "potp = \"../data/temp/quick_synth_test/pots/row5_2.png\"\n",
    "cutouts = Path(\"../data/temp/quick_synth_test/cutouts\").glob(\"*.png\")\n",
    "\n",
    "cutouts = [str(x) for x in cutouts]\n",
    "\n",
    "back = cv2.resize(cv2.cvtColor(cv2.imread(backpath,cv2.IMREAD_UNCHANGED), cv2.COLOR_BGR2RGBA), (9592,6368))\n",
    "backs = [back.copy(), back.copy(), back.copy(), back.copy()]\n",
    "pot = cv2.cvtColor(cv2.imread(potp,cv2.IMREAD_UNCHANGED), cv2.COLOR_BGR2RGBA)\n"
   ]
  },
  {
   "cell_type": "markdown",
   "metadata": {},
   "source": [
    "## Pipeline"
   ]
  },
  {
   "cell_type": "code",
   "execution_count": 20,
   "metadata": {},
   "outputs": [
    {
     "name": "stdout",
     "output_type": "stream",
     "text": [
      "tensor([[0.2555]])\n",
      "tensor([[0.3842]])\n",
      "tensor([[0.0203]])\n",
      "tensor([[0.]])\n",
      "tensor([[0.0477]])\n",
      "tensor([[0.3018]])\n",
      "tensor([[0.]])\n",
      "tensor([[0.2037]])\n",
      "tensor([[0.0769]])\n",
      "tensor([[0.]])\n"
     ]
    }
   ],
   "source": [
    "for back in backs:\n",
    "    new_mask = np.zeros_like(back)\n",
    "    cutout_mask = np.zeros_like(back)\n",
    "    back_h, back_w, _ = back.shape\n",
    "    pot_positions = []\n",
    "    cutouts_fnames = []\n",
    "    pot_fnames = []\n",
    "    spread_factor = random.randint(2000, 3000)\n",
    "    for idx, i in enumerate(range(0,6)): # number of pots per image\n",
    "    \n",
    "        topl_x, topl_y = get_pot_positions(idx, pot.shape, sixpot_map, pot_positions,spread_factor)\n",
    "\n",
    "        # if topl_y > back_h or topl_x > back_w: # safe guard if pots positions go completely outiside frame\n",
    "        #     continue\n",
    "    \n",
    "        potted_back, topl_y, topl_x = overlay_pot(topl_y, topl_x, pot, new_mask, back)\n",
    "        \n",
    "        pot_positions.append([topl_y, topl_x, pot.shape])\n",
    "        \n",
    "        cutout_choice = random.choice(cutouts)\n",
    "        cutouts_fnames.append(Path(cutout_choice).stem)\n",
    "        cutout = get_cutout(cutout_choice)\n",
    "        \n",
    "        cutx, cuty = pot2cutout_position(topl_y, topl_x, pot.shape, cutout.shape)\n",
    "        \n",
    "        pb_h, pb_w, _ = potted_back.shape\n",
    "\n",
    "        if cuty > pb_h or cutx > pb_w: # safe guard if pots positions go completely outiside frame\n",
    "            continue\n",
    "        res, mask = overlay_cutout(cutx, cuty, cutout, potted_back, cutout_mask)\n",
    "\n",
    "    save_synth(res, mask[:,:,0], \"\", \"\", \"\")\n",
    "    \n"
   ]
  },
  {
   "cell_type": "code",
   "execution_count": 332,
   "metadata": {},
   "outputs": [
    {
     "data": {
      "text/plain": [
       "<matplotlib.image.AxesImage at 0x7fe071329b80>"
      ]
     },
     "execution_count": 332,
     "metadata": {},
     "output_type": "execute_result"
    },
    {
     "data": {
      "image/png": "[encoded data removed]",
      "text/plain": [
       "<Figure size 432x288 with 1 Axes>"
      ]
     },
     "metadata": {
      "needs_background": "light"
     },
     "output_type": "display_data"
    }
   ],
   "source": [
    "plt.imshow(mask[:,:,0], cmap = \"gray\")"
   ]
  },
  {
   "cell_type": "code",
   "execution_count": 21,
   "metadata": {},
   "outputs": [],
   "source": []
  },
  {
   "cell_type": "code",
   "execution_count": null,
   "metadata": {},
   "outputs": [],
   "source": []
  }
 ],
 "metadata": {
  "interpreter": {
   "hash": "59b627dbbc37ebbb1d7be1ff42181d533d94977a5210449e7ff5229441e2702b"
  },
  "kernelspec": {
   "display_name": "Python 3.9.12 ('autoann')",
   "language": "python",
   "name": "python3"
  },
  "language_info": {
   "codemirror_mode": {
    "name": "ipython",
    "version": 3
   },
   "file_extension": ".py",
   "mimetype": "text/x-python",
   "name": "python",
   "nbconvert_exporter": "python",
   "pygments_lexer": "ipython3",
   "version": "3.9.12"
  },
  "orig_nbformat": 4
 },
 "nbformat": 4,
 "nbformat_minor": 2
}
