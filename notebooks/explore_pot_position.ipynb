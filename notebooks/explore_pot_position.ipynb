{
 "cells": [
  {
   "cell_type": "code",
   "execution_count": 109,
   "metadata": {},
   "outputs": [],
   "source": [
    "import numpy as np\n",
    "from numpy.lib.stride_tricks import as_strided as ast\n",
    "from pathlib import Path\n",
    "import cv2\n",
    "import math\n",
    "import itertools\n",
    "import random"
   ]
  },
  {
   "cell_type": "code",
   "execution_count": 135,
   "metadata": {},
   "outputs": [
    {
     "name": "stdout",
     "output_type": "stream",
     "text": [
      "2\n",
      "[0, 2390, 4780, 7170, 9560]\n",
      "[0, 6368]\n",
      "\n",
      "[(0, 0), (0, 6368), (2390, 0), (2390, 6368), (4780, 0), (4780, 6368), (7170, 0), (7170, 6368), (9560, 0), (9560, 6368)]\n",
      "10\n"
     ]
    }
   ],
   "source": [
    "def pot_grid(img_shape, num_pots):\n",
    "    imght, imgwid = img_shape[:2]\n",
    "    # adj_pots = random.randint(0, pots)\n",
    "\n",
    "    if num_pots >= 10:\n",
    "        num = random.choice([2,3])\n",
    "        wid = list(np.linspace(0,imgwid,4 if num==3 else 5, dtype=int))\n",
    "        ht = list(np.linspace(0, imght, num, dtype=int))\n",
    "\n",
    "    if num_pots == 11:\n",
    "        pops =+ 1 if num == 3 else 0\n",
    "\n",
    "    if num_pots == 10:\n",
    "        pops =+ 2 if num == 3 else 0\n",
    "\n",
    "    if num_pots == 9:\n",
    "        num = random.choice([2,3])\n",
    "        wid = list(np.linspace(0,imgwid,3 if num==3 else 5, dtype=int))\n",
    "        ht = list(np.linspace(0, imght, num, dtype=int))\n",
    "        pops =+ 1 if num==2 else 0\n",
    "\n",
    "\n",
    "    coords = list(itertools.product(wid, ht))\n",
    "        \n",
    "    for po in range(pops):\n",
    "        coords.pop(random.randrange(len(coords)))\n",
    "    \n",
    "    return coords"
   ]
  },
  {
   "cell_type": "code",
   "execution_count": 122,
   "metadata": {},
   "outputs": [
    {
     "data": {
      "text/plain": [
       "2"
      ]
     },
     "execution_count": 122,
     "metadata": {},
     "output_type": "execute_result"
    }
   ],
   "source": [
    "num"
   ]
  },
  {
   "cell_type": "code",
   "execution_count": null,
   "metadata": {},
   "outputs": [],
   "source": []
  }
 ],
 "metadata": {
  "interpreter": {
   "hash": "59b627dbbc37ebbb1d7be1ff42181d533d94977a5210449e7ff5229441e2702b"
  },
  "kernelspec": {
   "display_name": "Python 3.9.12 ('autoann')",
   "language": "python",
   "name": "python3"
  },
  "language_info": {
   "codemirror_mode": {
    "name": "ipython",
    "version": 3
   },
   "file_extension": ".py",
   "mimetype": "text/x-python",
   "name": "python",
   "nbconvert_exporter": "python",
   "pygments_lexer": "ipython3",
   "version": "3.9.12"
  },
  "orig_nbformat": 4
 },
 "nbformat": 4,
 "nbformat_minor": 2
}
