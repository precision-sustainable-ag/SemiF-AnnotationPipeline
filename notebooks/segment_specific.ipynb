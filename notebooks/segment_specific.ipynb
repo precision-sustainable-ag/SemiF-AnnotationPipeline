{
 "cells": [
  {
   "cell_type": "code",
   "execution_count": 1,
   "metadata": {},
   "outputs": [
    {
     "name": "stderr",
     "output_type": "stream",
     "text": [
      "/home/weedsci/miniconda3/envs/semif/lib/python3.9/site-packages/scipy/__init__.py:146: UserWarning: A NumPy version >=1.16.5 and <1.23.0 is required for this version of SciPy (detected version 1.23.1\n",
      "  warnings.warn(f\"A NumPy version >={np_minversion} and <{np_maxversion}\"\n"
     ]
    }
   ],
   "source": [
    "import os\n",
    "os.chdir(\"/home/weedsci/matt/SemiF-AnnotationPipeline\")\n",
    "\n",
    "from pathlib import Path\n",
    "import random\n",
    "import matplotlib.pyplot as plt\n",
    "import numpy as np\n",
    "from semif_utils.utils import make_exg, make_kmeans, otsu_thresh, reduce_holes, make_exg_minus_exr, apply_mask, crop_cutouts, get_image_meta, thresh_vi, contour_mask\n",
    "from semif_utils.segment_utils import  prep_bbox\n",
    "from skimage import (\n",
    "    color, feature, filters, measure, morphology, segmentation, util\n",
    ")\n"
   ]
  },
  {
   "cell_type": "code",
   "execution_count": 2,
   "metadata": {},
   "outputs": [],
   "source": [
    "metadir = Path(\"./data/semifield-developed-images/MD_2022-07-01/metadata/\")\n",
    "random.seed(42)\n",
    "rdn = random.randint(0,200)\n",
    "labels = [str(x) for x in (metadir).glob(\"*.json\")][rdn]"
   ]
  },
  {
   "cell_type": "code",
   "execution_count": 13,
   "metadata": {},
   "outputs": [
    {
     "data": {
      "image/png": "[encoded data removed]",
      "text/plain": [
       "<Figure size 432x288 with 1 Axes>"
      ]
     },
     "metadata": {
      "needs_background": "light"
     },
     "output_type": "display_data"
    },
    {
     "data": {
      "image/png": "[encoded data removed]",
      "text/plain": [
       "<Figure size 432x288 with 1 Axes>"
      ]
     },
     "metadata": {
      "needs_background": "light"
     },
     "output_type": "display_data"
    },
    {
     "data": {
      "image/png": "[encoded data removed]",
      "text/plain": [
       "<Figure size 432x288 with 1 Axes>"
      ]
     },
     "metadata": {
      "needs_background": "light"
     },
     "output_type": "display_data"
    },
    {
     "data": {
      "image/png": "[encoded data removed]",
      "text/plain": [
       "<Figure size 432x288 with 1 Axes>"
      ]
     },
     "metadata": {
      "needs_background": "light"
     },
     "output_type": "display_data"
    },
    {
     "data": {
      "image/png": "[encoded data removed]",
      "text/plain": [
       "<Figure size 432x288 with 1 Axes>"
      ]
     },
     "metadata": {
      "needs_background": "light"
     },
     "output_type": "display_data"
    }
   ],
   "source": [
    "from scipy import ndimage as ndi\n",
    "from skimage.exposure import rescale_intensity\n",
    "import cv2\n",
    "\n",
    "imgdata = get_image_meta(labels)\n",
    "# Call image array\n",
    "rgb_array = imgdata.array\n",
    "# Get bboxes\n",
    "bboxes = imgdata.bboxes\n",
    "## Process on images by individual bbox detection\n",
    "cutout_num = 0\n",
    "cutout_ids = []\n",
    "\n",
    "# for box in bboxes:\n",
    "for box in bboxes[:5]:\n",
    "    scale = [imgdata.fullres_width, imgdata.fullres_height]\n",
    "    _, x1, y1, x2, y2 = prep_bbox(box, scale)\n",
    "    # Crop image to bbox\n",
    "    rgb_crop = rgb_array[y1:y2, x1:x2]\n",
    "    lab = cv2.cvtColor(rgb_crop,cv2.COLOR_RGB2LAB)\n",
    "    l, a, b  = cv2.split(lab)\n",
    "    img = 2*a - l - b\n",
    "    blur = cv2.GaussianBlur(img,(5,5),0)\n",
    "\n",
    "    # thresholds = filters.threshold_multiotsu(blur, classes=3)\n",
    "    # regions = np.digitize(blur, bins=thresholds)\n",
    "    # plant = blur > thresholds[1]\n",
    "    \n",
    "    # distance = ndi.distance_transform_edt(plant)\n",
    "    # local_max_coords = feature.peak_local_max(distance, min_distance=3)\n",
    "    # local_max_mask = np.zeros(distance.shape, dtype=bool)\n",
    "    # local_max_mask[tuple(local_max_coords.T)] = True\n",
    "    # markers = measure.label(local_max_mask)\n",
    "\n",
    "    # segmented_plant = segmentation.watershed(-distance, markers, mask=plant)\n",
    "\n",
    "\n",
    "    # rescaled_plant = rescale_intensity(segmented_plant, out_range=(0, 255))\n",
    "    # binary_plant = np.where(rescaled_plant != 0, 1, 0)\n",
    "    # kernel = np.ones((3,3))\n",
    "    \n",
    "    # opening = cv2.morphologyEx(binary_plant.astype(float), cv2.MORPH_OPEN, kernel)\n",
    "    # holed_mask = reduce_holes(opening, min_object_size=200, min_hole_size=500)\n",
    "    # cutout = apply_mask(rgb_crop, holed_mask, \"black\")\n",
    "    \n",
    "    # # cropped_cutout = crop_cutouts(cutout)\n",
    "    # exg_vi = make_exg(cutout, thresh=True)\n",
    "    # th_vi = thresh_vi(exg_vi, low=10, upper=50)\n",
    "    # kmean = make_kmeans(th_vi)\n",
    "    # holed_mask = reduce_holes(kmean, min_object_size=20, min_hole_size=50)\n",
    "\n",
    "    # cropped_cutout = crop_cutouts(kmean)\n",
    "    contours_mask, hierachy = cv2.findContours(blur, cv2.RETR_EXTERNAL,\n",
    "                                            cv2.CHAIN_APPROX_NONE)\n",
    "    mask = np.zeros(blur.shape, np.uint8)\n",
    "    # find the biggest countour (c) by the area\n",
    "    \n",
    "    \n",
    "    # cv2.drawContours(mask, contours_mask, 0,(255,0,255), -1)\n",
    "    # print(mask.max())\n",
    "    # print(mask.min())\n",
    "    # c = max(contours_mask, key = cv2.contourArea)\n",
    "    cv2.drawContours(mask, contours_mask,hierachy, -1, (255),1)\n",
    "    # mask = contour_mask(binary_plant.astype(np.uint8))\n",
    "    # cutout = apply_mask(rgb_crop, holed_mask, \"black\")\n",
    "    plt.imshow(mask)\n",
    "    plt.show()"
   ]
  },
  {
   "cell_type": "code",
   "execution_count": 35,
   "metadata": {},
   "outputs": [
    {
     "name": "stderr",
     "output_type": "stream",
     "text": [
      "<frozen importlib._bootstrap>:228: RuntimeWarning: sklearn.tree._criterion.Criterion size changed, may indicate binary incompatibility. Expected 328 from C header, got 352 from PyObject\n"
     ]
    },
    {
     "ename": "ValueError",
     "evalue": "sklearn.tree._criterion.ClassificationCriterion size changed, may indicate binary incompatibility. Expected 1168 from C header, got 368 from PyObject",
     "output_type": "error",
     "traceback": [
      "\u001b[0;31m---------------------------------------------------------------------------\u001b[0m",
      "\u001b[0;31mValueError\u001b[0m                                Traceback (most recent call last)",
      "\u001b[1;32m/home/weedsci/matt/SemiF-AnnotationPipeline/notebooks/segment_specific.ipynb Cell 5\u001b[0m in \u001b[0;36m<cell line: 3>\u001b[0;34m()\u001b[0m\n\u001b[1;32m      <a href='vscode-notebook-cell:/home/weedsci/matt/SemiF-AnnotationPipeline/notebooks/segment_specific.ipynb#ch0000003?line=0'>1</a>\u001b[0m \u001b[39mimport\u001b[39;00m \u001b[39mpyclesperanto_prototype\u001b[39;00m \u001b[39mas\u001b[39;00m \u001b[39mcle\u001b[39;00m\n\u001b[1;32m      <a href='vscode-notebook-cell:/home/weedsci/matt/SemiF-AnnotationPipeline/notebooks/segment_specific.ipynb#ch0000003?line=1'>2</a>\u001b[0m \u001b[39mimport\u001b[39;00m \u001b[39mnumpy\u001b[39;00m \u001b[39mas\u001b[39;00m \u001b[39mnp\u001b[39;00m\n\u001b[0;32m----> <a href='vscode-notebook-cell:/home/weedsci/matt/SemiF-AnnotationPipeline/notebooks/segment_specific.ipynb#ch0000003?line=2'>3</a>\u001b[0m \u001b[39mimport\u001b[39;00m \u001b[39mapoc\u001b[39;00m\n",
      "File \u001b[0;32m~/miniconda3/envs/semif/lib/python3.9/site-packages/apoc/__init__.py:2\u001b[0m, in \u001b[0;36m<module>\u001b[0;34m\u001b[0m\n\u001b[1;32m      1\u001b[0m \u001b[39mfrom\u001b[39;00m \u001b[39m.\u001b[39;00m\u001b[39m_converter\u001b[39;00m \u001b[39mimport\u001b[39;00m RFC_to_OCL\n\u001b[0;32m----> 2\u001b[0m \u001b[39mfrom\u001b[39;00m \u001b[39m.\u001b[39;00m\u001b[39m_pixel_classifier\u001b[39;00m \u001b[39mimport\u001b[39;00m PixelClassifier\n\u001b[1;32m      3\u001b[0m \u001b[39mfrom\u001b[39;00m \u001b[39m.\u001b[39;00m\u001b[39m_object_segmenter\u001b[39;00m \u001b[39mimport\u001b[39;00m ObjectSegmenter\n\u001b[1;32m      4\u001b[0m \u001b[39mfrom\u001b[39;00m \u001b[39m.\u001b[39;00m\u001b[39m_object_classifier\u001b[39;00m \u001b[39mimport\u001b[39;00m ObjectClassifier\n",
      "File \u001b[0;32m~/miniconda3/envs/semif/lib/python3.9/site-packages/apoc/_pixel_classifier.py:3\u001b[0m, in \u001b[0;36m<module>\u001b[0;34m\u001b[0m\n\u001b[1;32m      1\u001b[0m \u001b[39mimport\u001b[39;00m \u001b[39mwarnings\u001b[39;00m\n\u001b[1;32m      2\u001b[0m \u001b[39mimport\u001b[39;00m \u001b[39mnumpy\u001b[39;00m \u001b[39mas\u001b[39;00m \u001b[39mnp\u001b[39;00m\n\u001b[0;32m----> 3\u001b[0m \u001b[39mfrom\u001b[39;00m \u001b[39msklearn\u001b[39;00m\u001b[39m.\u001b[39;00m\u001b[39mensemble\u001b[39;00m \u001b[39mimport\u001b[39;00m RandomForestClassifier\n\u001b[1;32m      4\u001b[0m \u001b[39mfrom\u001b[39;00m \u001b[39m.\u001b[39;00m\u001b[39m_converter\u001b[39;00m \u001b[39mimport\u001b[39;00m RFC_to_OCL\n\u001b[1;32m      5\u001b[0m \u001b[39mfrom\u001b[39;00m \u001b[39m.\u001b[39;00m\u001b[39m_utils\u001b[39;00m \u001b[39mimport\u001b[39;00m generate_feature_stack, _read_something_from_opencl_file\n",
      "File \u001b[0;32m~/miniconda3/envs/semif/lib/python3.9/site-packages/sklearn/ensemble/__init__.py:16\u001b[0m, in \u001b[0;36m<module>\u001b[0;34m\u001b[0m\n\u001b[1;32m     14\u001b[0m \u001b[39mfrom\u001b[39;00m \u001b[39m.\u001b[39;00m\u001b[39m_weight_boosting\u001b[39;00m \u001b[39mimport\u001b[39;00m AdaBoostClassifier\n\u001b[1;32m     15\u001b[0m \u001b[39mfrom\u001b[39;00m \u001b[39m.\u001b[39;00m\u001b[39m_weight_boosting\u001b[39;00m \u001b[39mimport\u001b[39;00m AdaBoostRegressor\n\u001b[0;32m---> 16\u001b[0m \u001b[39mfrom\u001b[39;00m \u001b[39m.\u001b[39;00m\u001b[39m_gb\u001b[39;00m \u001b[39mimport\u001b[39;00m GradientBoostingClassifier\n\u001b[1;32m     17\u001b[0m \u001b[39mfrom\u001b[39;00m \u001b[39m.\u001b[39;00m\u001b[39m_gb\u001b[39;00m \u001b[39mimport\u001b[39;00m GradientBoostingRegressor\n\u001b[1;32m     18\u001b[0m \u001b[39mfrom\u001b[39;00m \u001b[39m.\u001b[39;00m\u001b[39m_voting\u001b[39;00m \u001b[39mimport\u001b[39;00m VotingClassifier\n",
      "File \u001b[0;32m~/miniconda3/envs/semif/lib/python3.9/site-packages/sklearn/ensemble/_gb.py:34\u001b[0m, in \u001b[0;36m<module>\u001b[0;34m\u001b[0m\n\u001b[1;32m     31\u001b[0m \u001b[39mfrom\u001b[39;00m \u001b[39m.\u001b[39;00m\u001b[39m.\u001b[39;00m\u001b[39mbase\u001b[39;00m \u001b[39mimport\u001b[39;00m is_classifier\n\u001b[1;32m     32\u001b[0m \u001b[39mfrom\u001b[39;00m \u001b[39m.\u001b[39;00m\u001b[39m.\u001b[39;00m\u001b[39mutils\u001b[39;00m \u001b[39mimport\u001b[39;00m deprecated\n\u001b[0;32m---> 34\u001b[0m \u001b[39mfrom\u001b[39;00m \u001b[39m.\u001b[39;00m\u001b[39m_gradient_boosting\u001b[39;00m \u001b[39mimport\u001b[39;00m predict_stages\n\u001b[1;32m     35\u001b[0m \u001b[39mfrom\u001b[39;00m \u001b[39m.\u001b[39;00m\u001b[39m_gradient_boosting\u001b[39;00m \u001b[39mimport\u001b[39;00m predict_stage\n\u001b[1;32m     36\u001b[0m \u001b[39mfrom\u001b[39;00m \u001b[39m.\u001b[39;00m\u001b[39m_gradient_boosting\u001b[39;00m \u001b[39mimport\u001b[39;00m _random_sample_mask\n",
      "File \u001b[0;32msklearn/ensemble/_gradient_boosting.pyx:1\u001b[0m, in \u001b[0;36minit sklearn.ensemble._gradient_boosting\u001b[0;34m()\u001b[0m\n",
      "\u001b[0;31mValueError\u001b[0m: sklearn.tree._criterion.ClassificationCriterion size changed, may indicate binary incompatibility. Expected 1168 from C header, got 368 from PyObject"
     ]
    }
   ],
   "source": [
    "\n"
   ]
  }
 ],
 "metadata": {
  "kernelspec": {
   "display_name": "Python 3.9.12 ('semif')",
   "language": "python",
   "name": "python3"
  },
  "language_info": {
   "codemirror_mode": {
    "name": "ipython",
    "version": 3
   },
   "file_extension": ".py",
   "mimetype": "text/x-python",
   "name": "python",
   "nbconvert_exporter": "python",
   "pygments_lexer": "ipython3",
   "version": "3.9.12"
  },
  "orig_nbformat": 4,
  "vscode": {
   "interpreter": {
    "hash": "4c242c9600c6efbb0dcc2a032516173dc4f42728cfc6a50205a5922c28a96ecc"
   }
  }
 },
 "nbformat": 4,
 "nbformat_minor": 2
}
