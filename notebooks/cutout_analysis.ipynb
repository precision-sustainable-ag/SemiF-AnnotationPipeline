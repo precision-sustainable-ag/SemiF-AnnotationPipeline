{
 "cells": [
  {
   "cell_type": "code",
   "execution_count": 33,
   "metadata": {},
   "outputs": [],
   "source": [
    "import pandas as pd\n",
    "import matplotlib.pyplot as plt\n",
    "import numpy as np\n",
    "from pathlib import Path\n",
    "import cv2\n",
    "import sys\n",
    "sys.path.append(\"..\")\n",
    "from utils.utils import trans_cutout\n",
    "import seaborn as sns\n",
    "\n",
    "import matplotlib.pyplot as plt"
   ]
  },
  {
   "cell_type": "code",
   "execution_count": 66,
   "metadata": {},
   "outputs": [
    {
     "data": {
      "image/png": "[encoded data removed]",
      "text/plain": [
       "<Figure size 640x480 with 3 Axes>"
      ]
     },
     "metadata": {},
     "output_type": "display_data"
    }
   ],
   "source": [
    "evmask = np.zeros((10,10))\n",
    "evmask[2:5, 2:5] = 1 #[255,255,255]\n",
    "\n",
    "mask = np.zeros((10,10))\n",
    "mask[4:9, 3:9] = True #1#[255,255,255]\n",
    "\n",
    "mask_reverse = cv2.bitwise_not(evmask)\n",
    "bitwiseAnd = cv2.bitwise_and(mask, mask_reverse)\n",
    "\n",
    "\n",
    "fig, (ax1, ax2, ax3) = plt.subplots(1,3)\n",
    "ax1.imshow(evmask)\n",
    "ax2.imshow(mask)\n",
    "ax3.imshow(bitwiseAnd)\n",
    "plt.show()\n",
    "\n"
   ]
  },
  {
   "cell_type": "code",
   "execution_count": null,
   "metadata": {},
   "outputs": [],
   "source": []
  },
  {
   "cell_type": "code",
   "execution_count": null,
   "metadata": {},
   "outputs": [],
   "source": []
  },
  {
   "cell_type": "code",
   "execution_count": 32,
   "metadata": {},
   "outputs": [
    {
     "name": "stdout",
     "output_type": "stream",
     "text": [
      "(6368, 9560, 1)\n",
      "<class 'numpy.ndarray'>\n",
      "bool\n",
      "[False]\n"
     ]
    }
   ],
   "source": [
    "#Set the values you want here\n",
    "NEW_FILE = \"find_rgb_values_NC_1668004389.png\"\n",
    "TARGET_PIXEL = [[199, 132, 246]]\n",
    "REPLACE_PIXEL = [255, 255, 255]\n",
    "# palette = [[0, 0, 0]]\n",
    "palette = [[0, 0, 0], [246, 229, 226], [127, 122, 107], [107, 170, 237],\n",
    "           [192, 253, 121], [234, 107, 154], [158, 204, 181],\n",
    "           [225, 172, 108], [106, 254, 205], [113, 192, 132], [254, 136, 199]]\n",
    "palette = np.array(palette).transpose()\n",
    "# palette = np.array(palette).astype(np.uint8)\n",
    "\n",
    "# rgb_target = np.array(TARGET_PIXEL)  #.astype(np.float32)\n",
    "replace = np.array(REPLACE_PIXEL)  #.astype(np.float32)\n",
    "target = np.array(TARGET_PIXEL).transpose()\n",
    "image = cv2.cvtColor(\n",
    "    cv2.imread(\n",
    "        \"/home/psa_images/SemiF-AnnotationPipeline/data/semifield-developed-images/NC_2022-11-09/meta_masks/instance_masks/NC_1668004596.png\"\n",
    "    ), cv2.COLOR_BGR2RGB)\n",
    "# image = cv2.imread(\"/home/psa_images/SemiF-AnnotationPipeline/data/semifield-developed-images/NC_2022-11-09/meta_masks/instance_masks/NC_1668004596.png\")\n",
    "\n",
    "# image[np.where(np.array([image == rgb_target]).all(axis = 2))] = replace\n",
    "# cv2.imwrite(NEW_FILE, image)\n",
    "\n",
    "# temp_mask = (image[:, :, :, None] == palette).all(2).any(-1)\n",
    "\n",
    "# print(temp_mask.max())\n",
    "# print(temp_mask.min())\n",
    "# print(np.unique(temp_mask))\n",
    "\n",
    "# back_mask = np.where(temp_mask[:, :, None], image, replace[None, None, :])\n",
    "tmp_mask = (image[:,:,:,None] == target).all(2)#.any(-1)\n",
    "\n",
    "print(tmp_mask.shape)\n",
    "print(type(tmp_mask))\n",
    "print(tmp_mask.dtype)\n",
    "print(np.unique(tmp_mask))"
   ]
  },
  {
   "cell_type": "code",
   "execution_count": 26,
   "metadata": {},
   "outputs": [
    {
     "data": {
      "text/plain": [
       "<matplotlib.image.AxesImage at 0x7f26ee427760>"
      ]
     },
     "execution_count": 26,
     "metadata": {},
     "output_type": "execute_result"
    },
    {
     "data": {
      "image/png": "[encoded data removed]",
      "text/plain": [
       "<Figure size 640x480 with 1 Axes>"
      ]
     },
     "metadata": {},
     "output_type": "display_data"
    }
   ],
   "source": [
    "# print(temp_mask.shape)\n",
    "# print(temp_mask.dtype)\n",
    "# rgbsave = cv2.cvtColor(back_mask.astype(np.uint8), cv2.COLOR_RGB2BGR)\n",
    "# cv2.imwrite(NEW_FILE,rgbsave)\n",
    "# cv2.imwrite(NEW_FILE,back_mask)\n",
    "plt.imshow(tmp_mask)"
   ]
  },
  {
   "cell_type": "code",
   "execution_count": null,
   "metadata": {},
   "outputs": [],
   "source": [
    "batch_id = \"NC_2022-11-09\"\n",
    "df = pd.read_csv(f\"../data/semifield-cutouts/{batch_id}/{batch_id}.csv\")\n",
    "\n",
    "df[\"state_id\"] = df.batch_id.str.split(\"_\", expand=False).str[0]\n",
    "df[\"date\"] = df.batch_id.str.split(\"_\", expand=False).str[1]\n",
    "df[\"common_name\"] = np.where(df.common_name == \"Common lambsquarters\", \"Lambsquarter\", df.common_name)\n",
    "df[\"temp_path\"] = \"../data/semifield-cutouts/\" + df[\"cutout_path\"]"
   ]
  },
  {
   "cell_type": "code",
   "execution_count": null,
   "metadata": {},
   "outputs": [],
   "source": [
    "features = [\n",
    "    \"blob_home\", \"image_id\", \"cutout_num\", \"datetime\", \"cutout_id\",\n",
    "    \"is_primary\", \"extends_border\", \"r_count\", \"r_mean\", \"r_std\", \"r_min\",\n",
    "    \"r_25%\", \"r_50%\", \"r_75%\", \"r_max\", \"r_variance\", \"r_skewness\",\n",
    "    \"r_kurtosis\", \"g_count\", \"g_mean\", \"g_std\", \"g_min\", \"g_25%\", \"g_50%\",\n",
    "    \"g_75%\", \"g_max\", \"g_variance\", \"g_skewness\", \"g_kurtosis\", \"b_count\",\n",
    "    \"b_mean\", \"b_std\", \"b_min\", \"b_25%\", \"b_50%\", \"b_75%\", \"b_max\",\n",
    "    \"b_variance\", \"b_skewness\", \"b_kurtosis\", \"area\", \"common_name\",\n",
    "    \"growth_habit\", \"duration\", \"category\", \"hex\", \"r\", \"g\", \"b\", \"area_bbox\",\n",
    "    \"area_convex\", \"axis_major_length\", \"axis_minor_length\", \"centroid0\",\n",
    "    \"centroid1\", \"eccentricity\", \"solidity\", \"perimeter\",\n",
    "    \"green_sum\", \"blur_effect\", \"num_components\", \"state_id\"\n",
    "]\n"
   ]
  },
  {
   "cell_type": "code",
   "execution_count": null,
   "metadata": {},
   "outputs": [],
   "source": [
    "named_featdata = df.loc[:, features]\n",
    "multfeatdf = named_featdata.groupby([\"common_name\"]).describe().reset_index()#names=[\"common_name\"])\n",
    "multfeatdf = multfeatdf[multfeatdf[\"common_name\"]!=\"colorchecker\"]\n",
    "# print(multfeatdf)\n",
    "# savedir = \"/home/weedsci/matt/SemiF-AnnotationPipeline/assets\"\n",
    "# multfeatdf.to_csv(f\"{savedir}/describe_all_cutouts.csv\", index=False)\n",
    "multfeatdf\n",
    "multfeatdf.columns = multfeatdf.columns.to_flat_index()\n",
    "multfeatdf.columns = ['_'.join(x) for x in multfeatdf.columns.get_level_values(0)]\n",
    "for i in multfeatdf.columns:\n",
    "    print(i)\n"
   ]
  },
  {
   "cell_type": "code",
   "execution_count": null,
   "metadata": {},
   "outputs": [],
   "source": [
    "# batch = \"TX_2023-01-13\"\n",
    "c = df.groupby([\"common_name\", \"state_id\", \"is_primary\"]).cutout_id.count().reset_index().sort_values(\"cutout_id\")\n",
    "c = c[c[\"common_name\"]!=\"colorchecker\"]\n",
    "g = sns.catplot(\n",
    "    data=c,\n",
    "    x=\"cutout_id\",\n",
    "    y=\"common_name\",\n",
    "    hue=\"is_primary\",\n",
    "    orient=\"horizontal\",\n",
    "    col=\"state_id\",\n",
    "    sharey=False,\n",
    "    kind=\"bar\",\n",
    "    aspect=.8,\n",
    "    height=14\n",
    ")\n",
    "g.set(xlabel=\"\", ylabel=\"\")\n",
    "g.set_titles(col_template=\"{col_name}\")\n",
    "g._legend.set_title(\"\")\n",
    "# replace labels\n",
    "new_labels = ['duplicates', 'unique']\n",
    "for t, l in zip(g._legend.texts, new_labels):\n",
    "    t.set_text(l)\n",
    "\n",
    "sns.move_legend(g, \"center right\", bbox_to_anchor=(.9, .55), frameon=False)\n",
    "\n",
    "g.fig.subplots_adjust(top=0.9) # adjust the Figure in rp\n",
    "g.fig.suptitle('Number of Cutouts (sub-images) by Batch')\n",
    "# g.savefig(f\"../assets/Cutouts_for_batch{batch}.png\", dpi=300)"
   ]
  },
  {
   "cell_type": "code",
   "execution_count": null,
   "metadata": {},
   "outputs": [],
   "source": [
    "sns.catplot(\n",
    "    data=multfeatdf, x=\"area_mean\", y=\"common_name_\",height=8, aspect=1.5,\n",
    "    kind=\"bar\")"
   ]
  },
  {
   "cell_type": "code",
   "execution_count": null,
   "metadata": {},
   "outputs": [],
   "source": [
    "\n",
    "sns.catplot(\n",
    "    data=multfeatdf, x=\"green_sum_mean\", y=\"common_name_\",height=8, aspect=1.5,\n",
    "    kind=\"bar\")"
   ]
  },
  {
   "cell_type": "code",
   "execution_count": null,
   "metadata": {},
   "outputs": [],
   "source": [
    "\n",
    "sns.catplot(\n",
    "    data=multfeatdf, x=\"blur_effect_mean\", y=\"common_name_\",height=8, aspect=1.5,\n",
    "    kind=\"bar\")"
   ]
  },
  {
   "cell_type": "code",
   "execution_count": null,
   "metadata": {},
   "outputs": [],
   "source": [
    "sns.catplot(\n",
    "    data=multfeatdf, x=\"num_components_mean\", y=\"common_name_\",height=8, aspect=1.5,\n",
    "    kind=\"bar\")"
   ]
  },
  {
   "cell_type": "code",
   "execution_count": null,
   "metadata": {},
   "outputs": [],
   "source": [
    "sns.catplot(\n",
    "    data=multfeatdf, x=\"solidity_mean\", y=\"common_name_\",height=8, aspect=1.5,\n",
    "    kind=\"bar\")"
   ]
  },
  {
   "cell_type": "code",
   "execution_count": null,
   "metadata": {},
   "outputs": [],
   "source": [
    "sns.catplot(\n",
    "    data=multfeatdf, x=\"area_bbox_mean\", y=\"common_name_\",height=8, aspect=1.5,\n",
    "    kind=\"bar\")"
   ]
  }
 ],
 "metadata": {
  "kernelspec": {
   "display_name": "semif",
   "language": "python",
   "name": "python3"
  },
  "language_info": {
   "codemirror_mode": {
    "name": "ipython",
    "version": 3
   },
   "file_extension": ".py",
   "mimetype": "text/x-python",
   "name": "python",
   "nbconvert_exporter": "python",
   "pygments_lexer": "ipython3",
   "version": "3.9.16"
  },
  "orig_nbformat": 4,
  "vscode": {
   "interpreter": {
    "hash": "8279eecd1528dd5e2f7395d57c9827a1442d1caded89f90ad81269e8d78b5418"
   }
  }
 },
 "nbformat": 4,
 "nbformat_minor": 2
}
