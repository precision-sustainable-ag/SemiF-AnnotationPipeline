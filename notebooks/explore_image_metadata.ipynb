{
 "cells": [
  {
   "cell_type": "code",
   "execution_count": 1,
   "metadata": {},
   "outputs": [],
   "source": [
    "from pathlib import Path\n",
    "import exifread\n",
    "import sys\n",
    "sys.path.append(\"..\")\n",
    "from datasets import ImageMetadata"
   ]
  },
  {
   "cell_type": "code",
   "execution_count": 2,
   "metadata": {},
   "outputs": [],
   "source": [
    "imgs = Path(\"../data/trial/NC_2022-03-11/developed\").glob(\"*.jpg\")\n",
    "imgs = [x for x in imgs]\n",
    "img = imgs[0]"
   ]
  },
  {
   "cell_type": "code",
   "execution_count": 6,
   "metadata": {},
   "outputs": [],
   "source": [
    "def get_exif(path):\n",
    "    \"\"\"Creates a dataclass dynamically by reading exif metadata, creating a dictionary, and creating dataclass form that dictionary\n",
    "    Args:\n",
    "        path (str) : image path\n",
    "    Returns:\n",
    "        object : dataclass of image exif metadata    \n",
    "        \"\"\"\n",
    "    # Open image file for reading (must be in binary mode)\n",
    "    f = open(path, 'rb')\n",
    "    # Return Exif tags\n",
    "    tags = exifread.process_file(f,details=True)\n",
    "    f.close()\n",
    "    meta = {}\n",
    "    for x, y in tags.items():\n",
    "        newval = y.values[0] if type(y.values) == list and len(y.values) == 1 else y.values\n",
    "        meta[x.rsplit(\" \")[1]] = newval   \n",
    "    meta.pop(\"MakerNote\"), meta.pop(\"UserComment\"), meta.pop(\"ImageDescription\"), meta.pop(\"ApplicationNotes\")\n",
    "    return meta\n",
    "    \n",
    "metadict = get_exif(img)\n"
   ]
  },
  {
   "cell_type": "code",
   "execution_count": 7,
   "metadata": {},
   "outputs": [
    {
     "data": {
      "text/plain": [
       "ImageMetadata(ImageWidth=9592, ImageLength=6368, BitsPerSample=8, Compression=1, PhotometricInterpretation=2, Make='SONY', Model='ILCE-7RM4A', Orientation=1, SamplesPerPixel=3, XResolution=300, YResolution=300, PlanarConfiguration=1, ResolutionUnit=2, Software='RawTherapee 5.8', DateTime='2022:03:11 11:05:50', Tag=4452, Rating=0, ExifOffset=4482, ExposureTime=1/200, FNumber=9, ExposureProgram=1, ISOSpeedRatings=64, RecommendedExposureIndex=64, ExifVersion=[48, 50, 51, 49], DateTimeOriginal='2022:03:11 11:05:50', DateTimeDigitized='2022:03:11 11:05:50', BrightnessValue=977/1280, ExposureBiasValue=0, MaxApertureValue=217/128, MeteringMode=5, LightSource=0, Flash=13, FocalLength=55, FileSource=3, SceneType=1, CustomRendered=0, ExposureMode=1, WhiteBalance=0, DigitalZoomRatio=1, FocalLengthIn35mmFilm=55, SceneCaptureType=0, Contrast=0, Saturation=0, Sharpness=0, LensSpecification=[55, 55, 9/5, 9/5], LensModel='FE 55mm F1.8 ZA', ImageDescription=None, MakerNote=None, UserComment=None, ApplicationNotes=None)"
      ]
     },
     "execution_count": 7,
     "metadata": {},
     "output_type": "execute_result"
    }
   ],
   "source": [
    "ImageMetadata(**metadict)"
   ]
  },
  {
   "cell_type": "code",
   "execution_count": null,
   "metadata": {},
   "outputs": [],
   "source": []
  }
 ],
 "metadata": {
  "interpreter": {
   "hash": "59b627dbbc37ebbb1d7be1ff42181d533d94977a5210449e7ff5229441e2702b"
  },
  "kernelspec": {
   "display_name": "Python 3.9.12 ('autoann')",
   "language": "python",
   "name": "python3"
  },
  "language_info": {
   "codemirror_mode": {
    "name": "ipython",
    "version": 3
   },
   "file_extension": ".py",
   "mimetype": "text/x-python",
   "name": "python",
   "nbconvert_exporter": "python",
   "pygments_lexer": "ipython3",
   "version": "3.9.12"
  },
  "orig_nbformat": 4
 },
 "nbformat": 4,
 "nbformat_minor": 2
}
