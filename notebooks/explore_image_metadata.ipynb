{
 "cells": [
  {
   "cell_type": "code",
   "execution_count": 56,
   "metadata": {},
   "outputs": [],
   "source": [
    "from pathlib import Path\n",
    "import exifread\n",
    "import sys\n",
    "\n",
    "sys.path.append(\"..\")\n",
    "from semif_utils.mongo_utils import to_db, Connect\n",
    "from semif_utils.datasets import ImageMetadata"
   ]
  },
  {
   "cell_type": "code",
   "execution_count": 55,
   "metadata": {},
   "outputs": [],
   "source": [
    "imgs = Path(\"../data/trial/NC_2022-03-11/developed\").glob(\"*.jpg\")\n",
    "imgs = [x for x in imgs]\n",
    "img = imgs[0]"
   ]
  },
  {
   "cell_type": "code",
   "execution_count": 59,
   "metadata": {},
   "outputs": [
    {
     "data": {
      "text/plain": [
       "Database(MongoClient(host=['localhost:27017'], document_class=dict, tz_aware=False, connect=True), 'test_v2')"
      ]
     },
     "execution_count": 59,
     "metadata": {},
     "output_type": "execute_result"
    }
   ],
   "source": [
    "def get_exif(path):\n",
    "    \"\"\"Creates a dataclass dynamically by reading exif metadata, creating a dictionary, and creating dataclass form that dictionary\n",
    "    Args:\n",
    "        path (str) : image path\n",
    "    Returns:\n",
    "        object : dataclass of image exif metadata    \n",
    "        \"\"\"\n",
    "    # Open image file for reading (must be in binary mode)\n",
    "    f = open(path, 'rb')\n",
    "    # Return Exif tags\n",
    "    tags = exifread.process_file(f,details=False)\n",
    "    # print(tags)\n",
    "    f.close()\n",
    "    meta = {}\n",
    "    for x, y in tags.items():\n",
    "        newval = y.values[0] if type(y.values) == list and len(y.values) == 1 else y.values\n",
    "        if type(newval) == exifread.utils.Ratio:\n",
    "            newval = str(newval)\n",
    "        meta[x.rsplit(\" \")[1]] = newval\n",
    "        pop_list = [\"MakerNote\", \"UserComment\", \"ImageDescription\", \"ApplicationNotes\"]\n",
    "        meta.pop(x.rsplit(\" \")[1])  if x.rsplit(\" \")[1] in pop_list else None\n",
    "    return meta\n",
    "    \n",
    "# metadict = get_exif(img)\n",
    "# db = Connect.get_connection().test_v2"
   ]
  },
  {
   "cell_type": "code",
   "execution_count": 61,
   "metadata": {},
   "outputs": [],
   "source": [
    "imgdata = ImageMetadata(**metadict)\n"
   ]
  },
  {
   "cell_type": "code",
   "execution_count": null,
   "metadata": {},
   "outputs": [],
   "source": [
    "to_db(db, \"Images\", imgdata)"
   ]
  },
  {
   "cell_type": "code",
   "execution_count": 36,
   "metadata": {},
   "outputs": [
    {
     "data": {
      "text/plain": [
       "ImageMetadata(ImageWidth=9592, ImageLength=6368, BitsPerSample=8, Compression=1, PhotometricInterpretation=2, Make='SONY', Model='ILCE-7RM4A', Orientation=1, SamplesPerPixel=3, XResolution='300', YResolution='300', PlanarConfiguration=1, ResolutionUnit=2, Software='RawTherapee 5.8', DateTime='2022:03:11 11:05:50', Tag=4452, Rating=0, ExifOffset=4482, ExposureTime='1/200', FNumber='9', ExposureProgram=1, ISOSpeedRatings=64, RecommendedExposureIndex=64, ExifVersion=[48, 50, 51, 49], DateTimeOriginal='2022:03:11 11:05:50', DateTimeDigitized='2022:03:11 11:05:50', BrightnessValue='977/1280', ExposureBiasValue='0', MaxApertureValue='217/128', MeteringMode=5, LightSource=0, Flash=13, FocalLength='55', FileSource=3, SceneType=1, CustomRendered=0, ExposureMode=1, WhiteBalance=0, DigitalZoomRatio='1', FocalLengthIn35mmFilm=55, SceneCaptureType=0, Contrast=0, Saturation=0, Sharpness=0, LensSpecification=[55, 55, 9/5, 9/5], LensModel='FE 55mm F1.8 ZA', ImageDescription='                               ', MakerNote=None, UserComment=None, ApplicationNotes=None)"
      ]
     },
     "execution_count": 36,
     "metadata": {},
     "output_type": "execute_result"
    }
   ],
   "source": []
  },
  {
   "cell_type": "code",
   "execution_count": 13,
   "metadata": {},
   "outputs": [
    {
     "data": {
      "text/plain": [
       "{'ImageWidth': 9592,\n",
       " 'ImageLength': 6368,\n",
       " 'BitsPerSample': 8,\n",
       " 'Compression': 1,\n",
       " 'PhotometricInterpretation': 2,\n",
       " 'Make': 'SONY',\n",
       " 'Model': 'ILCE-7RM4A',\n",
       " 'Orientation': 1,\n",
       " 'SamplesPerPixel': 3,\n",
       " 'XResolution': 300,\n",
       " 'YResolution': 300,\n",
       " 'PlanarConfiguration': 1,\n",
       " 'ResolutionUnit': 2,\n",
       " 'Software': 'RawTherapee 5.8',\n",
       " 'DateTime': '2022:03:11 11:05:50',\n",
       " 'Tag': 4452,\n",
       " 'Rating': 0,\n",
       " 'ExifOffset': 4482,\n",
       " 'ExposureTime': 1/200,\n",
       " 'FNumber': 9,\n",
       " 'ExposureProgram': 1,\n",
       " 'ISOSpeedRatings': 64,\n",
       " 'RecommendedExposureIndex': 64,\n",
       " 'ExifVersion': [48, 50, 51, 49],\n",
       " 'DateTimeOriginal': '2022:03:11 11:05:50',\n",
       " 'DateTimeDigitized': '2022:03:11 11:05:50',\n",
       " 'BrightnessValue': 977/1280,\n",
       " 'ExposureBiasValue': 0,\n",
       " 'MaxApertureValue': 217/128,\n",
       " 'MeteringMode': 5,\n",
       " 'LightSource': 0,\n",
       " 'Flash': 13,\n",
       " 'FocalLength': 55,\n",
       " 'FileSource': 3,\n",
       " 'SceneType': 1,\n",
       " 'CustomRendered': 0,\n",
       " 'ExposureMode': 1,\n",
       " 'WhiteBalance': 0,\n",
       " 'DigitalZoomRatio': 1,\n",
       " 'FocalLengthIn35mmFilm': 55,\n",
       " 'SceneCaptureType': 0,\n",
       " 'Contrast': 0,\n",
       " 'Saturation': 0,\n",
       " 'Sharpness': 0,\n",
       " 'LensSpecification': [55, 55, 9/5, 9/5],\n",
       " 'LensModel': 'FE 55mm F1.8 ZA'}"
      ]
     },
     "execution_count": 13,
     "metadata": {},
     "output_type": "execute_result"
    }
   ],
   "source": [
    "metadict"
   ]
  },
  {
   "cell_type": "code",
   "execution_count": null,
   "metadata": {},
   "outputs": [],
   "source": []
  }
 ],
 "metadata": {
  "interpreter": {
   "hash": "59b627dbbc37ebbb1d7be1ff42181d533d94977a5210449e7ff5229441e2702b"
  },
  "kernelspec": {
   "display_name": "Python 3.9.12 ('autoann')",
   "language": "python",
   "name": "python3"
  },
  "language_info": {
   "codemirror_mode": {
    "name": "ipython",
    "version": 3
   },
   "file_extension": ".py",
   "mimetype": "text/x-python",
   "name": "python",
   "nbconvert_exporter": "python",
   "pygments_lexer": "ipython3",
   "version": "3.9.12"
  },
  "orig_nbformat": 4
 },
 "nbformat": 4,
 "nbformat_minor": 2
}
