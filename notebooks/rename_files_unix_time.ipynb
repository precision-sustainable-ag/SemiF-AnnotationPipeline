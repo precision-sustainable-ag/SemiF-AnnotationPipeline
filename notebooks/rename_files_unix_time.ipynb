{
 "cells": [
  {
   "cell_type": "code",
   "execution_count": 1,
   "metadata": {},
   "outputs": [],
   "source": [
    "from pathlib import Path\n",
    "import exifread\n",
    "import sys\n",
    "import time\n",
    "import datetime\n",
    "\n",
    "sys.path.append(\"..\")\n",
    "from semif_utils.mongo_utils import to_db, Connect\n",
    "from semif_utils.datasets import ImageMetadata\n",
    "import shutil"
   ]
  },
  {
   "cell_type": "code",
   "execution_count": 2,
   "metadata": {},
   "outputs": [],
   "source": [
    "imgs = Path(\"../blob_container/semifield-developed-images-trial/NC_2022-03-11\").glob(\"*.jpg\")\n",
    "imgs = [x for x in imgs]"
   ]
  },
  {
   "cell_type": "code",
   "execution_count": 11,
   "metadata": {},
   "outputs": [
    {
     "name": "stdout",
     "output_type": "stream",
     "text": [
      "Datetime from image exif metadata:  2022:03:11 11:02:49\n",
      "Unix millisecond time:  1647018169000.0\n",
      "Back to datetime string but in another format:  2022-03-11 11:02:49\n",
      "['2022', '03', '29']\n"
     ]
    },
    {
     "data": {
      "text/plain": [
       "'2022-03-29 00:00:00'"
      ]
     },
     "execution_count": 11,
     "metadata": {},
     "output_type": "execute_result"
    }
   ],
   "source": [
    "def get_metadata(path):\n",
    "    \"\"\" Change image filename to [state]_[row_number]_[stop]_[unixtime from image metadata]\n",
    "    datetime to unix time in milliseconds\n",
    "    \"\"\"\n",
    "    # Open image file for reading (must be in binary mode)\n",
    "    f = open(path, 'rb')\n",
    "    # Return Exif tags\n",
    "    tags = exifread.process_file(f,details=False)\n",
    "    f.close()\n",
    "    meta = {}\n",
    "    for x, y in tags.items():\n",
    "        newval = y.values[0] if type(y.values) == list and len(y.values) == 1 else y.values\n",
    "        if type(newval) == exifread.utils.Ratio:\n",
    "            newval = str(newval)\n",
    "        meta[x.rsplit(\" \")[1]] = newval\n",
    "        pop_list = [\"MakerNote\", \"UserComment\", \"ImageDescription\", \"ApplicationNotes\"]\n",
    "        meta.pop(x.rsplit(\" \")[1])  if x.rsplit(\" \")[1] in pop_list else None\n",
    "    return meta\n",
    "\n",
    "\n",
    "\n",
    "def computer_now_2_unixmilli():\n",
    "    ms = datetime.datetime.now()\n",
    "    unixmilli = time.mktime(ms.timetuple()) * 1000\n",
    "    return unixmilli\n",
    "\n",
    "def exifdatetime_2_unixmilli(imgmeta):\n",
    "    dt = imgmeta[\"DateTime\"]\n",
    "    dt = datetime.datetime.strptime(dt, '%Y:%m:%d %H:%M:%S')\n",
    "    milliunix = time.mktime(dt.timetuple()) * 1000\n",
    "    return milliunix\n",
    "\n",
    "def unixmilli_2_datetime(unixmilli_time):\n",
    "    unix_time = unixmilli_time / 1000\n",
    "    date_time = datetime.datetime.fromtimestamp(int(unix_time))\n",
    "    dt_str = date_time.strftime('%Y-%m-%d %H:%M:%S')\n",
    "    return dt_str\n",
    "\n",
    "def folder_date_2_unixmilli(date):\n",
    "    dtp = date.split(\"-\")\n",
    "    \n",
    "    print(dtp)\n",
    "    \n",
    "    date_format = datetime.date(int(dtp[0]), int(dtp[1]), int(dtp[2]))\n",
    "\n",
    "    unixmilli = time.mktime(date_format.timetuple()) * 1000\n",
    "    return unixmilli\n",
    "\n",
    "img = imgs[0]\n",
    "meta = get_metadata(img)\n",
    "print(\"Datetime from image exif metadata: \", meta[\"DateTime\"])\n",
    "unixmil = exifdatetime_2_unixmilli(meta) \n",
    "print(\"Unix millisecond time: \", unixmil)\n",
    "dt = unixmilli_2_datetime(unixmil)\n",
    "print(\"Back to datetime string but in another format: \", dt)\n",
    "folderdate = folder_date_2_unixmilli(\"2022-03-29\")\n"
   ]
  },
  {
   "cell_type": "code",
   "execution_count": 76,
   "metadata": {},
   "outputs": [],
   "source": [
    "imgs = Path(\"../blob_container/semifield-developed-images-trial/NC_2022-04-12\").glob(\"*.jpg\")\n",
    "imgs = [x for x in imgs]\n",
    "for img in imgs:\n",
    "\n",
    "    meta = get_metadata(img)\n",
    "    unixmil = exifdatetime_2_unixmilli(meta)\n",
    "    fstem = img.stem\n",
    "    parts = fstem.split(\"_\")\n",
    "    state = parts[0]\n",
    "    stop = parts[-1]\n",
    "    row = parts[-2].replace(\"row\", \"\")\n",
    "    src = img\n",
    "    dst = Path(img.parent, f\"{state}_{row}_{stop}_{unixmil}.jpg\")\n",
    "    # shutil.move(src, dst)\n",
    "    "
   ]
  },
  {
   "cell_type": "code",
   "execution_count": 85,
   "metadata": {},
   "outputs": [],
   "source": [
    "imgs = Path(\"../blob_container/semifield-developed-images-trial/NC_2022-04-05\").glob(\"*.jpg\")\n",
    "imgs = [x for x in imgs]\n",
    "for img in imgs:\n",
    "    fstem = img.stem\n",
    "    parts = fstem.split(\"_\")[1:]\n",
    "    join_parts = \"_\".join(parts)\n",
    "    dst = Path(img.parent, f\"NC_{join_parts}.jpg\")\n",
    "    src = img\n",
    "    # shutil.move(src, dst)"
   ]
  },
  {
   "cell_type": "code",
   "execution_count": 22,
   "metadata": {},
   "outputs": [
    {
     "name": "stdout",
     "output_type": "stream",
     "text": [
      "['2022', '03', '29']\n",
      "1648530000000.0\n",
      "2022-03-29 00:00:00\n"
     ]
    }
   ],
   "source": [
    "# change folder name\n",
    "dir = Path(\"../blob_container/semifield-developed-images-trial/NC_2022-04-05\")\n",
    "dirdate = dir.name.split(\"_\")[1]\n",
    "dir_unixmilli = folder_date_2_unixmilli(dirdate)\n",
    "print(dir_unixmilli)\n",
    "dt = unixmilli_2_datetime(dir_unixmilli)\n",
    "print(dt)\n",
    "# Path(f\"../blob_container/semifield-developed-images-trial/NC_{dir_unixmilli}\").mkdir()\n",
    "\n"
   ]
  },
  {
   "cell_type": "code",
   "execution_count": null,
   "metadata": {},
   "outputs": [],
   "source": []
  }
 ],
 "metadata": {
  "interpreter": {
   "hash": "59b627dbbc37ebbb1d7be1ff42181d533d94977a5210449e7ff5229441e2702b"
  },
  "kernelspec": {
   "display_name": "Python 3.9.12 ('autoann')",
   "language": "python",
   "name": "python3"
  },
  "language_info": {
   "codemirror_mode": {
    "name": "ipython",
    "version": 3
   },
   "file_extension": ".py",
   "mimetype": "text/x-python",
   "name": "python",
   "nbconvert_exporter": "python",
   "pygments_lexer": "ipython3",
   "version": "3.9.12"
  },
  "orig_nbformat": 4
 },
 "nbformat": 4,
 "nbformat_minor": 2
}
