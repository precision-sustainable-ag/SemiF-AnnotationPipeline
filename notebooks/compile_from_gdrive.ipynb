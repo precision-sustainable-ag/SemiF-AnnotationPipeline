{
 "cells": [
  {
   "cell_type": "code",
   "execution_count": 1,
   "metadata": {},
   "outputs": [],
   "source": [
    "from pathlib import Path\n",
    "import shutil"
   ]
  },
  {
   "cell_type": "code",
   "execution_count": 5,
   "metadata": {},
   "outputs": [],
   "source": [
    "root_dir = Path(\"/home/admin_mkutugata/Downloads/data/\")\n",
    "ndir = root_dir.glob(\"*\")\n",
    "dates = [   \n",
    "    # \"2022-03-29\",\n",
    "            # \"2022-04-05\", \n",
    "            # \"2022-04-12\",\n",
    "            \"2022-04-22\"\n",
    "            ]\n",
    "\n",
    "dates_dir = [   \n",
    "    # \"/home/admin_mkutugata/Downloads/data/data/2022-03-29/\",\n",
    "                # \"/home/admin_mkutugata/Downloads/data/data/2022-04-05/\", \n",
    "                \"/home/admin_mkutugata/Downloads/data/data/trial/NC_2022-03-22/\"\n",
    "            ]\n",
    "\n",
    "date_num = 0\n",
    "# ndir= [x for x in ndir]\n",
    "for i in ndir:\n",
    "    zip_dirs = Path(i).glob(\"*\")\n",
    "    for j in zip_dirs:\n",
    "        zip_dir_test_runs = Path(j).glob(\"*\")\n",
    "        for k in zip_dir_test_runs:\n",
    "            # print(k)\n",
    "            zip_dir_test_runs_date = Path(k).glob(\"*\")\n",
    "            for l in zip_dir_test_runs_date:\n",
    "                print(l)\n",
    "                if \"run4measurements.txt\" in str(l):\n",
    "                    src = l\n",
    "                    dst = Path(dates_dir[date_num], src.name)\n",
    "                    # shutil.copy(src, dst)\n",
    "                    print(str(l))\n",
    "                    print(src)\n",
    "                    print(dst)\n",
    "                    # if dates[date_num] in str(l):\n",
    "                        \n",
    "                    #     imgs = Path(l).rglob(\"*\")\n",
    "                    #     for img in imgs:\n",
    "                    #         src = img\n",
    "                    #         dst = Path(dates_dir[date_num], img.name)\n",
    "                    #         # print(src)\n",
    "                            # print(dst)\n",
    "                            # print()\n",
    "                            \n",
    "                            # shutil.copy(src, dst)\n",
    "                        \n",
    "                         \n",
    "                         \n",
    "                    \n",
    "\n",
    "        \n",
    "\n",
    "\n"
   ]
  },
  {
   "cell_type": "code",
   "execution_count": 18,
   "metadata": {},
   "outputs": [],
   "source": [
    "root_dir = Path(\"/home/admin_mkutugata/SemiF-AnnotationPipeline/data/data/trial/NC_2022-03-22\")\n",
    "dst_dir = Path(\"/home/admin_mkutugata/SemiF-AnnotationPipeline/data/data/trial/NC_2022-03-22/developed\")\n",
    "ndir = root_dir.rglob(\"*.JPG\")\n",
    "ndir = [x for x in ndir]\n",
    "for x in ndir:\n",
    "    src = x\n",
    "    row = x.parts[-2].lower()\n",
    "    stop = x.parts[-1].replace(\"DSC0000\",\"\")\n",
    "    stop= stop.replace(\"JPG\",\"jpg\")\n",
    "    imgname = row + \"_\" + stop\n",
    "    dst = Path(dst_dir, imgname)\n",
    "    # shutil.copy(src, dst)\n",
    "    # print(imgname)"
   ]
  },
  {
   "cell_type": "code",
   "execution_count": null,
   "metadata": {},
   "outputs": [],
   "source": []
  }
 ],
 "metadata": {
  "interpreter": {
   "hash": "59b627dbbc37ebbb1d7be1ff42181d533d94977a5210449e7ff5229441e2702b"
  },
  "kernelspec": {
   "display_name": "Python 3.9.12 ('autoann')",
   "language": "python",
   "name": "python3"
  },
  "language_info": {
   "codemirror_mode": {
    "name": "ipython",
    "version": 3
   },
   "file_extension": ".py",
   "mimetype": "text/x-python",
   "name": "python",
   "nbconvert_exporter": "python",
   "pygments_lexer": "ipython3",
   "version": "3.9.12"
  },
  "orig_nbformat": 4
 },
 "nbformat": 4,
 "nbformat_minor": 2
}
