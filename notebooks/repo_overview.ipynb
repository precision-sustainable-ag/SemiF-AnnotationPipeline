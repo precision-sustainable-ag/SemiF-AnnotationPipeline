{
 "cells": [
  {
   "cell_type": "code",
   "execution_count": null,
   "metadata": {},
   "outputs": [],
   "source": [
    "import pandas as pd\n",
    "from pathlib import Path\n",
    "import matplotlib.pyplot as plt\n",
    "import numpy as np\n",
    "import seaborn as sns\n",
    "import os\n",
    "import sys\n",
    "from tqdm import tqdm"
   ]
  },
  {
   "cell_type": "code",
   "execution_count": null,
   "metadata": {},
   "outputs": [],
   "source": [
    "# Load cutout csvs\n",
    "cutout_dir = \"/home/psa_images/SemiF-AnnotationPipeline/data/semifield-cutouts/\"\n",
    "cutout_dir = \"/mnt/research-projects/s/screberg/longterm_images/semifield-cutouts\"\n",
    "\n",
    "cutout_csvs = [x.stem for x in Path(cutout_dir).rglob(\"*.csv\")]\n",
    "batch = False"
   ]
  },
  {
   "cell_type": "code",
   "execution_count": null,
   "metadata": {},
   "outputs": [],
   "source": [
    "if not batch:\n",
    "    data = Path(cutout_dir).glob(\"*\")\n",
    "    csvs = []\n",
    "    for a in data:\n",
    "        print(a)\n",
    "        csv = list(a.glob(\"*.csv\"))\n",
    "        if len(csv) > 0:\n",
    "            csvs.append(csv[0])\n",
    "    df = pd.concat([pd.read_csv(x, low_memory=False) for x in csvs])\n",
    "else:\n",
    "    x = list(Path(cutout_dir).glob(\"*.csv\"))\n",
    "    df = pd.read_csv(x[0], low_memory=False)\n",
    "\n",
    "df[\"state_id\"] = df.batch_id.str.split(\"_\", expand=False).str[0]\n",
    "df[\"date\"] = df.batch_id.str.split(\"_\", expand=False).str[1]\n",
    "df[\"common_name\"] = np.where(\n",
    "    df.common_name == \"Common lambsquarters\", \"Lambsquarter\", df.common_name\n",
    ")\n",
    "df[\"dt\"] = pd.to_datetime(df[\"date\"])\n",
    "df.columns.unique()[80:100]\n",
    "df.USDA_symbol.unique()"
   ]
  },
  {
   "attachments": {},
   "cell_type": "markdown",
   "metadata": {},
   "source": [
    "## Stats"
   ]
  },
  {
   "attachments": {},
   "cell_type": "markdown",
   "metadata": {},
   "source": [
    "## All images"
   ]
  },
  {
   "cell_type": "code",
   "execution_count": null,
   "metadata": {},
   "outputs": [],
   "source": [
    "sdf = df.drop_duplicates(\"image_id\")\n",
    "sdf = (\n",
    "    sdf.groupby([\"common_name\", \"state_id\"])\n",
    "    .image_id.count()\n",
    "    .reset_index()\n",
    "    .sort_values(\"image_id\")\n",
    ")\n",
    "sdf = sdf[sdf[\"common_name\"] != \"colorchecker\"]\n",
    "print(\"Number of images by common name and state\")\n",
    "print(sdf.reset_index(drop=True))"
   ]
  },
  {
   "cell_type": "code",
   "execution_count": null,
   "metadata": {},
   "outputs": [],
   "source": [
    "g = sns.catplot(\n",
    "    data=sdf,\n",
    "    x=\"image_id\",\n",
    "    y=\"common_name\",\n",
    "    hue=\"state_id\",\n",
    "    height=4,\n",
    "    aspect=1.5,\n",
    "    kind=\"bar\",\n",
    "    palette=sns.color_palette([\"#66c2a5\", \"#fc8d62\"]),\n",
    ")  # 8da0cb)\n",
    "\n",
    "# extract the matplotlib axes_subplot objects from the FacetGrid\n",
    "ax = g.facet_axis(0, 0)  # or ax = g.axes.flat[0]\n",
    "\n",
    "# iterate through the axes containers\n",
    "for c in ax.containers:\n",
    "    labels = [f\"{(v.get_width()):.0f}\" for v in c]\n",
    "    ax.bar_label(c, labels=labels, label_type=\"edge\")\n",
    "\n",
    "g.set(xlabel=\"\", ylabel=\"\")\n",
    "g.fig.subplots_adjust(top=0.9)  # adjust the Figure in rp\n",
    "g.fig.suptitle(\"Number of images by common name and state\")"
   ]
  },
  {
   "attachments": {},
   "cell_type": "markdown",
   "metadata": {},
   "source": [
    "## All cutouts"
   ]
  },
  {
   "cell_type": "code",
   "execution_count": null,
   "metadata": {},
   "outputs": [],
   "source": [
    "sdf = (\n",
    "    df.groupby([\"common_name\", \"state_id\"])\n",
    "    .cutout_id.count()\n",
    "    .reset_index()\n",
    "    .sort_values(\"cutout_id\")\n",
    ")\n",
    "sdf = sdf[sdf[\"common_name\"] != \"colorchecker\"]\n",
    "print(\"Number of cutouts (sub-images) by common name and state\")\n",
    "print(sdf)"
   ]
  },
  {
   "cell_type": "code",
   "execution_count": null,
   "metadata": {},
   "outputs": [],
   "source": [
    "g = sns.catplot(\n",
    "    data=sdf,\n",
    "    x=\"cutout_id\",\n",
    "    y=\"common_name\",\n",
    "    hue=\"state_id\",\n",
    "    height=4,\n",
    "    aspect=1.5,\n",
    "    kind=\"bar\",\n",
    "    palette=sns.color_palette([\"#66c2a5\", \"#fc8d62\"]),\n",
    ")  # 8da0cb)\n",
    "\n",
    "# extract the matplotlib axes_subplot objects from the FacetGrid\n",
    "ax = g.facet_axis(0, 0)  # or ax = g.axes.flat[0]\n",
    "\n",
    "# iterate through the axes containers\n",
    "for c in ax.containers:\n",
    "    labels = [f\"{(v.get_width()/1000):.1f}K\" for v in c]\n",
    "    ax.bar_label(c, labels=labels, label_type=\"edge\")\n",
    "\n",
    "g.set(xlabel=\"\", ylabel=\"\")\n",
    "g.fig.subplots_adjust(top=0.9)  # adjust the Figure in rp\n",
    "g.fig.suptitle(\"Number of cutouts (sub-images) by common name and state\")"
   ]
  },
  {
   "attachments": {},
   "cell_type": "markdown",
   "metadata": {},
   "source": [
    "## Primary Cutouts (unique)"
   ]
  },
  {
   "cell_type": "code",
   "execution_count": null,
   "metadata": {},
   "outputs": [],
   "source": [
    "sdf = df[df[\"is_primary\"] == True]\n",
    "sdf = (\n",
    "    sdf.groupby([\"common_name\", \"state_id\"])\n",
    "    .cutout_id.count()\n",
    "    .reset_index()\n",
    "    .sort_values(\"cutout_id\")\n",
    ")\n",
    "sdf = sdf[sdf[\"common_name\"] != \"colorchecker\"]\n",
    "print(\"Number of unique cutouts (sub-images) by common name and state\")\n",
    "print(sdf)"
   ]
  },
  {
   "cell_type": "code",
   "execution_count": null,
   "metadata": {},
   "outputs": [],
   "source": [
    "g = sns.catplot(\n",
    "    data=sdf,\n",
    "    x=\"cutout_id\",\n",
    "    y=\"common_name\",\n",
    "    hue=\"state_id\",\n",
    "    height=4,\n",
    "    aspect=1.5,\n",
    "    kind=\"bar\",\n",
    "    palette=sns.color_palette([\"#66c2a5\", \"#fc8d62\"]),\n",
    ")  # 8da0cb\n",
    "\n",
    "# extract the matplotlib axes_subplot objects from the FacetGrid\n",
    "ax = g.facet_axis(0, 0)  # or ax = g.axes.flat[0]\n",
    "\n",
    "# iterate through the axes containers\n",
    "for c in ax.containers:\n",
    "    # labels = [f'{(v.get_width()/1000):.1f}K' for v in c]\n",
    "    labels = [f\"{(v.get_width()):.1f}\" for v in c]\n",
    "    ax.bar_label(c, labels=labels, label_type=\"edge\")\n",
    "\n",
    "g.set(xlabel=\"\", ylabel=\"\")\n",
    "g.fig.subplots_adjust(top=0.9)  # adjust the Figure in rp\n",
    "\n",
    "g.fig.suptitle(\"Number of unique cutouts (sub-images) by common name and state\")"
   ]
  },
  {
   "attachments": {},
   "cell_type": "markdown",
   "metadata": {},
   "source": [
    "# Total Number of batches"
   ]
  },
  {
   "cell_type": "code",
   "execution_count": null,
   "metadata": {},
   "outputs": [],
   "source": [
    "# plt.style.use('ggplot')\n",
    "sns.set_context(\"notebook\")\n",
    "sns.set(font_scale=2)\n",
    "tdf = df.drop_duplicates(\"image_id\").sort_values(\"state_id\")\n",
    "\n",
    "g = sns.catplot(\n",
    "    data=tdf,\n",
    "    y=\"batch_id\",\n",
    "    col=\"state_id\",\n",
    "    sharey=False,\n",
    "    kind=\"count\",\n",
    "    aspect=0.8,\n",
    "    height=14,\n",
    ")\n",
    "g.set(xlabel=\"\", ylabel=\"\")\n",
    "g.set_titles(col_template=\"{col_name}\")\n",
    "\n",
    "g.fig.subplots_adjust(top=0.9)  # adjust the Figure in rp\n",
    "g.fig.suptitle(\"Number of Full Bench Images by Batch\")\n",
    "# g.savefig(\"../assets/Images_by_batch_summer_weeds_2022.png\", dpi=300)"
   ]
  },
  {
   "attachments": {},
   "cell_type": "markdown",
   "metadata": {},
   "source": [
    "# Number of images per species"
   ]
  },
  {
   "cell_type": "code",
   "execution_count": null,
   "metadata": {},
   "outputs": [],
   "source": [
    "sns.set(font_scale=2)\n",
    "sdf = df.drop_duplicates(\"image_id\")\n",
    "sdf = (\n",
    "    sdf.groupby([\"common_name\", \"state_id\"])\n",
    "    .image_id.count()\n",
    "    .reset_index()\n",
    "    .sort_values(\"image_id\")\n",
    ")\n",
    "sdf = sdf[sdf[\"common_name\"] != \"colorchecker\"]\n",
    "# print(sdf)\n",
    "g = sns.catplot(\n",
    "    data=sdf,\n",
    "    x=\"image_id\",\n",
    "    y=\"common_name\",\n",
    "    orient=\"horizontal\",\n",
    "    col=\"state_id\",\n",
    "    sharey=False,\n",
    "    kind=\"bar\",\n",
    "    height=10,\n",
    ")\n",
    "g.set(xlabel=\"\", ylabel=\"\")\n",
    "g.set_titles(col_template=\"{col_name}\")\n",
    "g.fig.subplots_adjust(top=0.9)  # adjust the Figure in rp\n",
    "g.fig.suptitle(\"Full Bench Images by Species\")\n",
    "# g.savefig(\"../assets/Images_by_species_summer_weeds_2022.png\", dpi=300)\n",
    "# sns.set(font_scale=1)\n",
    "for ax in g.axes.ravel():\n",
    "    # add annotations\n",
    "    for c in ax.containers:\n",
    "        # labels = [f'{(v.get_width() / 1000):.1f}K' for v in c]\n",
    "        labels = [int(v.get_width()) for v in c]\n",
    "        ax.bar_label(c, labels=labels, label_type=\"edge\", fontsize=14)\n",
    "    ax.margins(y=0.2)\n",
    "# g.savefig(\"../assets/Images_by_species_summer_weeds_2022_labeled.png\", dpi=300)\n",
    "plt.show()"
   ]
  },
  {
   "attachments": {},
   "cell_type": "markdown",
   "metadata": {},
   "source": [
    "## Number of Cutout sub-images by batch"
   ]
  },
  {
   "cell_type": "code",
   "execution_count": null,
   "metadata": {},
   "outputs": [],
   "source": [
    "c = (\n",
    "    df.groupby([\"batch_id\", \"state_id\", \"is_primary\"])\n",
    "    .cutout_id.count()\n",
    "    .reset_index()\n",
    "    .sort_values(\"batch_id\")\n",
    ")\n",
    "sns.set(font_scale=2)\n",
    "\n",
    "g = sns.catplot(\n",
    "    data=c,\n",
    "    x=\"cutout_id\",\n",
    "    y=\"batch_id\",\n",
    "    hue=\"is_primary\",\n",
    "    orient=\"horizontal\",\n",
    "    col=\"state_id\",\n",
    "    sharey=False,\n",
    "    kind=\"bar\",\n",
    "    aspect=0.8,\n",
    "    height=14,\n",
    ")\n",
    "g.set(xlabel=\"\", ylabel=\"\")\n",
    "g.set_titles(col_template=\"{col_name}\")\n",
    "g._legend.set_title(\"\")\n",
    "# replace labels\n",
    "new_labels = [\"duplicates\", \"unique\"]\n",
    "for t, l in zip(g._legend.texts, new_labels):\n",
    "    t.set_text(l)\n",
    "\n",
    "sns.move_legend(g, \"center right\", bbox_to_anchor=(0.9, 0.55), frameon=False)\n",
    "\n",
    "g.fig.subplots_adjust(top=0.9)  # adjust the Figure in rp\n",
    "g.fig.suptitle(\"Number of Cutouts (sub-images) by Batch\")\n",
    "# g.savefig(\"../assets/Cutouts_by_batch_summer_weeds_2022.png\", dpi=300)"
   ]
  },
  {
   "cell_type": "code",
   "execution_count": null,
   "metadata": {},
   "outputs": [],
   "source": [
    "c = (\n",
    "    df.groupby([\"common_name\", \"state_id\", \"is_primary\"])\n",
    "    .cutout_id.count()\n",
    "    .reset_index()\n",
    "    .sort_values(\"cutout_id\")\n",
    ")\n",
    "c = c[c[\"common_name\"] != \"colorchecker\"]\n",
    "\n",
    "sns.set(font_scale=2)\n",
    "\n",
    "g = sns.catplot(\n",
    "    data=c,\n",
    "    x=\"cutout_id\",\n",
    "    y=\"common_name\",\n",
    "    hue=\"is_primary\",\n",
    "    orient=\"horizontal\",\n",
    "    col=\"state_id\",\n",
    "    sharey=False,\n",
    "    kind=\"bar\",\n",
    "    aspect=0.9,\n",
    "    height=10,\n",
    ")\n",
    "g.set(xlabel=\"\", ylabel=\"\")\n",
    "g.set_titles(col_template=\"{col_name}\")\n",
    "g._legend.set_title(\"\")\n",
    "# replace labels\n",
    "new_labels = [\"duplicates\", \"unique\"]\n",
    "# for t, l in zip(g._legend.texts, new_labels):\n",
    "#     t.set_text(l)\n",
    "\n",
    "sns.move_legend(g, \"center right\", bbox_to_anchor=(0.9, 0.55), frameon=False)\n",
    "\n",
    "# extract the matplotlib axes_subplot objects from the FacetGrid\n",
    "# ax = g.facet_axis(0, 0)\n",
    "\n",
    "# g.set(xticks=np.arange(0,36000,10000))\n",
    "g.fig.subplots_adjust(top=0.9)  # adjust the Figure in rp\n",
    "g.fig.suptitle(\"Number of Cutouts (sub-images) by Species\")\n",
    "# g.savefig(\"../assets/Cutouts_by_species_summer_weeds_2022.png\", dpi=300)\n",
    "# iterate through axes\n",
    "for ax in g.axes.ravel():\n",
    "    # add annotations\n",
    "    for c in ax.containers:\n",
    "        labels = [f\"{(v.get_width() / 1000):.2f}K\" for v in c]\n",
    "        # labels = [v.get_width() for v in c]\n",
    "        ax.bar_label(c, labels=labels, label_type=\"edge\", fontsize=14)\n",
    "    ax.margins(y=0.2)\n",
    "# g.savefig(\"../assets/Cutouts_by_species_summer_weeds_2022_labeled.png\", dpi=300)\n",
    "plt.show()"
   ]
  }
 ],
 "metadata": {
  "kernelspec": {
   "display_name": "semif",
   "language": "python",
   "name": "python3"
  },
  "language_info": {
   "codemirror_mode": {
    "name": "ipython",
    "version": 3
   },
   "file_extension": ".py",
   "mimetype": "text/x-python",
   "name": "python",
   "nbconvert_exporter": "python",
   "pygments_lexer": "ipython3",
   "version": "3.9.16"
  },
  "orig_nbformat": 4,
  "vscode": {
   "interpreter": {
    "hash": "8279eecd1528dd5e2f7395d57c9827a1442d1caded89f90ad81269e8d78b5418"
   }
  }
 },
 "nbformat": 4,
 "nbformat_minor": 2
}
