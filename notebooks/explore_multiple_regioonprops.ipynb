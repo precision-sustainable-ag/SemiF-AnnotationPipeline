{
 "cells": [
  {
   "cell_type": "code",
   "execution_count": 2,
   "metadata": {},
   "outputs": [],
   "source": [
    "import numpy as np"
   ]
  },
  {
   "cell_type": "code",
   "execution_count": 3,
   "metadata": {},
   "outputs": [],
   "source": [
    "j = [\n",
    "     {'x': 1, \n",
    "      'a': 12, \n",
    "      'b': 13, \n",
    "      'y': 8}\n",
    "    ]\n",
    "k = [\n",
    "  {'area': np.array([  1326]), \n",
    "      'area_bbox': np.array([  1953844]), \n",
    "      'area_convex': np.array([   1243586])}\n",
    "      ]\n",
    "\n",
    "p = [\n",
    "      {'area': np.array([  1326,  26138,   3410, 224833]), \n",
    "      'area_bbox': np.array([   4738,  396744,   17927, 1953844]), \n",
    "      'area_convex': np.array([   1515,   64851,    3750, 1243586]), \n",
    "      'axis_major_length': np.array([ 115.16031091,  888.4079481 ,  214.2880708 , 1907.04827673]), \n",
    "      'axis_minor_length': np.array([ 15.45286918,  71.91805587,  20.81058072, 651.12500485]), \n",
    "      'centroid-0': np.array([115.17873303, 343.6640906 , 288.03753666, 939.42559144]), \n",
    "      'centroid-1': np.array([2283.14555053,  575.56484811, 2208.03284457, 1527.5431676 ]), \n",
    "      'eccentricity': np.array([0.9909562 , 0.99671803, 0.99527317, 0.93990692]), \n",
    "      'extent': np.array([0.27986492, 0.06588127, 0.19021588, 0.11507213]), \n",
    "      'solidity': np.array([0.87524752, 0.40304698, 0.90933333, 0.18079409]), \n",
    "      'perimeter': np.array([  245.37972568,  2316.40447123,   468.90158698, 11842.65569034])}\n",
    "      ]"
   ]
  },
  {
   "cell_type": "code",
   "execution_count": 6,
   "metadata": {},
   "outputs": [
    {
     "name": "stdout",
     "output_type": "stream",
     "text": [
      "centroid0\n",
      "centroid1\n"
     ]
    }
   ],
   "source": [
    "def parse_dict(props_tabl):\n",
    "    \"\"\"Used to parse regionprops table dictionary\"\"\"\n",
    "    ndict = {}\n",
    "    for key, val in props_tabl.items():\n",
    "        if \"-\" in key:\n",
    "            key = key.replace(\"-\",\"\")\n",
    "            print(key)\n",
    "        new_val_entry = []\n",
    "        if isinstance(val, np.ndarray) and val.shape[0] > 1:\n",
    "            for i, v in enumerate(val):\n",
    "                new_val_entry.append({f'{key}_{i+1}' : float(v)})\n",
    "            ndict[key] = new_val_entry\n",
    "        else:\n",
    "            ndict[key] = float(val)\n",
    "    return ndict\n",
    "result = [parse_dict(d) for d in p]"
   ]
  },
  {
   "cell_type": "code",
   "execution_count": 7,
   "metadata": {},
   "outputs": [
    {
     "data": {
      "text/plain": [
       "[{'area_1': 1326.0},\n",
       " {'area_2': 26138.0},\n",
       " {'area_3': 3410.0},\n",
       " {'area_4': 224833.0}]"
      ]
     },
     "execution_count": 7,
     "metadata": {},
     "output_type": "execute_result"
    }
   ],
   "source": [
    "result[0][\"area\"]"
   ]
  },
  {
   "cell_type": "code",
   "execution_count": null,
   "metadata": {},
   "outputs": [],
   "source": []
  }
 ],
 "metadata": {
  "interpreter": {
   "hash": "59b627dbbc37ebbb1d7be1ff42181d533d94977a5210449e7ff5229441e2702b"
  },
  "kernelspec": {
   "display_name": "Python 3.9.12 ('autoann')",
   "language": "python",
   "name": "python3"
  },
  "language_info": {
   "codemirror_mode": {
    "name": "ipython",
    "version": 3
   },
   "file_extension": ".py",
   "mimetype": "text/x-python",
   "name": "python",
   "nbconvert_exporter": "python",
   "pygments_lexer": "ipython3",
   "version": "3.9.12"
  },
  "orig_nbformat": 4
 },
 "nbformat": 4,
 "nbformat_minor": 2
}
