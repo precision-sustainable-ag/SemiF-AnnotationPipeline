{
 "cells": [
  {
   "cell_type": "code",
   "execution_count": 1,
   "metadata": {},
   "outputs": [],
   "source": [
    "import os\n",
    "from pathlib import Path\n",
    "from dataclasses import asdict\n",
    "os.chdir('/home/weedsci/matt/SemiF-AnnotationPipeline')\n",
    "from semif_utils.utils import get_cutout_meta\n",
    "import pandas as pd"
   ]
  },
  {
   "cell_type": "markdown",
   "metadata": {},
   "source": [
    "### Convert Cutout metadata to a single csv"
   ]
  },
  {
   "cell_type": "code",
   "execution_count": 70,
   "metadata": {},
   "outputs": [],
   "source": [
    "# Get all json files\n",
    "metas = [x for x in Path(\"data/semifield-cutouts/NC_2022-07-14/\").glob(\"*.json\")]\n",
    "# Parse through json files\n",
    "cutouts = []\n",
    "for meta in metas:\n",
    "    # Get dictionaries\n",
    "    cutout = asdict(get_cutout_meta(meta))\n",
    "    row = cutout[\"cutout_props\"]\n",
    "    cls = cutout[\"cls\"]\n",
    "    # Extend nested dicts to single column header\n",
    "    for ro in row:\n",
    "        rec = {ro: row[ro]}\n",
    "        cutout.update(rec)\n",
    "        for cl in cls:\n",
    "            spec = {cl: cls[cl]}\n",
    "            cutout.update(spec)\n",
    "    # Remove duplicate nested dicts\n",
    "    cutout.pop(\"cutout_props\")\n",
    "    cutout.pop(\"cls\")\n",
    "    # Create and append df\n",
    "    cutdf = pd.DataFrame(cutout, index=[0])\n",
    "    cutouts.append(cutdf)\n",
    "# Concat and reset index of main df\n",
    "cutouts_df = pd.concat(cutouts)\n",
    "cutouts_df = cutouts_df.reset_index()\n",
    "# cutouts_df.to_csv(\"data/semifield-cutouts/NC_2022-07-14.csv\", index=False)"
   ]
  }
 ],
 "metadata": {
  "kernelspec": {
   "display_name": "Python 3.9.0 ('semif_gpu')",
   "language": "python",
   "name": "python3"
  },
  "language_info": {
   "codemirror_mode": {
    "name": "ipython",
    "version": 3
   },
   "file_extension": ".py",
   "mimetype": "text/x-python",
   "name": "python",
   "nbconvert_exporter": "python",
   "pygments_lexer": "ipython3",
   "version": "3.9.0"
  },
  "orig_nbformat": 4,
  "vscode": {
   "interpreter": {
    "hash": "0761b86a138a7d55b4f3c23d47d2d15f86714bfdaf7e37a783fa5b2853fc7c70"
   }
  }
 },
 "nbformat": 4,
 "nbformat_minor": 2
}
