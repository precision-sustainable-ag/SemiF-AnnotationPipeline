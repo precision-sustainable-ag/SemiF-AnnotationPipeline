{
 "cells": [
  {
   "cell_type": "code",
   "execution_count": 1,
   "metadata": {},
   "outputs": [
    {
     "name": "stderr",
     "output_type": "stream",
     "text": [
      "/home/mkutuga/anaconda3/envs/semif/lib/python3.9/site-packages/tqdm/auto.py:22: TqdmWarning: IProgress not found. Please update jupyter and ipywidgets. See https://ipywidgets.readthedocs.io/en/stable/user_install.html\n",
      "  from .autonotebook import tqdm as notebook_tqdm\n"
     ]
    }
   ],
   "source": [
    "import pandas as pd\n",
    "import matplotlib.pyplot as plt\n",
    "import matplotlib.patches as patches\n",
    "from pathlib import Path\n",
    "import cv2\n",
    "import json\n",
    "import os\n",
    "import matplotlib.pyplot as plt\n",
    "import numpy as np\n",
    "from matplotlib import patches\n",
    "from pathlib import Path\n",
    "import sys\n",
    "sys.path.append(\"/home/psa_images/SemiF-AnnotationPipeline\")\n",
    "sys.path.append(\"/home/psa_images/SemiF-AnnotationPipeline/segment\")\n",
    "from semif_utils.utils import cutoutmeta2csv\n",
    "from semif_utils.utils import apply_mask\n",
    "import json"
   ]
  },
  {
   "cell_type": "code",
   "execution_count": 2,
   "metadata": {},
   "outputs": [],
   "source": [
    "def read_metadata(path):\n",
    "    with open(path, 'r') as f:\n",
    "        data = json.loads(f.read())\n",
    "    return data\n",
    "\n",
    "def get_detection_data(jsonpath):\n",
    "    meta = read_metadata(jsonpath)\n",
    "    imgwidth, imgheight = meta['width'], meta['height']\n",
    "    bboxes = meta[\"bboxes\"]\n",
    "    boxes = []\n",
    "    labels = []\n",
    "    for box in bboxes:\n",
    "        \n",
    "        # top_left = box[\"local_coordinates\"][\"top_left\"]\n",
    "        # bottom_right = box[\"local_coordinates\"][\"bottom_right\"]\n",
    "        \n",
    "        # print(box[\"local_coordinates\"].keys())\n",
    "        x1 = box[\"local_coordinates\"][\"top_left\"][0] # * 9560\n",
    "        y1 = box[\"local_coordinates\"][\"top_left\"][1] # * 6368\n",
    "        \n",
    "        x2 = box[\"local_coordinates\"][\"bottom_right\"][0] # * 9560\n",
    "        y2 = box[\"local_coordinates\"][\"bottom_right\"][1] # * 6368\n",
    "        \n",
    "        # xywh = box[\"local_coordinates\"][\"xywh\"]\n",
    "        # w = xywh[2] * imgwidth\n",
    "        # h = xywh[3] * imgheight\n",
    "        # x1 = xywh[0] * imgwidth - w/2\n",
    "        # y1 = xywh[1] * imgheight - h/2\n",
    "        # x2 = x1 + w\n",
    "        # y2 = y1 + h\n",
    "        \n",
    "        # x1, y1 = int(top_left[0]*imgwidth), int(top_left[1]*imgheight)\n",
    "        # x2, y2 = int(bottom_right[0]*imgwidth), int(bottom_right[1]*imgheight)\n",
    "        # print([x1, y1, x2, y2])\n",
    "        boxes.append([x1, y1, x2, y2])\n",
    "        if box[\"cls\"] == \"plant\":\n",
    "            class_id = box[\"cls\"]\n",
    "            common_name = box[\"cls\"]\n",
    "        else:\n",
    "            class_id = str(box[\"cls\"][\"class_id\"])\n",
    "            common_name = box[\"cls\"][\"common_name\"]\n",
    "\n",
    "        label =  f\"{common_name} ({class_id})\"\n",
    "        labels.append(label)\n",
    "\n",
    "    return boxes, labels\n",
    "\n",
    "def batch_df(df, batch_id, cutout_dir, batch_dir):\n",
    "    df = pd.read_csv(Path(cutout_dir, batch_id, batch_id + \".csv\"))\n",
    "    df[\"state_id\"] = df.batch_id.str.split(\"_\", expand=False).str[0]\n",
    "    df[\"date\"] = df.batch_id.str.split(\"_\", expand=False).str[1]\n",
    "    df[\"cutout_paths\"] = cutout_dir + \"/\" + batch_id + \"/\" + df[\"cutout_id\"] + \".png\"\n",
    "    df[\"image_paths\"] = batch_dir + \"/images/\" + df[\"image_id\"] + \".jpg\"\n",
    "    df[\"meta_paths\"] = batch_dir + \"/metadata/\" + df[\"image_id\"] + \".json\"\n",
    "    df[\"semantic_masks\"] = batch_dir + \"/meta_masks/semantic_masks/\" + df[\"image_id\"] + \".png\"\n",
    "    df[\"instance_masks\"] = batch_dir + \"/meta_masks/instance_masks/\" + df[\"image_id\"] + \".png\"\n",
    "    return df\n",
    "\n",
    "def review_data(df, batch_id):\n",
    "    print(\"\\nBatch: \", batch_id)\n",
    "    print(\"\\nTotal number of cutouts by species\")\n",
    "    print(df.groupby([\"common_name\"])[\"cutout_id\"].nunique())\n",
    "    print(len(df))\n",
    "\n"
   ]
  },
  {
   "cell_type": "code",
   "execution_count": 3,
   "metadata": {},
   "outputs": [],
   "source": [
    "cutout_dir = Path( \"/mnt/research-projects/s/screberg/longterm_images/semifield-cutouts\")\n",
    "batch_dir = Path(\"/mnt/research-projects/s/screberg/longterm_images/semifield-developed-images\")\n",
    "species_info = Path(\"/home/psa_images/SemiF-AnnotationPipeline/data/semifield-utils/species_information/species_info.json\")\n",
    "\n",
    "cutout_batches = [x.stem for x in cutout_dir.glob(\"*\")]\n",
    "project_bathces =  [x.stem for x in batch_dir.glob(\"*\")]\n",
    "common_batches = list(set(cutout_batches).intersection(project_bathces))\n",
    "uncommon_batches = list(set(cutout_batches).symmetric_difference(project_bathces))"
   ]
  },
  {
   "attachments": {},
   "cell_type": "markdown",
   "metadata": {},
   "source": [
    "## Check cutouts json data schema from Summer Weeds 2022 and Cover crops 2023"
   ]
  },
  {
   "cell_type": "code",
   "execution_count": 4,
   "metadata": {},
   "outputs": [],
   "source": [
    "data = [{\"state\": x.split(\"_\")[0], \"date\":x.split(\"_\")[-1]} for x in common_batches]\n",
    "sorted_data = sorted(data, key=lambda x: x['date'])\n",
    "common_batches = [x[\"state\"] + \"_\" + x[\"date\"] for x in sorted_data]"
   ]
  },
  {
   "cell_type": "code",
   "execution_count": 5,
   "metadata": {},
   "outputs": [
    {
     "name": "stdout",
     "output_type": "stream",
     "text": [
      "MD_2022-06-27 TX_2023-05-20\n",
      "\n"
     ]
    }
   ],
   "source": [
    "first = common_batches[2]\n",
    "last = common_batches[-1]\n",
    "print(first, last)\n",
    "print()\n",
    "compared_batches = [first, last]\n",
    "compared_batches\n",
    "\n",
    "keys = []\n",
    "cls_keys = []\n",
    "props = []\n",
    "dict_keys = []\n",
    "\n",
    "for batch in compared_batches:\n",
    "    metadata = [x for x in Path(cutout_dir, batch).glob(\"*.json\")][:50]\n",
    "    for meta in metadata:\n",
    "        data = read_metadata(meta)\n",
    "        keys.append(data.keys())\n",
    "        cls_keys.append(data[\"cls\"].keys())\n",
    "        props.append(data[\"cutout_props\"].keys())\n",
    "        for key, value in data.items():\n",
    "            if type(value) is dict:\n",
    "                dict_keys.append(key)\n"
   ]
  },
  {
   "cell_type": "code",
   "execution_count": 6,
   "metadata": {},
   "outputs": [],
   "source": [
    "weed_batches = [x for x in  Path(cutout_dir, compared_batches[0]).glob(\"*.json\")]\n",
    "cover_batches = [x for x in Path(cutout_dir, compared_batches[-1]).glob(\"*.json\")]\n",
    "\n",
    "weeds = read_metadata(weed_batches[0])\n",
    "ccs = read_metadata(cover_batches[0])"
   ]
  },
  {
   "cell_type": "markdown",
   "metadata": {},
   "source": [
    "## Get species info data"
   ]
  },
  {
   "cell_type": "code",
   "execution_count": 7,
   "metadata": {},
   "outputs": [],
   "source": [
    "spec_info = read_metadata(species_info)\n",
    "usda_symbols = list(spec_info[\"species\"])\n",
    "# for idx, i in spec_info[\"species\"].items():\n",
    "    # print(i[\"category\"])"
   ]
  },
  {
   "attachments": {},
   "cell_type": "markdown",
   "metadata": {},
   "source": [
    "# Weeds 2022/2023"
   ]
  },
  {
   "cell_type": "code",
   "execution_count": 46,
   "metadata": {},
   "outputs": [],
   "source": [
    "# Create dictionary\n",
    "weeds = read_metadata(weed_batches[0])"
   ]
  },
  {
   "attachments": {},
   "cell_type": "markdown",
   "metadata": {},
   "source": [
    "## Remove from Weeds"
   ]
  },
  {
   "cell_type": "code",
   "execution_count": 47,
   "metadata": {},
   "outputs": [],
   "source": [
    "## first level keys\n",
    "# remove DAP\n",
    "if \"blob_home\" in weeds:\n",
    "    weeds.pop(\"blob_home\")\n",
    "if \"dap\" in weeds:\n",
    "    weeds.pop(\"dap\")\n",
    "# remove local contours\n",
    "if \"local_contours\" in weeds:\n",
    "    weeds.pop(\"local_contours\")\n",
    "# remove cutout version\n",
    "if \"cutout_version\" in weeds:\n",
    "    weeds.pop(\"cutout_version\")\n",
    "\n",
    "## Cls\n",
    "# remove collection location in cls\n",
    "if \"collection_location\" in weeds[\"cls\"]:\n",
    "    weeds[\"cls\"].pop(\"collection_location\")\n",
    "\n",
    "# # remove category in cls\n",
    "# if \"category\" in weeds[\"cls\"]:\n",
    "#     weeds[\"cls\"].pop(\"category\")\n",
    "# # remove collection timing in cls\n",
    "# if \"collection_timing\" in weeds[\"cls\"]:\n",
    "#     weeds[\"cls\"].pop(\"collection_timing\")\n",
    "\n",
    "\n",
    "## Cutout Properties\n",
    "# remove area_bbox\n",
    "if \"area_bbox\" in weeds[\"cutout_props\"]:\n",
    "    weeds[\"cutout_props\"].pop(\"area_bbox\")\n",
    "# remvoe area_convex\n",
    "if \"area_convex\" in weeds[\"cutout_props\"]:\n",
    "    weeds[\"cutout_props\"].pop(\"area_convex\")\n",
    "# remove extent\n",
    "if \"extent\" in weeds[\"cutout_props\"]:\n",
    "    weeds[\"cutout_props\"].pop(\"extent\")\n",
    "# Remove is green\n",
    "if \"is_green\" in weeds[\"cutout_props\"]:\n",
    "    weeds[\"cutout_props\"].pop(\"is_green\")\n",
    "# remove exg_sum\n",
    "if \"exg_sum\" in weeds[\"cutout_props\"]:\n",
    "    weeds[\"cutout_props\"].pop(\"exg_sum\")\n",
    "# remove color_distribtution\n",
    "if \"color_distribution\" in weeds[\"cutout_props\"]:\n",
    "    weeds[\"cutout_props\"].pop(\"color_distribution\")\n",
    "# remove descriptive stats\n",
    "if \"descriptive_stats\" in weeds[\"cutout_props\"]:\n",
    "    weeds[\"cutout_props\"].pop(\"descriptive_stats\")\n",
    "\n"
   ]
  },
  {
   "cell_type": "markdown",
   "metadata": {},
   "source": [
    "# Get missing info \n",
    "1. descriptive stats for cutout\n",
    "2. descriptive stats for cropout\n",
    "3. bbox (weeds do not have mappable bbox coordinates)\n",
    "4. hwc\n",
    "5. season"
   ]
  },
  {
   "cell_type": "code",
   "execution_count": 48,
   "metadata": {},
   "outputs": [],
   "source": [
    "from scipy import stats\n",
    "\n",
    "def descriptive_stats(rgb_img, ignore_zeros=False):\n",
    "\n",
    "    rgb_img = rgb_img.astype(np.float64)\n",
    "\n",
    "    if ignore_zeros:\n",
    "        #     # Mask out zero values for descriptive stats\n",
    "        rgb_img[rgb_img == [0, 0, 0]] = np.nan\n",
    "\n",
    "    rgb_channels = cv2.split(rgb_img)\n",
    "    str_channels = [\"r\", \"g\", \"b\"]\n",
    "    desc_stats = dict()\n",
    "    for img_c, str_c in zip(rgb_channels, str_channels):\n",
    "        rec_key = f\"channel_{str_c}\"\n",
    "        # dataframe describe automatically ignores nans\n",
    "        c_df = pd.DataFrame(img_c.flatten(), columns=[rec_key]).describe()\n",
    "        # scipy describe stats ignore nans\n",
    "        c_scipy_desc = stats.describe(img_c.flatten(), nan_policy='omit')\n",
    "        c_df.loc[\"variance\"] = c_scipy_desc.variance\n",
    "        c_df.loc[\"skewness\"] = c_scipy_desc.skewness\n",
    "        c_df.loc[\"kurtosis\"] = c_scipy_desc.kurtosis\n",
    "        desc_stats.update(c_df.to_dict())\n",
    "\n",
    "    return desc_stats\n",
    "\n",
    "\n",
    "\n",
    "cropout_path = str(Path(cutout_dir, weeds[\"cutout_path\"])).replace(\"png\", \"jpg\")\n",
    "cropout_rgb_img = cv2.cvtColor(cv2.imread(str(cropout_path)), cv2.COLOR_BGR2RGB)\n",
    "\n",
    "cutout_path = str(Path(cutout_dir, weeds[\"cutout_path\"]))\n",
    "cutout_rgb_img = cv2.cvtColor(cv2.imread(str(cutout_path)), cv2.COLOR_BGR2RGB)\n",
    "\n",
    "# Descriptive stats for cutout and cropout\n",
    "crop_out_desc_stats = descriptive_stats(cropout_rgb_img)\n",
    "cutout_desc_stats = descriptive_stats(cutout_rgb_img, ignore_zeros=True)\n",
    "\n",
    "# hwc\n",
    "hwc = cutout_rgb_img.shape\n",
    "\n",
    "# season TODO: make this so its not always the weeds variable\n",
    "category = weeds[\"cls\"][\"category\"] \n",
    "if category == \"warm season weed\":\n",
    "    season = \"summer_weeds_2022\"\n",
    "elif category == \"cool season cover crop\":\n",
    "    season = \"cool_season_covers_2022_2023\"\n"
   ]
  },
  {
   "cell_type": "markdown",
   "metadata": {},
   "source": [
    "## Get bbox info"
   ]
  },
  {
   "cell_type": "code",
   "execution_count": 166,
   "metadata": {},
   "outputs": [],
   "source": [
    "if season == \"cool_season_covers_2022_2023\":\n",
    "    # bbox (can only be applied to covers)\n",
    "    meta_fname = ccs[\"image_id\"] + \".json\"\n",
    "    image_metadata_path = str(Path(batch_dir, ccs[\"batch_id\"], \"metadata\",meta_fname))\n",
    "    image_meta = read_metadata(image_metadata_path)\n",
    "    bbox_id = ccs[\"cutout_id\"]\n",
    "    bbox = [x for x in image_meta[\"bboxes\"] if x[\"bbox_id\"] == bbox_id][0]\n",
    "    bbox['local_coordinates'].pop('is_scaleable')\n",
    "    omit_keys = ['bbox_id','image_id', 'cls', 'is_primary', 'global_centroid', 'global_coordinates', 'instance_id']\n",
    "    new_bbox = create_dict_with_omitted_keys(bbox, omit_keys)"
   ]
  },
  {
   "attachments": {},
   "cell_type": "markdown",
   "metadata": {},
   "source": [
    "## Include in Weeds 2022"
   ]
  },
  {
   "cell_type": "code",
   "execution_count": 171,
   "metadata": {},
   "outputs": [],
   "source": [
    "## TODO: find date when seasons begin and end\n",
    "## TODO find all season names\n",
    "# include season\n",
    "if \"season\" not in weeds:\n",
    "    weeds[\"season\"] = \"summer_weeds_2022\"\n",
    "\n",
    "# add bbox\n",
    "if \"bbox\" not in weeds:\n",
    "    weeds[\"bbox\"] = None\n",
    "\n",
    "# add multispecies_USDA_symbol\n",
    "if \"multi_species_USDA_symbol\" not in weeds[\"cls\"]:\n",
    "    weeds[\"cls\"][\"multi_species_USDA_symbol\"] = None\n",
    "\n",
    "# add hwc\n",
    "if \"hwc\" not in weeds or \"hwc\" not in weeds[\"cutout_props\"]:\n",
    "    weeds[\"hwc\"] = hwc\n",
    "    \n",
    "# replace shape with hwc for covers\n",
    "if \"hwc\" not in weeds and \"shape\" in weeds:\n",
    "    weeds[\"hwc\"] = weeds[\"shape\"]\n",
    "    weeds.pop(\"shape\")\n",
    "\n",
    "# add cropout descriptive stats\n",
    "if \"cropout_descriptive_stats\" not in weeds[\"cutout_props\"]:\n",
    "    weeds[\"cutout_props\"][\"cropout_descriptive_stats\"] = crop_out_desc_stats\n",
    "\n",
    "# add cutout descriptive stats\n",
    "if \"cutout_descriptive_stats\" not in weeds[\"cutout_props\"]:\n",
    "    weeds[\"cutout_props\"][\"cutout_descriptive_stats\"] = cutout_desc_stats\n"
   ]
  },
  {
   "attachments": {},
   "cell_type": "markdown",
   "metadata": {},
   "source": [
    "# Cover Crops 2022/2023"
   ]
  },
  {
   "cell_type": "code",
   "execution_count": 172,
   "metadata": {},
   "outputs": [],
   "source": [
    "# Create dictionary\n",
    "ccs = read_metadata(cover_batches[0])"
   ]
  },
  {
   "attachments": {},
   "cell_type": "markdown",
   "metadata": {},
   "source": [
    "## Remove from Covers 2022/23"
   ]
  },
  {
   "cell_type": "code",
   "execution_count": 27,
   "metadata": {},
   "outputs": [],
   "source": [
    "## First level \n",
    "# remove Blob home\n",
    "if \"blob_home\" in ccs:\n",
    "    ccs.pop(\"blob_home\")\n",
    "\n",
    "## Cls\n",
    "# remove collection location in cls\n",
    "if \"collection_location\" in ccs[\"cls\"]:\n",
    "    ccs[\"cls\"].pop(\"collection_location\")\n",
    "\n",
    "# # remove category in cls\n",
    "# if \"category\" in ccs[\"cls\"]:\n",
    "#     ccs[\"cls\"].pop(\"category\")\n",
    "# # remove collection timing in cls\n",
    "# if \"collection_timing\" in ccs[\"cls\"]:\n",
    "#     ccs[\"cls\"].pop(\"collection_timing\")\n",
    "\n",
    "## Cutout properties\n",
    "# remove area_bbox\n",
    "if \"area_bbox\" in ccs[\"cutout_props\"]:\n",
    "    ccs[\"cutout_props\"].pop(\"area_bbox\")\n",
    "# remove area_convex\n",
    "if \"area_convex\" in ccs[\"cutout_props\"]:\n",
    "    ccs[\"cutout_props\"].pop(\"area_convex\")\n",
    "# remove cutout version\n",
    "if \"cutout_version\" in ccs:\n",
    "    ccs.pop(\"cutout_version\")\n"
   ]
  },
  {
   "attachments": {},
   "cell_type": "markdown",
   "metadata": {},
   "source": [
    "## Include from Covers 2022/2023"
   ]
  },
  {
   "cell_type": "code",
   "execution_count": 28,
   "metadata": {},
   "outputs": [],
   "source": [
    "# replace shape with hwc or add it\n",
    "if \"shape\" in ccs:\n",
    "    ccs[\"hwc\"] = ccs[\"shape\"]\n",
    "    ccs.pop(\"shape\")\n",
    "else:\n",
    "    ccs[\"hwc\"] = None"
   ]
  },
  {
   "cell_type": "markdown",
   "metadata": {},
   "source": [
    "# Order dictionaries"
   ]
  },
  {
   "cell_type": "code",
   "execution_count": 34,
   "metadata": {},
   "outputs": [],
   "source": [
    "def order_dict_by_list(original_dict, order_list, value_order_lists):\n",
    "    ordered_dict = dict()\n",
    "\n",
    "    for key in order_list:\n",
    "        if key in original_dict:\n",
    "            value = original_dict[key]\n",
    "            if isinstance(value, dict):\n",
    "                ordered_dict[key] = order_dict_by_list(value, order_list, value_order_lists)\n",
    "            else:\n",
    "                ordered_dict[key] = value\n",
    "\n",
    "    for key in original_dict:\n",
    "        if key not in order_list:\n",
    "            value = original_dict[key]\n",
    "            if isinstance(value, dict):\n",
    "                ordered_dict[key] = order_dict_by_list(value, order_list, value_order_lists)\n",
    "            else:\n",
    "                ordered_dict[key] = value\n",
    "\n",
    "    ordered_second_levels = dict()\n",
    "    for key in ordered_dict:\n",
    "        value = ordered_dict[key]\n",
    "        if isinstance(value, dict):\n",
    "            if key in value_order_lists:\n",
    "                ordered_second_levels[key] = dict(\n",
    "                    sorted(value.items(), key=lambda x: value_order_lists[key].index(x[0]))\n",
    "                )\n",
    "            else:\n",
    "                ordered_second_levels[key] = value\n",
    "\n",
    "    ordered_dict.update(ordered_second_levels)\n",
    "\n",
    "    return ordered_dict\n",
    "\n",
    "ccs_cutout_key_list = ['data_root','batch_id', 'image_id', 'cutout_id', 'cutout_num', 'cutout_path','datetime', 'season', 'bbox', 'is_primary', 'extends_border', 'hwc', 'cls', 'cutout_props']\n",
    "ccs_cut_cls_key_list = ['class_id', 'USDA_symbol', 'EPPO', 'group', 'class', 'subclass', 'order', 'family', 'genus', 'species', 'common_name', 'authority', 'growth_habit', 'duration', 'multi_species_USDA_symbol', 'link', 'note', 'hex', 'rgb']\n",
    "ccs_cut_props_key_list = ['area', 'axis_major_length', 'axis_minor_length', 'centroid0', 'centroid1', 'eccentricity', 'solidity', 'perimeter', 'green_sum', 'blur_effect', 'num_components', 'cropout_descriptive_stats', 'cutout_descriptive_stats']\n",
    "\n",
    "order_list =ccs_cutout_key_list\n",
    "value_order_lists = {\n",
    "    'cls': ccs_cut_cls_key_list,\n",
    "    'cutout_props': ccs_cut_props_key_list\n",
    "}\n",
    "\n",
    "weeds = order_dict_by_list(weeds, order_list, value_order_lists)\n",
    "ccs = order_dict_by_list(ccs, order_list, value_order_lists)"
   ]
  },
  {
   "attachments": {},
   "cell_type": "markdown",
   "metadata": {},
   "source": [
    "# Compare Weeds and Cover metadata"
   ]
  },
  {
   "cell_type": "code",
   "execution_count": 35,
   "metadata": {},
   "outputs": [
    {
     "name": "stdout",
     "output_type": "stream",
     "text": [
      "True\n",
      "dict_keys(['data_root', 'batch_id', 'image_id', 'cutout_id', 'cutout_num', 'cutout_path', 'datetime', 'season', 'bbox', 'is_primary', 'extends_border', 'hwc', 'cls', 'cutout_props', 'schema_version'])\n",
      "dict_keys(['data_root', 'batch_id', 'image_id', 'cutout_id', 'cutout_num', 'cutout_path', 'datetime', 'season', 'bbox', 'is_primary', 'extends_border', 'hwc', 'cls', 'cutout_props', 'schema_version'])\n",
      "\n",
      "True\n",
      "dict_keys(['class_id', 'USDA_symbol', 'EPPO', 'group', 'class', 'subclass', 'order', 'family', 'genus', 'species', 'common_name', 'authority', 'growth_habit', 'duration', 'multi_species_USDA_symbol', 'link', 'note', 'hex', 'rgb'])\n",
      "dict_keys(['class_id', 'USDA_symbol', 'EPPO', 'group', 'class', 'subclass', 'order', 'family', 'genus', 'species', 'common_name', 'authority', 'growth_habit', 'duration', 'multi_species_USDA_symbol', 'link', 'note', 'hex', 'rgb'])\n",
      "\n",
      "True\n",
      "dict_keys(['area', 'axis_major_length', 'axis_minor_length', 'centroid0', 'centroid1', 'eccentricity', 'solidity', 'perimeter', 'green_sum', 'blur_effect', 'num_components', 'cropout_descriptive_stats', 'cutout_descriptive_stats'])\n",
      "dict_keys(['area', 'axis_major_length', 'axis_minor_length', 'centroid0', 'centroid1', 'eccentricity', 'solidity', 'perimeter', 'green_sum', 'blur_effect', 'num_components', 'cropout_descriptive_stats', 'cutout_descriptive_stats'])\n"
     ]
    }
   ],
   "source": [
    "print(set(weeds.keys()) == set(ccs.keys()))\n",
    "print(weeds.keys())\n",
    "print(ccs.keys())\n",
    "\n",
    "print()\n",
    "print(set(weeds[\"cls\"].keys()) == set(ccs[\"cls\"].keys()))\n",
    "print(weeds[\"cls\"].keys())\n",
    "print(ccs[\"cls\"].keys())\n",
    "\n",
    "print()\n",
    "print(set(weeds[\"cutout_props\"].keys()) == set(ccs[\"cutout_props\"].keys()))\n",
    "print(weeds[\"cutout_props\"].keys())\n",
    "print(ccs[\"cutout_props\"].keys())"
   ]
  },
  {
   "cell_type": "markdown",
   "metadata": {},
   "source": [
    "# Get descriptive stats for cropout"
   ]
  },
  {
   "cell_type": "code",
   "execution_count": null,
   "metadata": {},
   "outputs": [],
   "source": []
  },
  {
   "cell_type": "markdown",
   "metadata": {},
   "source": [
    "# Get missing Bbox info"
   ]
  },
  {
   "cell_type": "code",
   "execution_count": null,
   "metadata": {},
   "outputs": [],
   "source": []
  },
  {
   "cell_type": "markdown",
   "metadata": {},
   "source": [
    "# Get missing HWC info"
   ]
  },
  {
   "cell_type": "code",
   "execution_count": null,
   "metadata": {},
   "outputs": [],
   "source": []
  },
  {
   "cell_type": "markdown",
   "metadata": {},
   "source": [
    "# Save sample json"
   ]
  },
  {
   "cell_type": "code",
   "execution_count": 32,
   "metadata": {},
   "outputs": [],
   "source": [
    "with open('weeds2022_examples.json', 'w') as fp:\n",
    "    json.dump(weeds, fp)\n",
    "\n",
    "with open('covers2023_examples.json', 'w') as fp:\n",
    "    json.dump(ccs, fp)"
   ]
  },
  {
   "cell_type": "code",
   "execution_count": 8,
   "metadata": {},
   "outputs": [
    {
     "name": "stdout",
     "output_type": "stream",
     "text": [
      "{'b': {'z': 3, 'x': 1, 'y': 2, 'a': 1}, 'a': {'z': 4, 'y': 5, 'x': 6}, 'c': {'y': 9, 'x': 7, 'z': 8}, 'd': 1}\n"
     ]
    }
   ],
   "source": [
    "from collections import OrderedDict\n",
    "\n",
    "def order_dict_by_list(original_dict, order_list, value_order_lists):\n",
    "    ordered_dict = dict()\n",
    "\n",
    "    for key in order_list:\n",
    "        if key in original_dict:\n",
    "            value = original_dict[key]\n",
    "            if isinstance(value, dict):\n",
    "                ordered_dict[key] = order_dict_by_list(value, order_list, value_order_lists)\n",
    "            else:\n",
    "                ordered_dict[key] = value\n",
    "\n",
    "    for key in original_dict:\n",
    "        if key not in order_list:\n",
    "            value = original_dict[key]\n",
    "            if isinstance(value, dict):\n",
    "                ordered_dict[key] = order_dict_by_list(value, order_list, value_order_lists)\n",
    "            else:\n",
    "                ordered_dict[key] = value\n",
    "\n",
    "    ordered_second_levels = dict()\n",
    "    for key in ordered_dict:\n",
    "        value = ordered_dict[key]\n",
    "        if isinstance(value, dict):\n",
    "            if key in value_order_lists:\n",
    "                ordered_second_levels[key] = dict(\n",
    "                    (k, value[k]) for k in value_order_lists[key] if k in value\n",
    "                )\n",
    "            else:\n",
    "                ordered_second_levels[key] = value\n",
    "\n",
    "    ordered_dict.update(ordered_second_levels)\n",
    "\n",
    "    return ordered_dict\n",
    "\n",
    "# Example usage\n",
    "original_dict = {\n",
    "    'd':1,\n",
    "    'b': {\n",
    "        'x': 1,\n",
    "        'y': 2,\n",
    "        'z': 3,\n",
    "        'a':1\n",
    "    },\n",
    "    'a': {\n",
    "        'z': 4,\n",
    "        'y': 5,\n",
    "        'x': 6\n",
    "    },\n",
    "    'c': {\n",
    "        'x': 7,\n",
    "        'z': 8,\n",
    "        'y': 9\n",
    "    }\n",
    "}\n",
    "\n",
    "order_list = ['b', 'a', 'c']\n",
    "value_order_lists = {\n",
    "    'b': ['z', 'x', 'y','a'],\n",
    "    'c': ['y', 'x', 'z','a'],\n",
    "    'd': ['w', 'x', 'y', 'z']\n",
    "}\n",
    "\n",
    "ordered_dict = order_dict_by_list(original_dict, order_list, value_order_lists)\n",
    "print(ordered_dict)"
   ]
  },
  {
   "cell_type": "code",
   "execution_count": 37,
   "metadata": {},
   "outputs": [
    {
     "name": "stdout",
     "output_type": "stream",
     "text": [
      "{'c': {'y': 9, 'x': 7, 'z': 8}, 'a': {}, 'b': {'z': 3, 'x': 1, 'y': 2}}\n"
     ]
    }
   ],
   "source": [
    "from collections import OrderedDict\n",
    "\n",
    "def order_dict_by_list(original_dict, order_list, value_order_lists):\n",
    "    ordered_dict = dict()\n",
    "\n",
    "    for key in order_list:\n",
    "        if key in original_dict:\n",
    "            value = original_dict[key]\n",
    "            if isinstance(value, dict):\n",
    "                ordered_dict[key] = order_dict_by_list(value, order_list, value_order_lists)\n",
    "            else:\n",
    "                ordered_dict[key] = value\n",
    "\n",
    "    ordered_second_levels = dict()\n",
    "    for key in value_order_lists:\n",
    "        if key in original_dict:\n",
    "            value = original_dict[key]\n",
    "            if isinstance(value, dict):\n",
    "                ordered_second_levels[key] = dict(\n",
    "                    (k, value[k]) for k in value_order_lists[key] if k in value\n",
    "                )\n",
    "\n",
    "    ordered_dict.update(ordered_second_levels)\n",
    "\n",
    "    return ordered_dict\n",
    "\n",
    "# Example usage\n",
    "original_dict = {\n",
    "    'zzz':100000,\n",
    "    'b': {\n",
    "        'x': 1,\n",
    "        'y': 2,\n",
    "        'z': 3\n",
    "    },\n",
    "    'a': {\n",
    "        'z': 4,\n",
    "        'y': 5,\n",
    "        'x': 6\n",
    "    },\n",
    "    'c': {\n",
    "        'x': 7,\n",
    "        'z': 8,\n",
    "        'y': 9,\n",
    "        'zzzzzz':1000000\n",
    "    }\n",
    "}\n",
    "\n",
    "order_list = ['c', 'a', 'b']\n",
    "value_order_lists = {\n",
    "    'a':['xa'],\n",
    "    'b': ['z', 'x', 'y'],\n",
    "    'c': ['y', 'x', 'z'],\n",
    "    'd': ['w', 'x', 'y', 'z']\n",
    "}\n",
    "\n",
    "ordered_dict = order_dict_by_list(original_dict, order_list, value_order_lists)\n",
    "print(ordered_dict)\n"
   ]
  },
  {
   "cell_type": "code",
   "execution_count": 33,
   "metadata": {},
   "outputs": [
    {
     "name": "stdout",
     "output_type": "stream",
     "text": [
      "channel_r:\n",
      "mean: 33.13241977963219\n",
      "std: 72.20030848439804\n",
      "\n",
      "channel_g:\n",
      "mean: 34.291694397515315\n",
      "std: 68.96088419941869\n",
      "\n",
      "channel_b:\n",
      "mean: 10.321268281028686\n",
      "std: 24.136421045357242\n",
      "\n"
     ]
    },
    {
     "data": {
      "text/plain": [
       "<matplotlib.image.AxesImage at 0x7fa936357670>"
      ]
     },
     "execution_count": 33,
     "metadata": {},
     "output_type": "execute_result"
    },
    {
     "data": {
      "image/png": "[encoded data removed]",
      "text/plain": [
       "<Figure size 640x480 with 1 Axes>"
      ]
     },
     "metadata": {},
     "output_type": "display_data"
    }
   ],
   "source": [
    "import cv2\n",
    "import numpy as np\n",
    "from scipy.stats import skew, kurtosis\n",
    "\n",
    "def analyze_image(image_path, exclude_black=True):\n",
    "    # Load the image\n",
    "    image = cv2.imread(image_path)\n",
    "\n",
    "    # Split the image into individual channels\n",
    "    b, g, r = cv2.split(image)\n",
    "\n",
    "    # Create a mask to identify non-black pixels\n",
    "    mask = None\n",
    "    if exclude_black:\n",
    "        mask = cv2.bitwise_or(cv2.bitwise_or(b, g), r)\n",
    "\n",
    "    # Calculate the mean, count, standard deviation, minimum, and maximum values for each channel\n",
    "    # Calculate the mean and standard deviation for each channel\n",
    "    b_mean, b_std = cv2.meanStdDev(b, mask=mask)\n",
    "    g_mean, g_std = cv2.meanStdDev(g, mask=mask)\n",
    "    r_mean, r_std = cv2.meanStdDev(r, mask=mask)\n",
    "\n",
    "    # Calculate the count of pixels based on exclusion/inclusion of black pixels\n",
    "    b_count = np.count_nonzero(b) if exclude_black else b.size\n",
    "    g_count = np.count_nonzero(g) if exclude_black else g.size\n",
    "    r_count = np.count_nonzero(r) if exclude_black else r.size\n",
    "\n",
    "    b_skewness = skew(b[np.nonzero(b)]) if exclude_black else skew(b.flatten())\n",
    "    g_skewness = skew(g[np.nonzero(g)]) if exclude_black else skew(g.flatten())\n",
    "    r_skewness = skew(r[np.nonzero(r)]) if exclude_black else skew(r.flatten())\n",
    "\n",
    "    b_kurtosis = kurtosis(b[np.nonzero(b)]) if exclude_black else kurtosis(b.flatten())\n",
    "    g_kurtosis = kurtosis(g[np.nonzero(g)]) if exclude_black else kurtosis(g.flatten())\n",
    "    r_kurtosis = kurtosis(r[np.nonzero(r)]) if exclude_black else kurtosis(r.flatten())\n",
    "\n",
    "    b_variance = np.var(b[np.nonzero(b)]) if exclude_black else np.var(b.flatten())\n",
    "    g_variance = np.var(g[np.nonzero(g)]) if exclude_black else np.var(g.flatten())\n",
    "    r_variance = np.var(r[np.nonzero(r)]) if exclude_black else np.var(r.flatten())\n",
    "\n",
    "\n",
    "    # Calculate the minimum and maximum values for each channel\n",
    "    b_min = np.min(b[np.nonzero(b)]) if exclude_black else np.min(b)\n",
    "    g_min = np.min(g[np.nonzero(g)]) if exclude_black else np.min(g)\n",
    "    r_min = np.min(r[np.nonzero(r)]) if exclude_black else np.min(r)\n",
    "    b_max = np.max(b)\n",
    "    g_max = np.max(g)\n",
    "    r_max = np.max(r)\n",
    "\n",
    "    # Return the results as a dictionary\n",
    "    result = {\n",
    "        \n",
    "        'channel_r': {\n",
    "            'mean': r_mean[0][0],\n",
    "            # 'count': r_count,\n",
    "            'std': r_std[0][0],\n",
    "            # 'skewness': r_skewness,\n",
    "            # 'kurtosis': r_kurtosis,\n",
    "            # 'variance': r_variance,\n",
    "            # 'min': r_min,\n",
    "            # 'max': r_max\n",
    "        },\n",
    "        'channel_g': {\n",
    "            'mean': g_mean[0][0],\n",
    "            # 'count': g_count,\n",
    "            'std': g_std[0][0],\n",
    "            # 'skewness': g_skewness,\n",
    "            # 'kurtosis': g_kurtosis,\n",
    "            # 'variance': g_variance,\n",
    "            # 'min': g_min,\n",
    "            # 'max': g_max\n",
    "        },\n",
    "        'channel_b': {\n",
    "            'mean': b_mean[0][0],\n",
    "            # 'count': b_count,\n",
    "            'std': b_std[0][0],\n",
    "            # 'skewness': b_skewness,\n",
    "            # 'kurtosis': b_kurtosis,\n",
    "            # 'variance': b_variance,\n",
    "            # 'min': b_min,\n",
    "            # 'max': b_max\n",
    "        }\n",
    "        \n",
    "    }\n",
    "\n",
    "    return result, mask,image\n",
    "\n",
    "# Usage example\n",
    "# image_path = str(Path(cutout_dir, weeds[\"cutout_path\"]))#.replace(\"png\", \"jpg\")\n",
    "image_path = str(Path(cutout_dir, \"TX_2023-05-20/TX_1684590709_0.png\"))#.replace(\"png\", \"jpg\")\n",
    "\n",
    "# image_path = str(Path(cutout_dir, weeds[\"cutout_path\"]))\n",
    "\n",
    "result, mask,image= analyze_image(image_path, exclude_black=False)\n",
    "\n",
    "# Print the results\n",
    "for channel, values in result.items():\n",
    "    print(channel + ':')\n",
    "    \n",
    "    for metric, value in values.items():\n",
    "        print(metric + ':', value)\n",
    "\n",
    "    print()"
   ]
  },
  {
   "cell_type": "code",
   "execution_count": 27,
   "metadata": {},
   "outputs": [
    {
     "data": {
      "text/plain": [
       "array([[[0, 0, 0],\n",
       "        [0, 0, 0],\n",
       "        [0, 0, 0],\n",
       "        ...,\n",
       "        [0, 0, 0],\n",
       "        [0, 0, 0],\n",
       "        [0, 0, 0]],\n",
       "\n",
       "       [[0, 0, 0],\n",
       "        [0, 0, 0],\n",
       "        [0, 0, 0],\n",
       "        ...,\n",
       "        [0, 0, 0],\n",
       "        [0, 0, 0],\n",
       "        [0, 0, 0]],\n",
       "\n",
       "       [[0, 0, 0],\n",
       "        [0, 0, 0],\n",
       "        [0, 0, 0],\n",
       "        ...,\n",
       "        [0, 0, 0],\n",
       "        [0, 0, 0],\n",
       "        [0, 0, 0]],\n",
       "\n",
       "       ...,\n",
       "\n",
       "       [[0, 0, 0],\n",
       "        [0, 0, 0],\n",
       "        [0, 0, 0],\n",
       "        ...,\n",
       "        [0, 0, 0],\n",
       "        [0, 0, 0],\n",
       "        [0, 0, 0]],\n",
       "\n",
       "       [[0, 0, 0],\n",
       "        [0, 0, 0],\n",
       "        [0, 0, 0],\n",
       "        ...,\n",
       "        [0, 0, 0],\n",
       "        [0, 0, 0],\n",
       "        [0, 0, 0]],\n",
       "\n",
       "       [[0, 0, 0],\n",
       "        [0, 0, 0],\n",
       "        [0, 0, 0],\n",
       "        ...,\n",
       "        [0, 0, 0],\n",
       "        [0, 0, 0],\n",
       "        [0, 0, 0]]], dtype=uint8)"
      ]
     },
     "execution_count": 27,
     "metadata": {},
     "output_type": "execute_result"
    },
    {
     "data": {
      "image/png": "[encoded data removed]",
      "text/plain": [
       "<Figure size 640x480 with 1 Axes>"
      ]
     },
     "metadata": {},
     "output_type": "display_data"
    }
   ],
   "source": [
    "# image[image == [0, 0, 0]] = np.nan\n",
    "plt.imshow(image)\n",
    "\n",
    "image"
   ]
  },
  {
   "cell_type": "code",
   "execution_count": null,
   "metadata": {},
   "outputs": [],
   "source": []
  }
 ],
 "metadata": {
  "kernelspec": {
   "display_name": "semif",
   "language": "python",
   "name": "python3"
  },
  "language_info": {
   "codemirror_mode": {
    "name": "ipython",
    "version": 3
   },
   "file_extension": ".py",
   "mimetype": "text/x-python",
   "name": "python",
   "nbconvert_exporter": "python",
   "pygments_lexer": "ipython3",
   "version": "3.9.16"
  },
  "orig_nbformat": 4
 },
 "nbformat": 4,
 "nbformat_minor": 2
}
