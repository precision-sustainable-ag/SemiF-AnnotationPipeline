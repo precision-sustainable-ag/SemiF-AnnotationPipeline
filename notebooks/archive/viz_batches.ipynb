{
 "cells": [
  {
   "cell_type": "code",
   "execution_count": 6,
   "metadata": {},
   "outputs": [
    {
     "name": "stderr",
     "output_type": "stream",
     "text": [
      "/home/mkutuga/anaconda3/envs/semif/lib/python3.9/site-packages/tqdm/auto.py:22: TqdmWarning: IProgress not found. Please update jupyter and ipywidgets. See https://ipywidgets.readthedocs.io/en/stable/user_install.html\n",
      "  from .autonotebook import tqdm as notebook_tqdm\n"
     ]
    },
    {
     "ename": "ModuleNotFoundError",
     "evalue": "No module named 'utils.utils'; 'utils' is not a package",
     "output_type": "error",
     "traceback": [
      "\u001b[0;31m---------------------------------------------------------------------------\u001b[0m",
      "\u001b[0;31mModuleNotFoundError\u001b[0m                       Traceback (most recent call last)",
      "Cell \u001b[0;32mIn[6], line 19\u001b[0m\n\u001b[1;32m     17\u001b[0m sys\u001b[39m.\u001b[39mpath\u001b[39m.\u001b[39mappend(\u001b[39m\"\u001b[39m\u001b[39m/home/mkutuga/SemiF-SyntheticPipeline/utils\u001b[39m\u001b[39m\"\u001b[39m)\n\u001b[1;32m     18\u001b[0m \u001b[39mfrom\u001b[39;00m \u001b[39msemif_utils\u001b[39;00m\u001b[39m.\u001b[39;00m\u001b[39mdatasets\u001b[39;00m \u001b[39mimport\u001b[39;00m Cutout\n\u001b[0;32m---> 19\u001b[0m \u001b[39mfrom\u001b[39;00m \u001b[39msynth_utils\u001b[39;00m\u001b[39m.\u001b[39;00m\u001b[39mconfig_utils\u001b[39;00m \u001b[39mimport\u001b[39;00m cutoutmeta2csv, get_cutout_meta\n\u001b[1;32m     20\u001b[0m \u001b[39mfrom\u001b[39;00m \u001b[39msynth_utils\u001b[39;00m\u001b[39m.\u001b[39;00m\u001b[39mviz\u001b[39;00m \u001b[39mimport\u001b[39;00m plot_cutouts\n\u001b[1;32m     21\u001b[0m \u001b[39mfrom\u001b[39;00m \u001b[39mdatetime\u001b[39;00m \u001b[39mimport\u001b[39;00m date\n",
      "File \u001b[0;32m~/SemiF-SyntheticPipeline/utils/synth_utils.py:10\u001b[0m\n\u001b[1;32m      7\u001b[0m \u001b[39mfrom\u001b[39;00m \u001b[39momegaconf\u001b[39;00m \u001b[39mimport\u001b[39;00m DictConfig\n\u001b[1;32m      8\u001b[0m \u001b[39mfrom\u001b[39;00m \u001b[39mPIL\u001b[39;00m \u001b[39mimport\u001b[39;00m Image, ImageEnhance\n\u001b[0;32m---> 10\u001b[0m \u001b[39mfrom\u001b[39;00m \u001b[39mutils\u001b[39;00m\u001b[39m.\u001b[39;00m\u001b[39mutils\u001b[39;00m \u001b[39mimport\u001b[39;00m Point, Rect, img2RGBA, overlap\n\u001b[1;32m     13\u001b[0m \u001b[39mclass\u001b[39;00m \u001b[39mMakeDirs\u001b[39;00m:\n\u001b[1;32m     15\u001b[0m     \u001b[39mdef\u001b[39;00m \u001b[39m__init__\u001b[39m(\u001b[39mself\u001b[39m, cfg: DictConfig) \u001b[39m-\u001b[39m\u001b[39m>\u001b[39m \u001b[39mNone\u001b[39;00m:\n\u001b[1;32m     16\u001b[0m         \u001b[39m# Create folders\u001b[39;00m\n",
      "\u001b[0;31mModuleNotFoundError\u001b[0m: No module named 'utils.utils'; 'utils' is not a package"
     ]
    }
   ],
   "source": [
    "import json\n",
    "import numpy as np\n",
    "from tqdm import tqdm\n",
    "from dataclasses import asdict\n",
    "from pathlib import Path\n",
    "import pandas as pd\n",
    "import matplotlib.pyplot as plt\n",
    "import seaborn as sns\n",
    "import sys\n",
    "import os\n",
    "import shapely\n",
    "import shapely.wkt\n",
    "from shapely.geometry import Polygon, MultiPolygon\n",
    "# sys.path.append(\"/home/weedsci/matt/SemiF-AnnotationPipeline\")\n",
    "# os.chdir(\"/home/weedsci/matt/SemiF-SyntheticPipeline/\")\n",
    "sys.path.append(\"/home/psa_images/SemiF-AnnotationPipeline/\")\n",
    "sys.path.append(\"/home/mkutuga/SemiF-SyntheticPipeline/utils\")\n",
    "from semif_utils.datasets import Cutout\n",
    "from synth_utils.config_utils import cutoutmeta2csv, get_cutout_meta\n",
    "from synth_utils.viz import plot_cutouts\n",
    "from datetime import date\n",
    "\n",
    "today = date.today().strftime(\"%Y-%m-%d\")"
   ]
  },
  {
   "cell_type": "markdown",
   "metadata": {},
   "source": [
    "#### Cutout2metacsv"
   ]
  },
  {
   "cell_type": "code",
   "execution_count": 2,
   "metadata": {},
   "outputs": [
    {
     "data": {
      "text/plain": [
       "[]"
      ]
     },
     "execution_count": 2,
     "metadata": {},
     "output_type": "execute_result"
    }
   ],
   "source": [
    "# path = \"/home/weedsci/matt/SemiF-AnnotationPipeline/data/semifield-cutouts/MD_2022-07-05/MD_Row-10_1657032952_6.json\"\n",
    "cutoutdir = \"/home/weedsci/matt/SemiF-AnnotationPipeline/data/semifield-cutouts\"\n",
    "# batch_id = \"MD_2022-07-06_v1_unfinished\"\n",
    "savedir = \"/home/weedsci/matt/SemiF-AnnotationPipeline/Assets\"\n",
    "# batchdir = \"/home/weedsci/matt/SemiF-AnnotationPipeline/data/semifield-cutouts\"\n",
    "batchdir = \"/media/hdd1/mkutu/wir/semifield-cutouts\"\n",
    "\n",
    "# Get batches without csvs already made\n",
    "batch_ids = sorted([\n",
    "    x.name for x in Path(batchdir).glob(\"*\")\n",
    "    if (\".\" not in x.name) & (not Path(x, x.name + \".csv\").is_file())\n",
    "])\n",
    "# metajsons = sorted(Path(batchdir).rglob(\"*.json\"))\n",
    "batch_ids"
   ]
  },
  {
   "cell_type": "markdown",
   "metadata": {},
   "source": [
    "## Create Cutout CSVs"
   ]
  },
  {
   "cell_type": "code",
   "execution_count": 6,
   "metadata": {},
   "outputs": [
    {
     "name": "stderr",
     "output_type": "stream",
     "text": [
      "100%|██████████| 3086/3086 [00:02<00:00, 1089.41it/s]\n",
      "100%|██████████| 1566/1566 [00:01<00:00, 1049.92it/s]\n",
      "100%|██████████| 3262/3262 [00:03<00:00, 1085.20it/s]\n",
      "100%|██████████| 3043/3043 [00:02<00:00, 1064.36it/s]\n",
      "100%|██████████| 2026/2026 [00:02<00:00, 1002.15it/s]\n",
      "100%|██████████| 3323/3323 [00:03<00:00, 921.05it/s]\n",
      "100%|██████████| 3383/3383 [00:03<00:00, 936.68it/s]\n",
      "100%|██████████| 2801/2801 [00:03<00:00, 852.08it/s]\n"
     ]
    }
   ],
   "source": [
    "dfs = []\n",
    "for batch_id in batch_ids:\n",
    "    csv_path = f\"{batchdir}/{batch_id}/{batch_id}.csv\"\n",
    "    save_path = f\"{savedir}/{batch_id}_histogram.png\"\n",
    "\n",
    "    df = cutoutmeta2csv(cutoutdir, batch_id, csv_path, save_df=True)\n"
   ]
  },
  {
   "cell_type": "markdown",
   "metadata": {},
   "source": [
    "### Dataframe for all Cutouts so far"
   ]
  },
  {
   "cell_type": "code",
   "execution_count": 3,
   "metadata": {},
   "outputs": [
    {
     "data": {
      "text/html": [
       "<div>\n",
       "<style scoped>\n",
       "    .dataframe tbody tr th:only-of-type {\n",
       "        vertical-align: middle;\n",
       "    }\n",
       "\n",
       "    .dataframe tbody tr th {\n",
       "        vertical-align: top;\n",
       "    }\n",
       "\n",
       "    .dataframe thead th {\n",
       "        text-align: right;\n",
       "    }\n",
       "</style>\n",
       "<table border=\"1\" class=\"dataframe\">\n",
       "  <thead>\n",
       "    <tr style=\"text-align: right;\">\n",
       "      <th></th>\n",
       "      <th>blob_home</th>\n",
       "      <th>data_root</th>\n",
       "      <th>batch_id</th>\n",
       "      <th>image_id</th>\n",
       "      <th>cutout_num</th>\n",
       "      <th>datetime</th>\n",
       "      <th>dap</th>\n",
       "      <th>cutout_id</th>\n",
       "      <th>cutout_path</th>\n",
       "      <th>is_primary</th>\n",
       "      <th>...</th>\n",
       "      <th>axis_minor_length</th>\n",
       "      <th>centroid0</th>\n",
       "      <th>centroid1</th>\n",
       "      <th>eccentricity</th>\n",
       "      <th>extent</th>\n",
       "      <th>solidity</th>\n",
       "      <th>perimeter</th>\n",
       "      <th>is_green</th>\n",
       "      <th>green_sum</th>\n",
       "      <th>synth</th>\n",
       "    </tr>\n",
       "  </thead>\n",
       "  <tbody>\n",
       "    <tr>\n",
       "      <th>0</th>\n",
       "      <td>data</td>\n",
       "      <td>semifield-cutouts</td>\n",
       "      <td>MD_2022-08-24</td>\n",
       "      <td>MD_1661346765</td>\n",
       "      <td>0</td>\n",
       "      <td>2022:08:24 21:09:03</td>\n",
       "      <td>26</td>\n",
       "      <td>MD_1661346765_0</td>\n",
       "      <td>MD_2022-08-24/MD_1661346765_0.png</td>\n",
       "      <td>True</td>\n",
       "      <td>...</td>\n",
       "      <td>1429.330101</td>\n",
       "      <td>9585.666448</td>\n",
       "      <td>17147.676237</td>\n",
       "      <td>7.060039</td>\n",
       "      <td>6.308763</td>\n",
       "      <td>8.394719</td>\n",
       "      <td>22969.729568</td>\n",
       "      <td>True</td>\n",
       "      <td>574584</td>\n",
       "      <td>NaN</td>\n",
       "    </tr>\n",
       "    <tr>\n",
       "      <th>1</th>\n",
       "      <td>data</td>\n",
       "      <td>semifield-cutouts</td>\n",
       "      <td>MD_2022-08-24</td>\n",
       "      <td>MD_1661346765</td>\n",
       "      <td>1</td>\n",
       "      <td>2022:08:24 21:09:03</td>\n",
       "      <td>26</td>\n",
       "      <td>MD_1661346765_1</td>\n",
       "      <td>MD_2022-08-24/MD_1661346765_1.png</td>\n",
       "      <td>False</td>\n",
       "      <td>...</td>\n",
       "      <td>408.702778</td>\n",
       "      <td>237.803063</td>\n",
       "      <td>521.387678</td>\n",
       "      <td>0.875798</td>\n",
       "      <td>0.138863</td>\n",
       "      <td>0.275796</td>\n",
       "      <td>3553.473626</td>\n",
       "      <td>True</td>\n",
       "      <td>29027</td>\n",
       "      <td>NaN</td>\n",
       "    </tr>\n",
       "    <tr>\n",
       "      <th>2</th>\n",
       "      <td>data</td>\n",
       "      <td>semifield-cutouts</td>\n",
       "      <td>MD_2022-08-24</td>\n",
       "      <td>MD_1661346765</td>\n",
       "      <td>2</td>\n",
       "      <td>2022:08:24 21:09:03</td>\n",
       "      <td>26</td>\n",
       "      <td>MD_1661346765_2</td>\n",
       "      <td>MD_2022-08-24/MD_1661346765_2.png</td>\n",
       "      <td>True</td>\n",
       "      <td>...</td>\n",
       "      <td>896.118052</td>\n",
       "      <td>2716.921855</td>\n",
       "      <td>6615.386236</td>\n",
       "      <td>5.062125</td>\n",
       "      <td>3.267720</td>\n",
       "      <td>4.734238</td>\n",
       "      <td>12424.701146</td>\n",
       "      <td>True</td>\n",
       "      <td>160892</td>\n",
       "      <td>NaN</td>\n",
       "    </tr>\n",
       "    <tr>\n",
       "      <th>3</th>\n",
       "      <td>data</td>\n",
       "      <td>semifield-cutouts</td>\n",
       "      <td>MD_2022-08-24</td>\n",
       "      <td>MD_1661346765</td>\n",
       "      <td>3</td>\n",
       "      <td>2022:08:24 21:09:03</td>\n",
       "      <td>26</td>\n",
       "      <td>MD_1661346765_3</td>\n",
       "      <td>MD_2022-08-24/MD_1661346765_3.png</td>\n",
       "      <td>False</td>\n",
       "      <td>...</td>\n",
       "      <td>1337.852990</td>\n",
       "      <td>11663.321572</td>\n",
       "      <td>8020.537146</td>\n",
       "      <td>7.499073</td>\n",
       "      <td>4.984074</td>\n",
       "      <td>6.750127</td>\n",
       "      <td>20895.640390</td>\n",
       "      <td>True</td>\n",
       "      <td>585330</td>\n",
       "      <td>NaN</td>\n",
       "    </tr>\n",
       "    <tr>\n",
       "      <th>4</th>\n",
       "      <td>data</td>\n",
       "      <td>semifield-cutouts</td>\n",
       "      <td>MD_2022-08-24</td>\n",
       "      <td>MD_1661346765</td>\n",
       "      <td>4</td>\n",
       "      <td>2022:08:24 21:09:03</td>\n",
       "      <td>26</td>\n",
       "      <td>MD_1661346765_4</td>\n",
       "      <td>MD_2022-08-24/MD_1661346765_4.png</td>\n",
       "      <td>False</td>\n",
       "      <td>...</td>\n",
       "      <td>34.705179</td>\n",
       "      <td>82.112921</td>\n",
       "      <td>51.497434</td>\n",
       "      <td>0.983657</td>\n",
       "      <td>0.244489</td>\n",
       "      <td>0.783940</td>\n",
       "      <td>449.250829</td>\n",
       "      <td>True</td>\n",
       "      <td>1009</td>\n",
       "      <td>NaN</td>\n",
       "    </tr>\n",
       "    <tr>\n",
       "      <th>...</th>\n",
       "      <td>...</td>\n",
       "      <td>...</td>\n",
       "      <td>...</td>\n",
       "      <td>...</td>\n",
       "      <td>...</td>\n",
       "      <td>...</td>\n",
       "      <td>...</td>\n",
       "      <td>...</td>\n",
       "      <td>...</td>\n",
       "      <td>...</td>\n",
       "      <td>...</td>\n",
       "      <td>...</td>\n",
       "      <td>...</td>\n",
       "      <td>...</td>\n",
       "      <td>...</td>\n",
       "      <td>...</td>\n",
       "      <td>...</td>\n",
       "      <td>...</td>\n",
       "      <td>...</td>\n",
       "      <td>...</td>\n",
       "      <td>...</td>\n",
       "    </tr>\n",
       "    <tr>\n",
       "      <th>115419</th>\n",
       "      <td>data</td>\n",
       "      <td>semifield-cutouts</td>\n",
       "      <td>MD_2022-08-04</td>\n",
       "      <td>MD_1659626726</td>\n",
       "      <td>6</td>\n",
       "      <td>2022:08:04 23:22:05</td>\n",
       "      <td>6</td>\n",
       "      <td>MD_1659626726_6</td>\n",
       "      <td>MD_2022-08-04/MD_1659626726_6.png</td>\n",
       "      <td>True</td>\n",
       "      <td>...</td>\n",
       "      <td>172.440632</td>\n",
       "      <td>144.898045</td>\n",
       "      <td>231.574006</td>\n",
       "      <td>0.912145</td>\n",
       "      <td>0.379208</td>\n",
       "      <td>0.725658</td>\n",
       "      <td>1124.832611</td>\n",
       "      <td>True</td>\n",
       "      <td>32002</td>\n",
       "      <td>NaN</td>\n",
       "    </tr>\n",
       "    <tr>\n",
       "      <th>115420</th>\n",
       "      <td>data</td>\n",
       "      <td>semifield-cutouts</td>\n",
       "      <td>MD_2022-08-04</td>\n",
       "      <td>MD_1659626726</td>\n",
       "      <td>7</td>\n",
       "      <td>2022:08:04 23:22:05</td>\n",
       "      <td>6</td>\n",
       "      <td>MD_1659626726_7</td>\n",
       "      <td>MD_2022-08-04/MD_1659626726_7.png</td>\n",
       "      <td>False</td>\n",
       "      <td>...</td>\n",
       "      <td>149.545163</td>\n",
       "      <td>277.886963</td>\n",
       "      <td>127.568115</td>\n",
       "      <td>0.951245</td>\n",
       "      <td>0.488236</td>\n",
       "      <td>0.795346</td>\n",
       "      <td>1192.354473</td>\n",
       "      <td>True</td>\n",
       "      <td>38989</td>\n",
       "      <td>NaN</td>\n",
       "    </tr>\n",
       "    <tr>\n",
       "      <th>115421</th>\n",
       "      <td>data</td>\n",
       "      <td>semifield-cutouts</td>\n",
       "      <td>MD_2022-08-04</td>\n",
       "      <td>MD_1659626726</td>\n",
       "      <td>8</td>\n",
       "      <td>2022:08:04 23:22:05</td>\n",
       "      <td>6</td>\n",
       "      <td>MD_1659626726_8</td>\n",
       "      <td>MD_2022-08-04/MD_1659626726_8.png</td>\n",
       "      <td>False</td>\n",
       "      <td>...</td>\n",
       "      <td>206.144437</td>\n",
       "      <td>170.763486</td>\n",
       "      <td>233.590688</td>\n",
       "      <td>0.904442</td>\n",
       "      <td>0.354406</td>\n",
       "      <td>0.663583</td>\n",
       "      <td>1319.844805</td>\n",
       "      <td>True</td>\n",
       "      <td>35176</td>\n",
       "      <td>NaN</td>\n",
       "    </tr>\n",
       "    <tr>\n",
       "      <th>115422</th>\n",
       "      <td>data</td>\n",
       "      <td>semifield-cutouts</td>\n",
       "      <td>MD_2022-08-04</td>\n",
       "      <td>MD_1659626726</td>\n",
       "      <td>9</td>\n",
       "      <td>2022:08:04 23:22:05</td>\n",
       "      <td>6</td>\n",
       "      <td>MD_1659626726_9</td>\n",
       "      <td>MD_2022-08-04/MD_1659626726_9.png</td>\n",
       "      <td>False</td>\n",
       "      <td>...</td>\n",
       "      <td>169.252979</td>\n",
       "      <td>147.467896</td>\n",
       "      <td>260.209071</td>\n",
       "      <td>0.933033</td>\n",
       "      <td>0.450215</td>\n",
       "      <td>0.748116</td>\n",
       "      <td>1222.094588</td>\n",
       "      <td>True</td>\n",
       "      <td>36541</td>\n",
       "      <td>NaN</td>\n",
       "    </tr>\n",
       "    <tr>\n",
       "      <th>115423</th>\n",
       "      <td>data</td>\n",
       "      <td>semifield-cutouts</td>\n",
       "      <td>MD_2022-08-04</td>\n",
       "      <td>MD_1659626726</td>\n",
       "      <td>10</td>\n",
       "      <td>2022:08:04 23:22:05</td>\n",
       "      <td>6</td>\n",
       "      <td>MD_1659626726_10</td>\n",
       "      <td>MD_2022-08-04/MD_1659626726_10.png</td>\n",
       "      <td>False</td>\n",
       "      <td>...</td>\n",
       "      <td>134.336483</td>\n",
       "      <td>147.581480</td>\n",
       "      <td>251.848112</td>\n",
       "      <td>0.968536</td>\n",
       "      <td>0.363029</td>\n",
       "      <td>0.744558</td>\n",
       "      <td>1233.106781</td>\n",
       "      <td>True</td>\n",
       "      <td>31024</td>\n",
       "      <td>NaN</td>\n",
       "    </tr>\n",
       "  </tbody>\n",
       "</table>\n",
       "<p>115354 rows × 39 columns</p>\n",
       "</div>"
      ],
      "text/plain": [
       "       blob_home          data_root       batch_id       image_id  cutout_num  \\\n",
       "0           data  semifield-cutouts  MD_2022-08-24  MD_1661346765           0   \n",
       "1           data  semifield-cutouts  MD_2022-08-24  MD_1661346765           1   \n",
       "2           data  semifield-cutouts  MD_2022-08-24  MD_1661346765           2   \n",
       "3           data  semifield-cutouts  MD_2022-08-24  MD_1661346765           3   \n",
       "4           data  semifield-cutouts  MD_2022-08-24  MD_1661346765           4   \n",
       "...          ...                ...            ...            ...         ...   \n",
       "115419      data  semifield-cutouts  MD_2022-08-04  MD_1659626726           6   \n",
       "115420      data  semifield-cutouts  MD_2022-08-04  MD_1659626726           7   \n",
       "115421      data  semifield-cutouts  MD_2022-08-04  MD_1659626726           8   \n",
       "115422      data  semifield-cutouts  MD_2022-08-04  MD_1659626726           9   \n",
       "115423      data  semifield-cutouts  MD_2022-08-04  MD_1659626726          10   \n",
       "\n",
       "                   datetime  dap         cutout_id  \\\n",
       "0       2022:08:24 21:09:03   26   MD_1661346765_0   \n",
       "1       2022:08:24 21:09:03   26   MD_1661346765_1   \n",
       "2       2022:08:24 21:09:03   26   MD_1661346765_2   \n",
       "3       2022:08:24 21:09:03   26   MD_1661346765_3   \n",
       "4       2022:08:24 21:09:03   26   MD_1661346765_4   \n",
       "...                     ...  ...               ...   \n",
       "115419  2022:08:04 23:22:05    6   MD_1659626726_6   \n",
       "115420  2022:08:04 23:22:05    6   MD_1659626726_7   \n",
       "115421  2022:08:04 23:22:05    6   MD_1659626726_8   \n",
       "115422  2022:08:04 23:22:05    6   MD_1659626726_9   \n",
       "115423  2022:08:04 23:22:05    6  MD_1659626726_10   \n",
       "\n",
       "                               cutout_path  is_primary  ...  \\\n",
       "0        MD_2022-08-24/MD_1661346765_0.png        True  ...   \n",
       "1        MD_2022-08-24/MD_1661346765_1.png       False  ...   \n",
       "2        MD_2022-08-24/MD_1661346765_2.png        True  ...   \n",
       "3        MD_2022-08-24/MD_1661346765_3.png       False  ...   \n",
       "4        MD_2022-08-24/MD_1661346765_4.png       False  ...   \n",
       "...                                    ...         ...  ...   \n",
       "115419   MD_2022-08-04/MD_1659626726_6.png        True  ...   \n",
       "115420   MD_2022-08-04/MD_1659626726_7.png       False  ...   \n",
       "115421   MD_2022-08-04/MD_1659626726_8.png       False  ...   \n",
       "115422   MD_2022-08-04/MD_1659626726_9.png       False  ...   \n",
       "115423  MD_2022-08-04/MD_1659626726_10.png       False  ...   \n",
       "\n",
       "        axis_minor_length     centroid0     centroid1  eccentricity    extent  \\\n",
       "0             1429.330101   9585.666448  17147.676237      7.060039  6.308763   \n",
       "1              408.702778    237.803063    521.387678      0.875798  0.138863   \n",
       "2              896.118052   2716.921855   6615.386236      5.062125  3.267720   \n",
       "3             1337.852990  11663.321572   8020.537146      7.499073  4.984074   \n",
       "4               34.705179     82.112921     51.497434      0.983657  0.244489   \n",
       "...                   ...           ...           ...           ...       ...   \n",
       "115419         172.440632    144.898045    231.574006      0.912145  0.379208   \n",
       "115420         149.545163    277.886963    127.568115      0.951245  0.488236   \n",
       "115421         206.144437    170.763486    233.590688      0.904442  0.354406   \n",
       "115422         169.252979    147.467896    260.209071      0.933033  0.450215   \n",
       "115423         134.336483    147.581480    251.848112      0.968536  0.363029   \n",
       "\n",
       "        solidity     perimeter is_green green_sum synth  \n",
       "0       8.394719  22969.729568     True    574584   NaN  \n",
       "1       0.275796   3553.473626     True     29027   NaN  \n",
       "2       4.734238  12424.701146     True    160892   NaN  \n",
       "3       6.750127  20895.640390     True    585330   NaN  \n",
       "4       0.783940    449.250829     True      1009   NaN  \n",
       "...          ...           ...      ...       ...   ...  \n",
       "115419  0.725658   1124.832611     True     32002   NaN  \n",
       "115420  0.795346   1192.354473     True     38989   NaN  \n",
       "115421  0.663583   1319.844805     True     35176   NaN  \n",
       "115422  0.748116   1222.094588     True     36541   NaN  \n",
       "115423  0.744558   1233.106781     True     31024   NaN  \n",
       "\n",
       "[115354 rows x 39 columns]"
      ]
     },
     "execution_count": 3,
     "metadata": {},
     "output_type": "execute_result"
    }
   ],
   "source": [
    "# Get all cutouts\n",
    "batchdir = \"/home/weedsci/matt/SemiF-AnnotationPipeline/data/semifield-cutouts\"\n",
    "cutout_dfs = [pd.read_csv(x) for x in Path(batchdir).rglob(\"*.csv\")]\n",
    "allcuts = pd.concat(cutout_dfs).reset_index(drop=True)\n",
    "allcuts = allcuts[allcuts[\"common_name\"] != \"unknown\"]\n",
    "allcuts\n"
   ]
  },
  {
   "cell_type": "code",
   "execution_count": 14,
   "metadata": {},
   "outputs": [
    {
     "data": {
      "text/plain": [
       "(115354,)"
      ]
     },
     "execution_count": 14,
     "metadata": {},
     "output_type": "execute_result"
    }
   ],
   "source": [
    "allcuts[\n",
    "    \"temp_path\"] = \"/home/weedsci/matt/SemiF-AnnotationPipeline/data/semifield-cutouts\" + allcuts[\n",
    "        \"cutout_path\"]\n",
    "allcuts[\"temp_path\"].shape"
   ]
  },
  {
   "cell_type": "markdown",
   "metadata": {},
   "source": [
    "### View Cutouts"
   ]
  },
  {
   "cell_type": "code",
   "execution_count": 1,
   "metadata": {},
   "outputs": [
    {
     "ename": "ModuleNotFoundError",
     "evalue": "No module named 'synth_utils'",
     "output_type": "error",
     "traceback": [
      "\u001b[0;31m---------------------------------------------------------------------------\u001b[0m",
      "\u001b[0;31mModuleNotFoundError\u001b[0m                       Traceback (most recent call last)",
      "Cell \u001b[0;32mIn [1], line 6\u001b[0m\n\u001b[1;32m      2\u001b[0m \u001b[39mfrom\u001b[39;00m \u001b[39mpathlib\u001b[39;00m \u001b[39mimport\u001b[39;00m Path\n\u001b[1;32m      4\u001b[0m \u001b[39mfrom\u001b[39;00m \u001b[39momegaconf\u001b[39;00m \u001b[39mimport\u001b[39;00m DictConfig\n\u001b[0;32m----> 6\u001b[0m \u001b[39mfrom\u001b[39;00m \u001b[39msynth_utils\u001b[39;00m\u001b[39m.\u001b[39;00m\u001b[39mconfig_utils\u001b[39;00m \u001b[39mimport\u001b[39;00m read_cutouts, sort_cutouts\n\u001b[1;32m     10\u001b[0m \u001b[39mdef\u001b[39;00m \u001b[39mmain\u001b[39m(cfg: DictConfig) \u001b[39m-\u001b[39m\u001b[39m>\u001b[39m \u001b[39mNone\u001b[39;00m:\n\u001b[1;32m     11\u001b[0m     \u001b[39m\"\"\" Creates csv file with all configs to pul from based on cutout config yaml.\"\"\"\u001b[39;00m\n",
      "\u001b[0;31mModuleNotFoundError\u001b[0m: No module named 'synth_utils'"
     ]
    }
   ],
   "source": [
    "import shutil\n",
    "from pathlib import Path\n",
    "\n",
    "from omegaconf import DictConfig\n",
    "\n",
    "from synth_utils.config_utils import read_cutouts, sort_cutouts\n",
    "\n",
    "\n",
    "def main(cfg: DictConfig) -> None:\n",
    "    \"\"\" Creates csv file with all configs to pul from based on cutout config yaml.\"\"\"\n",
    "    # Using species proportions\n",
    "    if cfg.cutouts.mode == \"species\":\n",
    "        alldf = read_cutouts(cfg.data.cutoutdir)\n",
    "        df = sort_cutouts(alldf, cfg, save_csv=True)"
   ]
  },
  {
   "cell_type": "code",
   "execution_count": 9,
   "metadata": {},
   "outputs": [
    {
     "ename": "NameError",
     "evalue": "name 'df' is not defined",
     "output_type": "error",
     "traceback": [
      "\u001b[0;31m---------------------------------------------------------------------------\u001b[0m",
      "\u001b[0;31mNameError\u001b[0m                                 Traceback (most recent call last)",
      "\u001b[1;32m/home/weedsci/matt/SemiF-SyntheticPipeline/notebooks/viz_batches.ipynb Cell 11\u001b[0m in \u001b[0;36m<cell line: 1>\u001b[0;34m()\u001b[0m\n\u001b[0;32m----> <a href='vscode-notebook-cell:/home/weedsci/matt/SemiF-SyntheticPipeline/notebooks/viz_batches.ipynb#X40sZmlsZQ%3D%3D?line=0'>1</a>\u001b[0m df\n",
      "\u001b[0;31mNameError\u001b[0m: name 'df' is not defined"
     ]
    }
   ],
   "source": []
  },
  {
   "cell_type": "markdown",
   "metadata": {},
   "source": [
    "## Plot Cutouts per batch and all together"
   ]
  },
  {
   "cell_type": "markdown",
   "metadata": {},
   "source": [
    "### By batch"
   ]
  },
  {
   "cell_type": "code",
   "execution_count": 5,
   "metadata": {},
   "outputs": [],
   "source": [
    "from tqdm import tqdm\n",
    "for batch in tqdm(allcuts.batch_id.unique()):\n",
    "    bdf = allcuts[allcuts[\"batch_id\"] == batch]\n",
    "    plot_cutouts(subplot=1,\n",
    "                 df=bdf,\n",
    "                 y='common_name',\n",
    "                 title=batch,\n",
    "                 figsize=(12, 8),\n",
    "                 color=\"RdYlGn\",\n",
    "                 xlabel=\"Number of cutouts\",\n",
    "                 ylabel='',\n",
    "                 rotation=0,\n",
    "                 tick_bottom=True,\n",
    "                 tick_left=True,\n",
    "                 text_wrapping=13,\n",
    "                 save_path=f\"{savedir}/{batch}_histogram.png\",\n",
    "                 save=True,\n",
    "                 show=False)\n"
   ]
  },
  {
   "cell_type": "markdown",
   "metadata": {},
   "source": [
    "### All cutouts"
   ]
  },
  {
   "cell_type": "code",
   "execution_count": 11,
   "metadata": {},
   "outputs": [
    {
     "data": {
      "image/png": "[encoded data removed]",
      "text/plain": [
       "<Figure size 1584x1296 with 1 Axes>"
      ]
     },
     "metadata": {
      "needs_background": "light"
     },
     "output_type": "display_data"
    }
   ],
   "source": [
    "plot_cutouts(subplot=1,\n",
    "             df=allcuts,\n",
    "             y='common_name',\n",
    "             title=f\"All processed cutouts\\n as of {today}\",\n",
    "             figsize=(22, 18),\n",
    "             color=\"viridis\",\n",
    "             xlabel=\"Number of cutouts\",\n",
    "             ylabel='',\n",
    "             rotation=0,\n",
    "             tick_bottom=True,\n",
    "             tick_left=True,\n",
    "             text_wrapping=13,\n",
    "             save_path=f\"{savedir}/ALL_cutout_figure.png\",\n",
    "             save=False,\n",
    "             show=True)\n"
   ]
  },
  {
   "cell_type": "code",
   "execution_count": 18,
   "metadata": {},
   "outputs": [
    {
     "data": {
      "text/plain": [
       "28"
      ]
     },
     "execution_count": 18,
     "metadata": {},
     "output_type": "execute_result"
    }
   ],
   "source": [
    "len(allcuts.batch_id.unique())"
   ]
  },
  {
   "cell_type": "markdown",
   "metadata": {},
   "source": [
    "### Summary Statistics"
   ]
  },
  {
   "cell_type": "code",
   "execution_count": 12,
   "metadata": {},
   "outputs": [
    {
     "name": "stdout",
     "output_type": "stream",
     "text": [
      "Number of Images:  12384\n",
      "Sum Unique(primary) Cutouts:  23500\n",
      "Total Number of Cutouts:  115480\n",
      "\n",
      "Number of Unique Cutouts:\n",
      " Common lambsquarters     3080\n",
      "Goosegrass               2554\n",
      "Common ragweed           2371\n",
      "Jimson weed              1893\n",
      "Soybean                  1629\n",
      "Giant foxtail            1562\n",
      "Palmer amaranth          1370\n",
      "Smooth pigweed           1335\n",
      "Cocklebur                1244\n",
      "Sicklepod                1230\n",
      "Velvetleaf               1180\n",
      "Horseweed                 924\n",
      "Purple nutsedge           838\n",
      "Yellow foxtail            793\n",
      "Broadleaf signalgrass     793\n",
      "Maize                     704\n",
      "Name: common_name, dtype: int64\n"
     ]
    },
    {
     "data": {
      "text/plain": [
       "Index(['blob_home', 'data_root', 'batch_id', 'image_id', 'cutout_num',\n",
       "       'datetime', 'dap', 'cutout_id', 'cutout_path', 'is_primary',\n",
       "       'extends_border', 'cutout_version', 'schema_version', 'area',\n",
       "       'scientific_name', 'common_name', 'USDA_symbol', 'EPPO', 'authority',\n",
       "       'collection_location', 'polygon_id', 'class_id', 'hex', 'r', 'g', 'b',\n",
       "       'area_bbox', 'area_convex', 'axis_major_length', 'axis_minor_length',\n",
       "       'centroid0', 'centroid1', 'eccentricity', 'extent', 'solidity',\n",
       "       'perimeter', 'is_green', 'green_sum', 'synth'],\n",
       "      dtype='object')"
      ]
     },
     "execution_count": 12,
     "metadata": {},
     "output_type": "execute_result"
    }
   ],
   "source": [
    "print(\"Number of Images: \", allcuts[\"image_id\"].nunique())\n",
    "print(\n",
    "    \"Sum Unique(primary) Cutouts: \",\n",
    "    sum(allcuts[allcuts[\"is_primary\"] == True].groupby(\n",
    "        [\"common_name\"])[\"image_id\"].value_counts()))\n",
    "print(\"Total Number of Cutouts: \",\n",
    "      sum(allcuts.groupby([\"common_name\"])[\"cutout_id\"].value_counts()))\n",
    "print()\n",
    "print(\"Number of Unique Cutouts:\\n\",\n",
    "      allcuts[allcuts[\"is_primary\"] == True].common_name.value_counts())\n",
    "allcuts.columns\n"
   ]
  },
  {
   "cell_type": "code",
   "execution_count": 20,
   "metadata": {},
   "outputs": [
    {
     "name": "stdout",
     "output_type": "stream",
     "text": [
      "\n",
      "aws sagemaker\n",
      "tier 1\n",
      "Units per tier:  1\n",
      "Cost of labeling all bboxes  4152.744\n",
      "Cost of labeling unique bboxes  844.776\n",
      "Cost of labeling all segments  96897.36\n",
      "Cost of labeling unique segments  19711.44\n",
      "time {}\n",
      "\n",
      "google cloud\n",
      "tier 1\n",
      "Units per tier:  1000\n",
      "Cost of labeling all bboxes  7267.302\n",
      "Cost of labeling unique bboxes  1478.358\n",
      "Cost of labeling all segments  100357.98\n",
      "Cost of labeling unique segments  20415.42\n",
      "time {}\n",
      "\n",
      "google cloud\n",
      "tier 2\n",
      "Units per tier:  1000\n",
      "Cost of labeling all bboxes  5652.346\n",
      "Cost of labeling unique bboxes  1149.834\n",
      "Cost of labeling all segments  98050.9\n",
      "Cost of labeling unique segments  19946.1\n",
      "time {}\n",
      "\n",
      "BWI Solutions\n",
      "tier 1\n",
      "Units per tier:  1\n",
      "Cost of labeling all bboxes  9805.09\n",
      "Cost of labeling unique bboxes  1994.6100000000001\n",
      "Cost of labeling all segments  14419.25\n",
      "Cost of labeling unique segments  2933.25\n",
      "time {'weeks': 2.5, 'segments': 11000}\n",
      "Estimated time: \n",
      "All cutouts (weeks):  26.216818181818184\n",
      "Unique cutouts (weeks):  5.333181818181818\n"
     ]
    }
   ],
   "source": [
    "sum_unique = sum(allcuts[allcuts[\"is_primary\"] == True].groupby(\n",
    "    [\"common_name\"])[\"image_id\"].value_counts())\n",
    "sum_all = sum(allcuts.groupby([\"common_name\"])[\"cutout_id\"].value_counts())\n",
    "costs = {\n",
    "    \"aws sagemaker\": {\n",
    "        \"tiers\": {\n",
    "            \"tier 1\": {\n",
    "                \"units\": 1,\n",
    "                \"bbox\": 0.036,\n",
    "                \"semantic\": 0.84\n",
    "            }\n",
    "        },\n",
    "        \"time\": {}\n",
    "    },\n",
    "    \"google cloud\": {\n",
    "        \"tiers\": {\n",
    "            \"tier 1\": {\n",
    "                \"units\": 1000,\n",
    "                \"bbox\": 63,\n",
    "                \"semantic\": 870\n",
    "            },\n",
    "            \"tier 2\": {\n",
    "                \"units\": 1000,\n",
    "                \"bbox\": 49,\n",
    "                \"semantic\": 850\n",
    "            }\n",
    "        },\n",
    "        \"time\": {}\n",
    "    },\n",
    "    \"BWI Solutions\": {\n",
    "        \"tiers\": {\n",
    "            \"tier 1\": {\n",
    "                \"units\": 1,\n",
    "                \"bbox\": 0.085,\n",
    "                \"semantic\": 0.125\n",
    "            },\n",
    "        },\n",
    "        \"time\": {\n",
    "            \"weeks\": 2.5,\n",
    "            \"segments\": 11000\n",
    "        },\n",
    "    }\n",
    "\n",
    "    # \"V7\": {\n",
    "    #     \"tiers\": {\n",
    "    #         \"tier 1\": {\n",
    "    #             \"units\": 1,\n",
    "    #             \"bbox\": 1,\n",
    "    #             \"semantic\": 1\n",
    "    #         }\n",
    "    #     }\n",
    "    # }\n",
    "}\n",
    "\n",
    "for company in costs:\n",
    "    tiers = costs[company][\"tiers\"]\n",
    "    time = costs[company][\"time\"]\n",
    "    for tier_num in costs[company][\"tiers\"]:\n",
    "        pricing = tiers[tier_num]\n",
    "        units = pricing.get(\"units\")\n",
    "        print(f\"\\n{company}\")\n",
    "        print(tier_num)\n",
    "        print(\"Units per tier: \", units)\n",
    "        print(\"Cost of labeling all bboxes \",\n",
    "              pricing.get(\"bbox\") * sum_all / units)\n",
    "        print(\"Cost of labeling unique bboxes \",\n",
    "              pricing.get(\"bbox\") * sum_unique / units)\n",
    "        print(\"Cost of labeling all segments \",\n",
    "              pricing.get(\"semantic\") * sum_all / units)\n",
    "        print(\"Cost of labeling unique segments \",\n",
    "              pricing.get(\"semantic\") * sum_unique / units)\n",
    "        print(\"time\", time)\n",
    "        if time.get(\"weeks\"):\n",
    "            print(\"Estimated time: \")\n",
    "            print(\"All cutouts (weeks): \",\n",
    "                  time.get(\"weeks\") * sum_all / time.get(\"segments\"))\n",
    "            print(\"Unique cutouts (weeks): \",\n",
    "                  time.get(\"weeks\") * sum_unique / time.get(\"segments\"))\n"
   ]
  },
  {
   "cell_type": "markdown",
   "metadata": {},
   "source": [
    "## Plot Cutout Description"
   ]
  },
  {
   "cell_type": "code",
   "execution_count": 9,
   "metadata": {},
   "outputs": [
    {
     "data": {
      "text/plain": [
       "<seaborn.axisgrid.FacetGrid at 0x7f19dea5a940>"
      ]
     },
     "execution_count": 9,
     "metadata": {},
     "output_type": "execute_result"
    },
    {
     "data": {
      "image/png": "[encoded data removed]",
      "text/plain": [
       "<Figure size 1396.62x864 with 1 Axes>"
      ]
     },
     "metadata": {
      "needs_background": "light"
     },
     "output_type": "display_data"
    }
   ],
   "source": [
    "# data = pd.DataFrame(data={'val': values}, index=index).reset_index()\n",
    "\n",
    "imgs = allcuts.groupby([\"batch_id\", \"image_id\",\n",
    "                        \"collection_location\"]).nunique().reset_index()\n",
    "# allcuts[\"image_id\"].unique()\n",
    "df = imgs.copy()\n",
    "df.columns = df.columns.to_flat_index()\n",
    "# df.columns = ['_'.join(x) for x in df.columns.get_level_values(0)]\n",
    "# pprint(df.columns[20:])\n",
    "df.head()\n",
    "# imgs\n",
    "df[\"collection_location\"]\n",
    "sns.catplot(data=df,\n",
    "            y=\"batch_id\",\n",
    "            height=12,\n",
    "            aspect=1.5,\n",
    "            hue=\"collection_location\",\n",
    "            kind=\"count\")\n"
   ]
  }
 ],
 "metadata": {
  "kernelspec": {
   "display_name": "Python 3.9.7 ('semif_gpu')",
   "language": "python",
   "name": "python3"
  },
  "language_info": {
   "codemirror_mode": {
    "name": "ipython",
    "version": 3
   },
   "file_extension": ".py",
   "mimetype": "text/x-python",
   "name": "python",
   "nbconvert_exporter": "python",
   "pygments_lexer": "ipython3",
   "version": "3.9.16"
  },
  "orig_nbformat": 4,
  "vscode": {
   "interpreter": {
    "hash": "744a42bd80ac358fa9609cbed3f00de04e09bd0f0bddbbb1b794f1c2f41863eb"
   }
  }
 },
 "nbformat": 4,
 "nbformat_minor": 2
}
