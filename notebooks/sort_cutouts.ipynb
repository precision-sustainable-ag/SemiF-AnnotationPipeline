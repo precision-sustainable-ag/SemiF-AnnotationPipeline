{
 "cells": [
  {
   "cell_type": "code",
   "execution_count": 15,
   "metadata": {},
   "outputs": [],
   "source": [
    "from pathlib import Path\n",
    "import cv2\n",
    "import pandas as pd\n",
    "import numpy as np\n",
    "import seaborn as sns\n",
    "import matplotlib.pyplot as plt\n",
    "import random\n",
    "import os\n",
    "import shutil\n",
    "import sklearn.cluster as cl\n",
    "from sklearn.preprocessing import StandardScaler\n",
    "os.chdir('/home/weedsci/matt/SemiF-AnnotationPipeline')\n",
    "from semif_utils.utils import get_cutout_meta"
   ]
  },
  {
   "cell_type": "code",
   "execution_count": 16,
   "metadata": {},
   "outputs": [],
   "source": [
    "# Get all json files\n",
    "path = \"data/semifield-cutouts/NC_2022-07-14.csv\"\n",
    "df = pd.read_csv(path)\n",
    "df[\"is_green\"] = np.where(df.is_green==True, 1, 0).astype(float)\n",
    "df[\"is_primary\"] = np.where(df.is_primary==True, 1, 0).astype(float)\n",
    "df[\"extends_border\"] = np.where(df.extends_border==True, 1, 0).astype(float)\n",
    "df[\"green_sum\"] = df.green_sum.astype(float)"
   ]
  },
  {
   "cell_type": "code",
   "execution_count": 20,
   "metadata": {},
   "outputs": [],
   "source": [
    "trn = [\n",
    "       'area',\n",
    "       'axis_major_length', 'axis_minor_length', 'centroid0', 'centroid1',\n",
    "       'eccentricity', 'solidity', \n",
    "       'perimeter', 'green_sum']\n",
    "\n",
    "trndf = df[trn].values.astype(float)\n",
    "trn_arr = StandardScaler().fit_transform(trndf)\n",
    "# cls = cl.KMeans(n_clusters=2, random_state=42).fit(trn_arr)\n",
    "# cls = cl.DBSCAN(eps=0.3)\n",
    "cls = cl.OPTICS(min_samples=7, xi=0.05, min_cluster_size=0.1)\n",
    "cls = cls.fit(trn_arr)\n",
    "if hasattr(cls, \"labels_\"):\n",
    "       labels = cls.labels_.astype(int)\n",
    "else:\n",
    "       labels = cls.predict(trn_arr)\n",
    "# labels = cls.labels_\n",
    "res = pd.DataFrame(data=labels, columns=[\"cluster\"], index=df.index)\n",
    "res[\"common_name\"] = df[\"common_name\"]\n",
    "df[\"cluster\"] = res[\"cluster\"]\n",
    "\n",
    "# ############## Round 2\n",
    "# df = df[df[\"cluster\"]==-1]\n",
    "# trndf = df[trn].values.astype(float)\n",
    "# trn_arr = StandardScaler().fit_transform(trndf)\n",
    "# # cls = cl.KMeans(n_clusters=2, random_state=42).fit(trn_arr)\n",
    "# # cls = cl.DBSCAN(eps=0.3)\n",
    "# cls = cl.OPTICS(min_samples=7, xi=0.05, min_cluster_size=0.1)\n",
    "# cls = cls.fit(trn_arr)\n",
    "# if hasattr(cls, \"labels_\"):\n",
    "#        labels = cls.labels_.astype(int)\n",
    "# else:\n",
    "#        labels = cls.predict(trn_arr)\n",
    "# # labels = cls.labels_\n",
    "# res = pd.DataFrame(data=labels, columns=[\"cluster\"], index=df.index)\n",
    "# res[\"common_name\"] = df[\"common_name\"]\n",
    "# df[\"cluster\"] = res[\"cluster\"]\n",
    "# print(df.shape)\n",
    "df[\"path\"] = df[\"blob_home\"] + \"/\" + df[\"data_root\"] + \"/\" + df[\"cutout_path\"]"
   ]
  },
  {
   "cell_type": "code",
   "execution_count": 50,
   "metadata": {},
   "outputs": [
    {
     "name": "stdout",
     "output_type": "stream",
     "text": [
      "[-1  0]\n",
      "common_name\n",
      "Broadleaf signalgrass     600\n",
      "Cocklebur                 917\n",
      "Common ragweed            434\n",
      "Goosegrass                785\n",
      "Palmer amaranth          1512\n",
      "Purple nutsedge           636\n",
      "Sicklepod                1289\n",
      "Soybean                  1387\n",
      "Name: cluster, dtype: int64\n"
     ]
    }
   ],
   "source": [
    "# dst  = \"data/semifield-cutouts/NC_2022-07-14_trash\"\n",
    "# anlyz = df.copy()\n",
    "# anlyz = anlyz[anlyz[\"common_name\"]==\"Soybean\"]\n",
    "# anlyz = anlyz[anlyz[\"axis_major_length\"]<1200]\n",
    "# anlyz = anlyz[anlyz[\"axis_minor_length\"]<750]\n",
    "# anlyz = anlyz[anlyz[\"green_sum\"]<5000]\n",
    "# anlyz = anlyz[anlyz[\"area\"]<5000]\n",
    "# print(anlyz[\"cluster\"].unique())\n",
    "# print(df.groupby([\"common_name\"])[\"cluster\"].count())\n",
    "# clust0 = anlyz[\"cluster\"]==0\n",
    "# clust1 = anlyz[\"cluster\"]==1\n",
    "\n",
    "# if len(clust0) < len(clust1):\n",
    "#     anlyz = anlyz[anlyz[\"cluster\"]==0]\n",
    "#     print(\"cluster: \", \"0\")\n",
    "# else:\n",
    "#     anlyz = anlyz[anlyz[\"cluster\"]==1]\n",
    "    # print(\"cluster: \", \"1\")\n",
    "\n"
   ]
  },
  {
   "cell_type": "code",
   "execution_count": 58,
   "metadata": {},
   "outputs": [],
   "source": [
    "morph_ana = df[df[\"is_primary\"]==1]\n",
    "morph_ana = morph_ana[morph_ana[\"extends_border\"]==0]\n",
    "morph_ana = morph_ana[morph_ana[\"area\"]<1000000000]\n",
    "morph_ana = morph_ana[morph_ana[\"green_sum\"]>250]\n",
    "morph_ana = morph_ana[morph_ana[\"green_sum\"]<500]\n",
    "dst  = Path(\"data/semifield-cutouts/NC_2022-07-14_trash/Good small examples\")\n",
    "dst.mkdir(parents=True, exist_ok=True)\n",
    "\n",
    "for save_path in morph_ana[\"path\"]:\n",
    "    cut_name = Path(save_path).name\n",
    "    cut_dst = Path(dst, cut_name)\n",
    "    shutil.copy2(save_path, cut_dst)"
   ]
  },
  {
   "cell_type": "code",
   "execution_count": 18,
   "metadata": {},
   "outputs": [
    {
     "name": "stderr",
     "output_type": "stream",
     "text": [
      "/tmp/ipykernel_41034/306687636.py:5: SettingWithCopyWarning: \n",
      "A value is trying to be set on a copy of a slice from a DataFrame.\n",
      "Try using .loc[row_indexer,col_indexer] = value instead\n",
      "\n",
      "See the caveats in the documentation: https://pandas.pydata.org/pandas-docs/stable/user_guide/indexing.html#returning-a-view-versus-a-copy\n",
      "  new_anlyz[\"path\"] = new_anlyz[\"blob_home\"] + \"/\" + new_anlyz[\"data_root\"] + \"/\" + new_anlyz[\"cutout_path\"]\n",
      "/tmp/ipykernel_41034/306687636.py:5: SettingWithCopyWarning: \n",
      "A value is trying to be set on a copy of a slice from a DataFrame.\n",
      "Try using .loc[row_indexer,col_indexer] = value instead\n",
      "\n",
      "See the caveats in the documentation: https://pandas.pydata.org/pandas-docs/stable/user_guide/indexing.html#returning-a-view-versus-a-copy\n",
      "  new_anlyz[\"path\"] = new_anlyz[\"blob_home\"] + \"/\" + new_anlyz[\"data_root\"] + \"/\" + new_anlyz[\"cutout_path\"]\n"
     ]
    }
   ],
   "source": [
    "# Saving images by cluster values\n",
    "for cluster in df[\"cluster\"].unique():\n",
    "    new_anlyz = df[df[\"cluster\"]==cluster]\n",
    "    # new_anlyz = new_anlyz[new_anlyz[\"green_sum\"]<5000]\n",
    "    new_anlyz[\"path\"] = new_anlyz[\"blob_home\"] + \"/\" + new_anlyz[\"data_root\"] + \"/\" + new_anlyz[\"cutout_path\"]\n",
    "    cluster_dir = Path(\"/home/weedsci/matt/SemiF-AnnotationPipeline/data/semifield-cutouts/NC_2022-07-14_trash\", str(cluster))\n",
    "    cluster_dir.mkdir(exist_ok=False)\n",
    "    for save_path in new_anlyz[\"path\"]:\n",
    "        cut_name = Path(save_path).name\n",
    "        cut_dst = Path(cluster_dir, cut_name)\n",
    "        # shutil.copy2(save_path, cut_dst)"
   ]
  },
  {
   "cell_type": "code",
   "execution_count": null,
   "metadata": {},
   "outputs": [],
   "source": []
  }
 ],
 "metadata": {
  "kernelspec": {
   "display_name": "Python 3.9.0 ('semif_gpu')",
   "language": "python",
   "name": "python3"
  },
  "language_info": {
   "codemirror_mode": {
    "name": "ipython",
    "version": 3
   },
   "file_extension": ".py",
   "mimetype": "text/x-python",
   "name": "python",
   "nbconvert_exporter": "python",
   "pygments_lexer": "ipython3",
   "version": "3.9.0"
  },
  "orig_nbformat": 4,
  "vscode": {
   "interpreter": {
    "hash": "0761b86a138a7d55b4f3c23d47d2d15f86714bfdaf7e37a783fa5b2853fc7c70"
   }
  }
 },
 "nbformat": 4,
 "nbformat_minor": 2
}
