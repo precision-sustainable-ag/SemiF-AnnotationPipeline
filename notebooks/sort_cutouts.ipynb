{
 "cells": [
  {
   "cell_type": "code",
   "execution_count": 1,
   "metadata": {},
   "outputs": [],
   "source": [
    "from pathlib import Path\n",
    "import cv2\n",
    "import pandas as pd\n",
    "import numpy as np\n",
    "import seaborn as sns\n",
    "import matplotlib.pyplot as plt\n",
    "import random\n",
    "import os\n",
    "import shutil\n",
    "import sklearn.cluster as cl\n",
    "from sklearn.preprocessing import StandardScaler\n",
    "os.chdir('/home/weedsci/matt/SemiF-AnnotationPipeline')\n",
    "from semif_utils.utils import get_cutout_meta"
   ]
  },
  {
   "cell_type": "code",
   "execution_count": 18,
   "metadata": {},
   "outputs": [
    {
     "data": {
      "text/plain": [
       "array(['Sicklepod', 'Cocklebur', 'Palmer amaranth', 'Soybean',\n",
       "       'Goosegrass', 'Purple nutsedge', 'Common ragweed',\n",
       "       'Broadleaf signalgrass'], dtype=object)"
      ]
     },
     "execution_count": 18,
     "metadata": {},
     "output_type": "execute_result"
    }
   ],
   "source": [
    "# Get all json files\n",
    "path = \"data/semifield-cutouts/NC_2022-07-14.csv\"\n",
    "df = pd.read_csv(path)\n",
    "df[\"is_green\"] = np.where(df.is_green==True, 1, 0).astype(float)\n",
    "df[\"is_primary\"] = np.where(df.is_primary==True, 1, 0).astype(float)\n",
    "df[\"extends_border\"] = np.where(df.extends_border==True, 1, 0).astype(float)\n",
    "df[\"green_sum\"] = df.green_sum.astype(float)\n",
    "df[\"common_name\"].unique()"
   ]
  },
  {
   "cell_type": "code",
   "execution_count": 19,
   "metadata": {},
   "outputs": [],
   "source": [
    "trn = [\n",
    "       'area',\n",
    "       'axis_major_length', 'axis_minor_length', 'centroid0', 'centroid1',\n",
    "       'eccentricity', 'solidity', \n",
    "       'perimeter', 'green_sum']\n",
    "\n",
    "trndf = df[trn].values.astype(float)\n",
    "trn_arr = StandardScaler().fit_transform(trndf)\n",
    "# cls = cl.KMeans(n_clusters=2, random_state=42).fit(trn_arr)\n",
    "# cls = cl.DBSCAN(eps=0.3)\n",
    "cls = cl.OPTICS(min_samples=7, xi=0.05, min_cluster_size=0.1)\n",
    "cls = cls.fit(trn_arr)\n",
    "if hasattr(cls, \"labels_\"):\n",
    "       labels = cls.labels_.astype(int)\n",
    "else:\n",
    "       labels = cls.predict(trn_arr)\n",
    "# labels = cls.labels_\n",
    "res = pd.DataFrame(data=labels, columns=[\"cluster\"], index=df.index)\n",
    "res[\"common_name\"] = df[\"common_name\"]\n",
    "df[\"cluster\"] = res[\"cluster\"]\n",
    "\n",
    "# ############## Round 2\n",
    "# df = df[df[\"cluster\"]==-1]\n",
    "# trndf = df[trn].values.astype(float)\n",
    "# trn_arr = StandardScaler().fit_transform(trndf)\n",
    "# # cls = cl.KMeans(n_clusters=2, random_state=42).fit(trn_arr)\n",
    "# # cls = cl.DBSCAN(eps=0.3)\n",
    "# cls = cl.OPTICS(min_samples=7, xi=0.05, min_cluster_size=0.1)\n",
    "# cls = cls.fit(trn_arr)\n",
    "# if hasattr(cls, \"labels_\"):\n",
    "#        labels = cls.labels_.astype(int)\n",
    "# else:\n",
    "#        labels = cls.predict(trn_arr)\n",
    "# # labels = cls.labels_\n",
    "# res = pd.DataFrame(data=labels, columns=[\"cluster\"], index=df.index)\n",
    "# res[\"common_name\"] = df[\"common_name\"]\n",
    "# df[\"cluster\"] = res[\"cluster\"]\n",
    "# print(df.shape)\n",
    "df[\"path\"] = df[\"blob_home\"] + \"/\" + df[\"data_root\"] + \"/\" + df[\"cutout_path\"]"
   ]
  },
  {
   "cell_type": "code",
   "execution_count": 50,
   "metadata": {},
   "outputs": [
    {
     "name": "stdout",
     "output_type": "stream",
     "text": [
      "[-1  0]\n",
      "common_name\n",
      "Broadleaf signalgrass     600\n",
      "Cocklebur                 917\n",
      "Common ragweed            434\n",
      "Goosegrass                785\n",
      "Palmer amaranth          1512\n",
      "Purple nutsedge           636\n",
      "Sicklepod                1289\n",
      "Soybean                  1387\n",
      "Name: cluster, dtype: int64\n"
     ]
    }
   ],
   "source": [
    "# dst  = \"data/semifield-cutouts/NC_2022-07-14_trash\"\n",
    "# anlyz = df.copy()\n",
    "# anlyz = anlyz[anlyz[\"common_name\"]==\"Soybean\"]\n",
    "# anlyz = anlyz[anlyz[\"axis_major_length\"]<1200]\n",
    "# anlyz = anlyz[anlyz[\"axis_minor_length\"]<750]\n",
    "# anlyz = anlyz[anlyz[\"green_sum\"]<5000]\n",
    "# anlyz = anlyz[anlyz[\"area\"]<5000]\n",
    "# print(anlyz[\"cluster\"].unique())\n",
    "# print(df.groupby([\"common_name\"])[\"cluster\"].count())\n",
    "# clust0 = anlyz[\"cluster\"]==0\n",
    "# clust1 = anlyz[\"cluster\"]==1\n",
    "\n",
    "# if len(clust0) < len(clust1):\n",
    "#     anlyz = anlyz[anlyz[\"cluster\"]==0]\n",
    "#     print(\"cluster: \", \"0\")\n",
    "# else:\n",
    "#     anlyz = anlyz[anlyz[\"cluster\"]==1]\n",
    "    # print(\"cluster: \", \"1\")\n",
    "\n"
   ]
  },
  {
   "cell_type": "code",
   "execution_count": 21,
   "metadata": {},
   "outputs": [
    {
     "ename": "KeyError",
     "evalue": "'path'",
     "output_type": "error",
     "traceback": [
      "\u001b[0;31m---------------------------------------------------------------------------\u001b[0m",
      "\u001b[0;31mKeyError\u001b[0m                                  Traceback (most recent call last)",
      "File \u001b[0;32m~/miniconda3/envs/semif_gpu/lib/python3.9/site-packages/pandas/core/indexes/base.py:3621\u001b[0m, in \u001b[0;36mIndex.get_loc\u001b[0;34m(self, key, method, tolerance)\u001b[0m\n\u001b[1;32m   3620\u001b[0m \u001b[39mtry\u001b[39;00m:\n\u001b[0;32m-> 3621\u001b[0m     \u001b[39mreturn\u001b[39;00m \u001b[39mself\u001b[39;49m\u001b[39m.\u001b[39;49m_engine\u001b[39m.\u001b[39;49mget_loc(casted_key)\n\u001b[1;32m   3622\u001b[0m \u001b[39mexcept\u001b[39;00m \u001b[39mKeyError\u001b[39;00m \u001b[39mas\u001b[39;00m err:\n",
      "File \u001b[0;32m~/miniconda3/envs/semif_gpu/lib/python3.9/site-packages/pandas/_libs/index.pyx:136\u001b[0m, in \u001b[0;36mpandas._libs.index.IndexEngine.get_loc\u001b[0;34m()\u001b[0m\n",
      "File \u001b[0;32m~/miniconda3/envs/semif_gpu/lib/python3.9/site-packages/pandas/_libs/index.pyx:163\u001b[0m, in \u001b[0;36mpandas._libs.index.IndexEngine.get_loc\u001b[0;34m()\u001b[0m\n",
      "File \u001b[0;32mpandas/_libs/hashtable_class_helper.pxi:5198\u001b[0m, in \u001b[0;36mpandas._libs.hashtable.PyObjectHashTable.get_item\u001b[0;34m()\u001b[0m\n",
      "File \u001b[0;32mpandas/_libs/hashtable_class_helper.pxi:5206\u001b[0m, in \u001b[0;36mpandas._libs.hashtable.PyObjectHashTable.get_item\u001b[0;34m()\u001b[0m\n",
      "\u001b[0;31mKeyError\u001b[0m: 'path'",
      "\nThe above exception was the direct cause of the following exception:\n",
      "\u001b[0;31mKeyError\u001b[0m                                  Traceback (most recent call last)",
      "\u001b[1;32m/home/weedsci/matt/SemiF-AnnotationPipeline/notebooks/sort_cutouts.ipynb Cell 5\u001b[0m in \u001b[0;36m<cell line: 17>\u001b[0;34m()\u001b[0m\n\u001b[1;32m     <a href='vscode-notebook-cell://ssh-remote%2B165.91.184.201/home/weedsci/matt/SemiF-AnnotationPipeline/notebooks/sort_cutouts.ipynb#W4sdnNjb2RlLXJlbW90ZQ%3D%3D?line=13'>14</a>\u001b[0m dst  \u001b[39m=\u001b[39m Path(\u001b[39m\"\u001b[39m\u001b[39mdata/semifield-cutouts/NC_2022-07-14_trash/Good large palmer\u001b[39m\u001b[39m\"\u001b[39m)\n\u001b[1;32m     <a href='vscode-notebook-cell://ssh-remote%2B165.91.184.201/home/weedsci/matt/SemiF-AnnotationPipeline/notebooks/sort_cutouts.ipynb#W4sdnNjb2RlLXJlbW90ZQ%3D%3D?line=14'>15</a>\u001b[0m dst\u001b[39m.\u001b[39mmkdir(parents\u001b[39m=\u001b[39m\u001b[39mTrue\u001b[39;00m, exist_ok\u001b[39m=\u001b[39m\u001b[39mTrue\u001b[39;00m)\n\u001b[0;32m---> <a href='vscode-notebook-cell://ssh-remote%2B165.91.184.201/home/weedsci/matt/SemiF-AnnotationPipeline/notebooks/sort_cutouts.ipynb#W4sdnNjb2RlLXJlbW90ZQ%3D%3D?line=16'>17</a>\u001b[0m \u001b[39mfor\u001b[39;00m save_path \u001b[39min\u001b[39;00m morph_ana[\u001b[39m\"\u001b[39;49m\u001b[39mpath\u001b[39;49m\u001b[39m\"\u001b[39;49m]:\n\u001b[1;32m     <a href='vscode-notebook-cell://ssh-remote%2B165.91.184.201/home/weedsci/matt/SemiF-AnnotationPipeline/notebooks/sort_cutouts.ipynb#W4sdnNjb2RlLXJlbW90ZQ%3D%3D?line=17'>18</a>\u001b[0m     \u001b[39mprint\u001b[39m(save_path)\n\u001b[1;32m     <a href='vscode-notebook-cell://ssh-remote%2B165.91.184.201/home/weedsci/matt/SemiF-AnnotationPipeline/notebooks/sort_cutouts.ipynb#W4sdnNjb2RlLXJlbW90ZQ%3D%3D?line=18'>19</a>\u001b[0m     cut_name \u001b[39m=\u001b[39m Path(save_path)\u001b[39m.\u001b[39mname\n",
      "File \u001b[0;32m~/miniconda3/envs/semif_gpu/lib/python3.9/site-packages/pandas/core/frame.py:3505\u001b[0m, in \u001b[0;36mDataFrame.__getitem__\u001b[0;34m(self, key)\u001b[0m\n\u001b[1;32m   3503\u001b[0m \u001b[39mif\u001b[39;00m \u001b[39mself\u001b[39m\u001b[39m.\u001b[39mcolumns\u001b[39m.\u001b[39mnlevels \u001b[39m>\u001b[39m \u001b[39m1\u001b[39m:\n\u001b[1;32m   3504\u001b[0m     \u001b[39mreturn\u001b[39;00m \u001b[39mself\u001b[39m\u001b[39m.\u001b[39m_getitem_multilevel(key)\n\u001b[0;32m-> 3505\u001b[0m indexer \u001b[39m=\u001b[39m \u001b[39mself\u001b[39;49m\u001b[39m.\u001b[39;49mcolumns\u001b[39m.\u001b[39;49mget_loc(key)\n\u001b[1;32m   3506\u001b[0m \u001b[39mif\u001b[39;00m is_integer(indexer):\n\u001b[1;32m   3507\u001b[0m     indexer \u001b[39m=\u001b[39m [indexer]\n",
      "File \u001b[0;32m~/miniconda3/envs/semif_gpu/lib/python3.9/site-packages/pandas/core/indexes/base.py:3623\u001b[0m, in \u001b[0;36mIndex.get_loc\u001b[0;34m(self, key, method, tolerance)\u001b[0m\n\u001b[1;32m   3621\u001b[0m     \u001b[39mreturn\u001b[39;00m \u001b[39mself\u001b[39m\u001b[39m.\u001b[39m_engine\u001b[39m.\u001b[39mget_loc(casted_key)\n\u001b[1;32m   3622\u001b[0m \u001b[39mexcept\u001b[39;00m \u001b[39mKeyError\u001b[39;00m \u001b[39mas\u001b[39;00m err:\n\u001b[0;32m-> 3623\u001b[0m     \u001b[39mraise\u001b[39;00m \u001b[39mKeyError\u001b[39;00m(key) \u001b[39mfrom\u001b[39;00m \u001b[39merr\u001b[39;00m\n\u001b[1;32m   3624\u001b[0m \u001b[39mexcept\u001b[39;00m \u001b[39mTypeError\u001b[39;00m:\n\u001b[1;32m   3625\u001b[0m     \u001b[39m# If we have a listlike key, _check_indexing_error will raise\u001b[39;00m\n\u001b[1;32m   3626\u001b[0m     \u001b[39m#  InvalidIndexError. Otherwise we fall through and re-raise\u001b[39;00m\n\u001b[1;32m   3627\u001b[0m     \u001b[39m#  the TypeError.\u001b[39;00m\n\u001b[1;32m   3628\u001b[0m     \u001b[39mself\u001b[39m\u001b[39m.\u001b[39m_check_indexing_error(key)\n",
      "\u001b[0;31mKeyError\u001b[0m: 'path'"
     ]
    }
   ],
   "source": [
    "path = \"data/semifield-cutouts/NC_2022-07-14.csv\"\n",
    "df = pd.read_csv(path)\n",
    "df[\"is_green\"] = np.where(df.is_green==True, 1, 0).astype(float)\n",
    "df[\"is_primary\"] = np.where(df.is_primary==True, 1, 0).astype(float)\n",
    "df[\"extends_border\"] = np.where(df.extends_border==True, 1, 0).astype(float)\n",
    "df[\"green_sum\"] = df.green_sum.astype(float)\n",
    "df[\"path\"] = df[\"blob_home\"] + \"/\" + df[\"data_root\"] + \"/\" + df[\"cutout_path\"]\n",
    "# morph_ana = df[df[\"is_primary\"]==1]\n",
    "morph_ana = df[df[\"common_name\"]==\"Palmer amaranth\"]\n",
    "# print(morph_ana)\n",
    "morph_ana = morph_ana[morph_ana[\"extends_border\"]==0]\n",
    "morph_ana = morph_ana[morph_ana[\"area\"]>1000]\n",
    "morph_ana = morph_ana[morph_ana[\"green_sum\"]>250000]\n",
    "# morph_ana = morph_ana[morph_ana[\"green_sum\"]<50000]\n",
    "dst  = Path(\"data/semifield-cutouts/NC_2022-07-14_trash/Good large palmer\")\n",
    "dst.mkdir(parents=True, exist_ok=True)\n",
    "\n",
    "for save_path in morph_ana[\"path\"]:\n",
    "    print(save_path)\n",
    "    cut_name = Path(save_path).name\n",
    "    cut_dst = Path(dst, cut_name)\n",
    "    shutil.copy2(save_path, cut_dst)"
   ]
  },
  {
   "cell_type": "code",
   "execution_count": 18,
   "metadata": {},
   "outputs": [
    {
     "name": "stderr",
     "output_type": "stream",
     "text": [
      "/tmp/ipykernel_41034/306687636.py:5: SettingWithCopyWarning: \n",
      "A value is trying to be set on a copy of a slice from a DataFrame.\n",
      "Try using .loc[row_indexer,col_indexer] = value instead\n",
      "\n",
      "See the caveats in the documentation: https://pandas.pydata.org/pandas-docs/stable/user_guide/indexing.html#returning-a-view-versus-a-copy\n",
      "  new_anlyz[\"path\"] = new_anlyz[\"blob_home\"] + \"/\" + new_anlyz[\"data_root\"] + \"/\" + new_anlyz[\"cutout_path\"]\n",
      "/tmp/ipykernel_41034/306687636.py:5: SettingWithCopyWarning: \n",
      "A value is trying to be set on a copy of a slice from a DataFrame.\n",
      "Try using .loc[row_indexer,col_indexer] = value instead\n",
      "\n",
      "See the caveats in the documentation: https://pandas.pydata.org/pandas-docs/stable/user_guide/indexing.html#returning-a-view-versus-a-copy\n",
      "  new_anlyz[\"path\"] = new_anlyz[\"blob_home\"] + \"/\" + new_anlyz[\"data_root\"] + \"/\" + new_anlyz[\"cutout_path\"]\n"
     ]
    }
   ],
   "source": [
    "# Saving images by cluster values\n",
    "for cluster in df[\"cluster\"].unique():\n",
    "    new_anlyz = df[df[\"cluster\"]==cluster]\n",
    "    # new_anlyz = new_anlyz[new_anlyz[\"green_sum\"]<5000]\n",
    "    new_anlyz[\"path\"] = new_anlyz[\"blob_home\"] + \"/\" + new_anlyz[\"data_root\"] + \"/\" + new_anlyz[\"cutout_path\"]\n",
    "    cluster_dir = Path(\"/home/weedsci/matt/SemiF-AnnotationPipeline/data/semifield-cutouts/NC_2022-07-14_trash\", str(cluster))\n",
    "    cluster_dir.mkdir(exist_ok=False)\n",
    "    for save_path in new_anlyz[\"path\"]:\n",
    "        cut_name = Path(save_path).name\n",
    "        cut_dst = Path(cluster_dir, cut_name)\n",
    "        # shutil.copy2(save_path, cut_dst)"
   ]
  },
  {
   "cell_type": "code",
   "execution_count": null,
   "metadata": {},
   "outputs": [],
   "source": []
  }
 ],
 "metadata": {
  "kernelspec": {
   "display_name": "Python 3.9.0 ('semif_gpu': conda)",
   "language": "python",
   "name": "python3"
  },
  "language_info": {
   "codemirror_mode": {
    "name": "ipython",
    "version": 3
   },
   "file_extension": ".py",
   "mimetype": "text/x-python",
   "name": "python",
   "nbconvert_exporter": "python",
   "pygments_lexer": "ipython3",
   "version": "3.9.0"
  },
  "orig_nbformat": 4,
  "vscode": {
   "interpreter": {
    "hash": "0761b86a138a7d55b4f3c23d47d2d15f86714bfdaf7e37a783fa5b2853fc7c70"
   }
  }
 },
 "nbformat": 4,
 "nbformat_minor": 2
}
