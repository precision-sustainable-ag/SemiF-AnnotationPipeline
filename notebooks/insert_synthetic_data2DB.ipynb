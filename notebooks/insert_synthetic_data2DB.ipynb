{
 "cells": [
  {
   "cell_type": "code",
   "execution_count": 1,
   "metadata": {},
   "outputs": [],
   "source": [
    "import sys\n",
    "sys.path.append(\"..\")\n",
    "from semif_utils.mongo_utils import Connect, to_db, from_db\n",
    "from semif_utils.datasets import Pot, Background\n",
    "from semif_utils.synth_utils import dict_to_json\n",
    "import  uuid\n",
    "import cv2\n",
    "from pathlib import Path"
   ]
  },
  {
   "cell_type": "markdown",
   "metadata": {},
   "source": [
    "## Rename background and pot images\n"
   ]
  },
  {
   "cell_type": "code",
   "execution_count": 2,
   "metadata": {},
   "outputs": [],
   "source": [
    "# pot = Path(\"../blob_container/semifield-synthetic-images-trial/pots/row5_2.png\")\n",
    "# potuid = uuid.uuid4().hex\n",
    "# pot_parents = pot.parent\n",
    "# potpath = Path(pot_parents, str(potuid) + \".png\")\n",
    "\n",
    "# pimg = cv2.imread(str(pot), cv2.IMREAD_UNCHANGED)\n",
    "# cv2.imwrite(str(potpath), pimg)"
   ]
  },
  {
   "cell_type": "markdown",
   "metadata": {},
   "source": [
    "## Create db docs of background and pot and move to DB"
   ]
  },
  {
   "cell_type": "code",
   "execution_count": 4,
   "metadata": {},
   "outputs": [],
   "source": [
    "pot = Path(\"../blob_container/semifield-synthetic-images-trial/pots/d8453b13ab7b424fac446818b491bdf2.png\")\n",
    "back = Path(\"../blob_container/semifield-synthetic-images-trial/backgrounds/862f315672e94d30817809da4d109c48.png\")\n",
    "\n",
    "def create_pot(potpath, uuid_stem=False):\n",
    "    potuid = uuid.UUID(potpath.stem) if uuid_stem else uuid.uuid4()\n",
    "    pot = Pot(pot_path=str(Path(potpath).relative_to(Path(potpath).parent.parent)),\n",
    "                pot_id=potuid)\n",
    "    return pot\n",
    "def create_background(backpath, uuid_stem=False):\n",
    "    backuid = uuid.UUID(backpath.stem) if uuid_stem else uuid.uuid4()\n",
    "    back = Background(background_path=str(Path(backpath).relative_to(Path(backpath).parent.parent)),\n",
    "                background_id=backuid)\n",
    "    return back\n",
    "\n",
    "pot = create_pot(pot, uuid_stem=True)\n",
    "back = create_background(back, uuid_stem=True)\n"
   ]
  },
  {
   "cell_type": "code",
   "execution_count": 6,
   "metadata": {},
   "outputs": [
    {
     "name": "stdout",
     "output_type": "stream",
     "text": [
      "Pot(pot_path='pots/d8453b13ab7b424fac446818b491bdf2.png', pot_id=UUID('d8453b13-ab7b-424f-ac44-6818b491bdf2'))\n",
      "Background(background_path='backgrounds/862f315672e94d30817809da4d109c48.png', background_id=UUID('862f3156-72e9-4d30-8178-09da4d109c48'))\n"
     ]
    }
   ],
   "source": [
    "print(pot)\n",
    "print(back)"
   ]
  },
  {
   "cell_type": "code",
   "execution_count": 7,
   "metadata": {},
   "outputs": [],
   "source": [
    "\n",
    "db = getattr(Connect.get_connection(), \"test\")\n",
    "# to_db(db, \"Pots\", pot)\n",
    "# to_db(db, \"Backgrounds\", back)"
   ]
  },
  {
   "cell_type": "markdown",
   "metadata": {},
   "source": [
    "## Create json from background and pot db docs"
   ]
  },
  {
   "cell_type": "code",
   "execution_count": 8,
   "metadata": {},
   "outputs": [],
   "source": [
    "db = getattr(Connect.get_connection(), \"test\")\n",
    "backs = from_db(db, \"Backgrounds\")\n",
    "pots = from_db(db, \"Pots\")"
   ]
  },
  {
   "cell_type": "code",
   "execution_count": 9,
   "metadata": {},
   "outputs": [
    {
     "data": {
      "text/plain": [
       "{'_id': ObjectId('62842aae92bff7e65851eb86'),\n",
       " 'pot_path': 'pots/d8453b13ab7b424fac446818b491bdf2.png',\n",
       " 'pot_id': UUID('d8453b13-ab7b-424f-ac44-6818b491bdf2')}"
      ]
     },
     "execution_count": 9,
     "metadata": {},
     "output_type": "execute_result"
    }
   ],
   "source": [
    "pots[0]"
   ]
  },
  {
   "cell_type": "code",
   "execution_count": 10,
   "metadata": {},
   "outputs": [
    {
     "name": "stdout",
     "output_type": "stream",
     "text": [
      "../blob_container/semifield-synthetic-images-trial/backgrounds/862f315672e94d30817809da4d109c48.json\n"
     ]
    }
   ],
   "source": [
    "synthdir = Path(\"../blob_container/semifield-synthetic-images-trial\")\n",
    "backp = Path(backs[0][\"background_path\"])\n",
    "back_base = Path(backp.parent, backp.stem + \".json\")\n",
    "jsonpath = Path(synthdir, back_base)\n",
    "print(jsonpath)\n",
    "# dict_to_json(backs[0], jsonpath)\n",
    "\n"
   ]
  },
  {
   "cell_type": "code",
   "execution_count": 12,
   "metadata": {},
   "outputs": [
    {
     "name": "stdout",
     "output_type": "stream",
     "text": [
      "../blob_container/semifield-synthetic-images-trial/pots/d8453b13ab7b424fac446818b491bdf2.json\n"
     ]
    }
   ],
   "source": [
    "synthdir = Path(\"../blob_container/semifield-synthetic-images-trial\")\n",
    "potp = Path(pots[0][\"pot_path\"])\n",
    "pot_base = Path(potp.parent, potp.stem + \".json\")\n",
    "jsonpath = Path(synthdir, pot_base)\n",
    "print(jsonpath)\n",
    "# dict_to_json(pots[0], jsonpath)\n"
   ]
  },
  {
   "cell_type": "code",
   "execution_count": null,
   "metadata": {},
   "outputs": [],
   "source": []
  }
 ],
 "metadata": {
  "interpreter": {
   "hash": "59b627dbbc37ebbb1d7be1ff42181d533d94977a5210449e7ff5229441e2702b"
  },
  "kernelspec": {
   "display_name": "Python 3.9.12 ('autoann')",
   "language": "python",
   "name": "python3"
  },
  "language_info": {
   "codemirror_mode": {
    "name": "ipython",
    "version": 3
   },
   "file_extension": ".py",
   "mimetype": "text/x-python",
   "name": "python",
   "nbconvert_exporter": "python",
   "pygments_lexer": "ipython3",
   "version": "3.9.12"
  },
  "orig_nbformat": 4
 },
 "nbformat": 4,
 "nbformat_minor": 2
}
